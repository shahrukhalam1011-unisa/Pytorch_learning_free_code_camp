{
  "nbformat": 4,
  "nbformat_minor": 0,
  "metadata": {
    "colab": {
      "provenance": [],
      "toc_visible": true,
      "authorship_tag": "ABX9TyP/pzmEvXsl9ah4ox197Vcc",
      "include_colab_link": true
    },
    "kernelspec": {
      "name": "python3",
      "display_name": "Python 3"
    },
    "language_info": {
      "name": "python"
    }
  },
  "cells": [
    {
      "cell_type": "markdown",
      "metadata": {
        "id": "view-in-github",
        "colab_type": "text"
      },
      "source": [
        "<a href=\"https://colab.research.google.com/github/shahrukhalam1011-unisa/Pytorch_learning_free_code_camp/blob/main/Pytorch_fundamentals.ipynb\" target=\"_parent\"><img src=\"https://colab.research.google.com/assets/colab-badge.svg\" alt=\"Open In Colab\"/></a>"
      ]
    },
    {
      "cell_type": "code",
      "execution_count": 2,
      "metadata": {
        "colab": {
          "base_uri": "https://localhost:8080/"
        },
        "id": "FCS6foKOw0hI",
        "outputId": "dc7a1cd1-2113-4021-8700-3557a79974fc"
      },
      "outputs": [
        {
          "output_type": "stream",
          "name": "stdout",
          "text": [
            "2.6.0+cu124\n"
          ]
        }
      ],
      "source": [
        "import torch\n",
        "import pandas as pd\n",
        "import numpy as np\n",
        "import matplotlib.pyplot as plt\n",
        "print(torch.__version__)"
      ]
    },
    {
      "cell_type": "markdown",
      "source": [
        "# Introduction to Tensors\n",
        "\n",
        "## Creating tensors\n",
        "\n",
        "Pytorch tensors are created using torch.Tensor() = https://docs.pytorch.org/docs/stable/tensors.html"
      ],
      "metadata": {
        "id": "HwRY7OGk1arK"
      }
    },
    {
      "cell_type": "code",
      "source": [
        "# scalar\n",
        "scalar=torch.tensor(7)\n",
        "scalar"
      ],
      "metadata": {
        "colab": {
          "base_uri": "https://localhost:8080/"
        },
        "id": "eIpJYZvW1TYM",
        "outputId": "b0fb7044-16f8-428b-df72-027469e5dfe1"
      },
      "execution_count": 3,
      "outputs": [
        {
          "output_type": "execute_result",
          "data": {
            "text/plain": [
              "tensor(7)"
            ]
          },
          "metadata": {},
          "execution_count": 3
        }
      ]
    },
    {
      "cell_type": "code",
      "source": [
        "scalar.ndim"
      ],
      "metadata": {
        "colab": {
          "base_uri": "https://localhost:8080/"
        },
        "id": "xh5dsWRH1qYa",
        "outputId": "f50602c5-594b-4dd0-dcd2-af6673078c35"
      },
      "execution_count": 4,
      "outputs": [
        {
          "output_type": "execute_result",
          "data": {
            "text/plain": [
              "0"
            ]
          },
          "metadata": {},
          "execution_count": 4
        }
      ]
    },
    {
      "cell_type": "code",
      "source": [
        "# Get tensor back as Python int\n",
        "scalar.item()"
      ],
      "metadata": {
        "colab": {
          "base_uri": "https://localhost:8080/"
        },
        "id": "1xsTmEX_2dSN",
        "outputId": "0ac09489-946c-4f2f-e226-588672eed04f"
      },
      "execution_count": 5,
      "outputs": [
        {
          "output_type": "execute_result",
          "data": {
            "text/plain": [
              "7"
            ]
          },
          "metadata": {},
          "execution_count": 5
        }
      ]
    },
    {
      "cell_type": "code",
      "source": [
        "#Vector\n",
        "vector=torch.tensor([7,7])\n",
        "vector"
      ],
      "metadata": {
        "colab": {
          "base_uri": "https://localhost:8080/"
        },
        "id": "zl78cUJn3Onk",
        "outputId": "cd28526c-0ed5-447d-ff3e-ce4bf44302ae"
      },
      "execution_count": 6,
      "outputs": [
        {
          "output_type": "execute_result",
          "data": {
            "text/plain": [
              "tensor([7, 7])"
            ]
          },
          "metadata": {},
          "execution_count": 6
        }
      ]
    },
    {
      "cell_type": "code",
      "source": [
        "vector.ndim"
      ],
      "metadata": {
        "colab": {
          "base_uri": "https://localhost:8080/"
        },
        "id": "z1AwJ05w3VVs",
        "outputId": "1ed75e9b-aa62-4e6d-c123-032cb8148454"
      },
      "execution_count": 7,
      "outputs": [
        {
          "output_type": "execute_result",
          "data": {
            "text/plain": [
              "1"
            ]
          },
          "metadata": {},
          "execution_count": 7
        }
      ]
    },
    {
      "cell_type": "code",
      "source": [
        "vector.shape"
      ],
      "metadata": {
        "colab": {
          "base_uri": "https://localhost:8080/"
        },
        "id": "McwvRlgn3luD",
        "outputId": "e72769f8-a6c3-4d60-f25e-364b9dd92a87"
      },
      "execution_count": 8,
      "outputs": [
        {
          "output_type": "execute_result",
          "data": {
            "text/plain": [
              "torch.Size([2])"
            ]
          },
          "metadata": {},
          "execution_count": 8
        }
      ]
    },
    {
      "cell_type": "code",
      "source": [
        "#Matrix\n",
        "Matrix=torch.tensor([[7,8],[9,10]])\n",
        "Matrix"
      ],
      "metadata": {
        "colab": {
          "base_uri": "https://localhost:8080/"
        },
        "id": "pp2HDqnJ30Hv",
        "outputId": "83b234ee-9644-400c-fbc5-6b871c436426"
      },
      "execution_count": 9,
      "outputs": [
        {
          "output_type": "execute_result",
          "data": {
            "text/plain": [
              "tensor([[ 7,  8],\n",
              "        [ 9, 10]])"
            ]
          },
          "metadata": {},
          "execution_count": 9
        }
      ]
    },
    {
      "cell_type": "code",
      "source": [
        "Matrix[1]"
      ],
      "metadata": {
        "colab": {
          "base_uri": "https://localhost:8080/"
        },
        "id": "pwhZKQgz4yl5",
        "outputId": "6dd76669-79b2-4bb6-abb5-1448503054c2"
      },
      "execution_count": 10,
      "outputs": [
        {
          "output_type": "execute_result",
          "data": {
            "text/plain": [
              "tensor([ 9, 10])"
            ]
          },
          "metadata": {},
          "execution_count": 10
        }
      ]
    },
    {
      "cell_type": "code",
      "source": [
        "Matrix.ndim"
      ],
      "metadata": {
        "colab": {
          "base_uri": "https://localhost:8080/"
        },
        "id": "-qRW-oOb36F4",
        "outputId": "641bfa40-b87c-4d47-bda0-a3baa7e967eb"
      },
      "execution_count": 11,
      "outputs": [
        {
          "output_type": "execute_result",
          "data": {
            "text/plain": [
              "2"
            ]
          },
          "metadata": {},
          "execution_count": 11
        }
      ]
    },
    {
      "cell_type": "code",
      "source": [
        "Matrix.shape"
      ],
      "metadata": {
        "colab": {
          "base_uri": "https://localhost:8080/"
        },
        "id": "vFo0KH4V38Y2",
        "outputId": "5a130a00-1ece-4a07-96f7-fde2610001e7"
      },
      "execution_count": 12,
      "outputs": [
        {
          "output_type": "execute_result",
          "data": {
            "text/plain": [
              "torch.Size([2, 2])"
            ]
          },
          "metadata": {},
          "execution_count": 12
        }
      ]
    },
    {
      "cell_type": "code",
      "source": [
        "# Tensor\n",
        "Tensor=torch.tensor([[[1,2,3],[3,6,9],[2,4,5]]])\n",
        "Tensor"
      ],
      "metadata": {
        "colab": {
          "base_uri": "https://localhost:8080/"
        },
        "id": "tJ8SI5lf397b",
        "outputId": "eba00764-eb46-4155-b3b8-585bf69e21f9"
      },
      "execution_count": 13,
      "outputs": [
        {
          "output_type": "execute_result",
          "data": {
            "text/plain": [
              "tensor([[[1, 2, 3],\n",
              "         [3, 6, 9],\n",
              "         [2, 4, 5]]])"
            ]
          },
          "metadata": {},
          "execution_count": 13
        }
      ]
    },
    {
      "cell_type": "code",
      "source": [
        "Tensor.ndim"
      ],
      "metadata": {
        "colab": {
          "base_uri": "https://localhost:8080/"
        },
        "id": "VsL29ecu4PZ6",
        "outputId": "760e69d6-e2fe-454d-e2f5-8cb7abb39613"
      },
      "execution_count": 14,
      "outputs": [
        {
          "output_type": "execute_result",
          "data": {
            "text/plain": [
              "3"
            ]
          },
          "metadata": {},
          "execution_count": 14
        }
      ]
    },
    {
      "cell_type": "code",
      "source": [
        "Tensor.shape"
      ],
      "metadata": {
        "id": "r5J3JR964TCC",
        "colab": {
          "base_uri": "https://localhost:8080/"
        },
        "outputId": "34039d48-4d5f-4d15-b6d1-f0bcdbc155c2"
      },
      "execution_count": 15,
      "outputs": [
        {
          "output_type": "execute_result",
          "data": {
            "text/plain": [
              "torch.Size([1, 3, 3])"
            ]
          },
          "metadata": {},
          "execution_count": 15
        }
      ]
    },
    {
      "cell_type": "code",
      "source": [
        "Tensor2=torch.tensor([[[1,2,3,3,3],[2,3,5,3,4],[1,2,1,2,5],[2,3,5,6,1]]])"
      ],
      "metadata": {
        "id": "MXQQmw05xoq4"
      },
      "execution_count": 16,
      "outputs": []
    },
    {
      "cell_type": "code",
      "source": [
        "Tensor2"
      ],
      "metadata": {
        "colab": {
          "base_uri": "https://localhost:8080/"
        },
        "id": "M3oe3L0_yC_X",
        "outputId": "9c9b6f4b-c71a-47b4-a77f-b2bf13728c4a"
      },
      "execution_count": 17,
      "outputs": [
        {
          "output_type": "execute_result",
          "data": {
            "text/plain": [
              "tensor([[[1, 2, 3, 3, 3],\n",
              "         [2, 3, 5, 3, 4],\n",
              "         [1, 2, 1, 2, 5],\n",
              "         [2, 3, 5, 6, 1]]])"
            ]
          },
          "metadata": {},
          "execution_count": 17
        }
      ]
    },
    {
      "cell_type": "code",
      "source": [
        "Tensor2.shape"
      ],
      "metadata": {
        "colab": {
          "base_uri": "https://localhost:8080/"
        },
        "id": "EP_XfJDkyI3F",
        "outputId": "84e22af3-abc6-4c39-842d-d40c71afa813"
      },
      "execution_count": 18,
      "outputs": [
        {
          "output_type": "execute_result",
          "data": {
            "text/plain": [
              "torch.Size([1, 4, 5])"
            ]
          },
          "metadata": {},
          "execution_count": 18
        }
      ]
    },
    {
      "cell_type": "markdown",
      "source": [
        "### Random tensors\n",
        "\n",
        "Required since to start with random numbers and update to better represent the data"
      ],
      "metadata": {
        "id": "T5NZJ0pFzyxE"
      }
    },
    {
      "cell_type": "code",
      "source": [
        "## Create a random tensor of size (3,4)\n",
        "random_tensor=torch.rand(3,4)\n",
        "random_tensor"
      ],
      "metadata": {
        "colab": {
          "base_uri": "https://localhost:8080/"
        },
        "id": "ON7LDKZS0P41",
        "outputId": "cfacdef8-a31d-4aa5-d496-2b5a9608033e"
      },
      "execution_count": 19,
      "outputs": [
        {
          "output_type": "execute_result",
          "data": {
            "text/plain": [
              "tensor([[0.7839, 0.6123, 0.6421, 0.1855],\n",
              "        [0.6824, 0.7522, 0.3223, 0.1972],\n",
              "        [0.0625, 0.4178, 0.1824, 0.4856]])"
            ]
          },
          "metadata": {},
          "execution_count": 19
        }
      ]
    },
    {
      "cell_type": "code",
      "source": [
        "random_tensor2=torch.rand(2,3,10)"
      ],
      "metadata": {
        "id": "ZUrF2cKw0ZsH"
      },
      "execution_count": 20,
      "outputs": []
    },
    {
      "cell_type": "code",
      "source": [
        "random_tensor2"
      ],
      "metadata": {
        "colab": {
          "base_uri": "https://localhost:8080/"
        },
        "id": "vHxTbKNr1AMz",
        "outputId": "5bb53d7a-b3f1-4aa2-abdf-0c99c06a1a0c"
      },
      "execution_count": 21,
      "outputs": [
        {
          "output_type": "execute_result",
          "data": {
            "text/plain": [
              "tensor([[[0.9414, 0.2404, 0.9403, 0.2010, 0.4468, 0.9530, 0.9403, 0.7295,\n",
              "          0.9875, 0.3274],\n",
              "         [0.5663, 0.1067, 0.5395, 0.3691, 0.9086, 0.2341, 0.6668, 0.3225,\n",
              "          0.2445, 0.5428],\n",
              "         [0.0866, 0.0335, 0.6256, 0.2811, 0.4344, 0.0837, 0.9468, 0.7825,\n",
              "          0.9342, 0.0318]],\n",
              "\n",
              "        [[0.9215, 0.0972, 0.3052, 0.9832, 0.5147, 0.0328, 0.5931, 0.3399,\n",
              "          0.3223, 0.0519],\n",
              "         [0.8622, 0.5986, 0.9578, 0.2209, 0.0924, 0.1322, 0.8529, 0.0706,\n",
              "          0.3092, 0.0192],\n",
              "         [0.8094, 0.0942, 0.2891, 0.5935, 0.7234, 0.6312, 0.2069, 0.9153,\n",
              "          0.9223, 0.3406]]])"
            ]
          },
          "metadata": {},
          "execution_count": 21
        }
      ]
    },
    {
      "cell_type": "code",
      "source": [
        "random_tensor2.shape"
      ],
      "metadata": {
        "colab": {
          "base_uri": "https://localhost:8080/"
        },
        "id": "dZeIHRSv1PDP",
        "outputId": "b4b8489f-3084-4be4-ba8c-bc387ee55208"
      },
      "execution_count": 22,
      "outputs": [
        {
          "output_type": "execute_result",
          "data": {
            "text/plain": [
              "torch.Size([2, 3, 10])"
            ]
          },
          "metadata": {},
          "execution_count": 22
        }
      ]
    },
    {
      "cell_type": "code",
      "source": [
        "random_tensor2.ndim"
      ],
      "metadata": {
        "colab": {
          "base_uri": "https://localhost:8080/"
        },
        "id": "t9wy29F01SPe",
        "outputId": "eceadf6e-72ea-4da5-9af3-78402eb76aad"
      },
      "execution_count": 23,
      "outputs": [
        {
          "output_type": "execute_result",
          "data": {
            "text/plain": [
              "3"
            ]
          },
          "metadata": {},
          "execution_count": 23
        }
      ]
    },
    {
      "cell_type": "code",
      "source": [
        "random_tensor3=torch.rand(200,344,100)"
      ],
      "metadata": {
        "id": "HgchZ3_b1BYj"
      },
      "execution_count": 24,
      "outputs": []
    },
    {
      "cell_type": "code",
      "source": [
        "random_tensor3"
      ],
      "metadata": {
        "colab": {
          "base_uri": "https://localhost:8080/"
        },
        "id": "p5mQ6ScH1GjX",
        "outputId": "c360a791-8072-4aa7-ed95-a21372f65c78"
      },
      "execution_count": 25,
      "outputs": [
        {
          "output_type": "execute_result",
          "data": {
            "text/plain": [
              "tensor([[[0.6750, 0.3453, 0.3191,  ..., 0.3016, 0.1116, 0.7388],\n",
              "         [0.2639, 0.4038, 0.8624,  ..., 0.1663, 0.8354, 0.9450],\n",
              "         [0.1608, 0.2633, 0.7111,  ..., 0.3518, 0.2133, 0.0678],\n",
              "         ...,\n",
              "         [0.5062, 0.4353, 0.7915,  ..., 0.5657, 0.9590, 0.7765],\n",
              "         [0.3150, 0.7211, 0.7790,  ..., 0.5911, 0.0196, 0.8064],\n",
              "         [0.3231, 0.0300, 0.3103,  ..., 0.9203, 0.2879, 0.6538]],\n",
              "\n",
              "        [[0.5463, 0.2624, 0.1212,  ..., 0.0893, 0.5644, 0.0623],\n",
              "         [0.8294, 0.4541, 0.8981,  ..., 0.7381, 0.1002, 0.7651],\n",
              "         [0.3162, 0.9681, 0.6299,  ..., 0.0674, 0.1138, 0.9013],\n",
              "         ...,\n",
              "         [0.9498, 0.7043, 0.3835,  ..., 0.5424, 0.2573, 0.4094],\n",
              "         [0.5010, 0.2786, 0.3741,  ..., 0.5131, 0.9634, 0.6125],\n",
              "         [0.9998, 0.9535, 0.4412,  ..., 0.5212, 0.6840, 0.9584]],\n",
              "\n",
              "        [[0.5527, 0.6595, 0.2727,  ..., 0.5469, 0.1467, 0.2228],\n",
              "         [0.2842, 0.6149, 0.5346,  ..., 0.7271, 0.7973, 0.1388],\n",
              "         [0.6183, 0.9216, 0.9487,  ..., 0.0862, 0.7953, 0.4580],\n",
              "         ...,\n",
              "         [0.3748, 0.5462, 0.7068,  ..., 0.3170, 0.6251, 0.8210],\n",
              "         [0.3525, 0.1547, 0.5791,  ..., 0.6187, 0.6568, 0.0117],\n",
              "         [0.1609, 0.8148, 0.1490,  ..., 0.5462, 0.3579, 0.2010]],\n",
              "\n",
              "        ...,\n",
              "\n",
              "        [[0.1776, 0.6998, 0.6353,  ..., 0.2349, 0.1055, 0.1518],\n",
              "         [0.7886, 0.1709, 0.6997,  ..., 0.3309, 0.8235, 0.3596],\n",
              "         [0.5454, 0.0518, 0.5589,  ..., 0.4874, 0.9708, 0.6866],\n",
              "         ...,\n",
              "         [0.0610, 0.7799, 0.1117,  ..., 0.4360, 0.6201, 0.3462],\n",
              "         [0.6827, 0.4727, 0.5206,  ..., 0.8847, 0.1510, 0.6270],\n",
              "         [0.6364, 0.6282, 0.9922,  ..., 0.1086, 0.2771, 0.0786]],\n",
              "\n",
              "        [[0.3291, 0.4716, 0.6017,  ..., 0.0639, 0.3190, 0.3613],\n",
              "         [0.4801, 0.0829, 0.2995,  ..., 0.1210, 0.3678, 0.7231],\n",
              "         [0.5121, 0.0300, 0.2473,  ..., 0.8453, 0.8717, 0.5029],\n",
              "         ...,\n",
              "         [0.7059, 0.3535, 0.5221,  ..., 0.0755, 0.3726, 0.2378],\n",
              "         [0.7436, 0.6857, 0.3792,  ..., 0.8428, 0.5767, 0.3922],\n",
              "         [0.0288, 0.1643, 0.7292,  ..., 0.9508, 0.3604, 0.4595]],\n",
              "\n",
              "        [[0.1555, 0.0395, 0.4869,  ..., 0.6973, 0.7248, 0.8870],\n",
              "         [0.9660, 0.4242, 0.4557,  ..., 0.9995, 0.0112, 0.7458],\n",
              "         [0.4462, 0.8978, 0.7884,  ..., 0.5258, 0.5565, 0.2788],\n",
              "         ...,\n",
              "         [0.3280, 0.7005, 0.1163,  ..., 0.5983, 0.0942, 0.7215],\n",
              "         [0.8541, 0.1434, 0.1454,  ..., 0.8033, 0.3629, 0.6061],\n",
              "         [0.6212, 0.9385, 0.5872,  ..., 0.2161, 0.5319, 0.0715]]])"
            ]
          },
          "metadata": {},
          "execution_count": 25
        }
      ]
    },
    {
      "cell_type": "code",
      "source": [
        "random_tensor3.shape"
      ],
      "metadata": {
        "colab": {
          "base_uri": "https://localhost:8080/"
        },
        "id": "rJ8RuIHS1Hkm",
        "outputId": "0637fc65-3372-4001-fdc7-0064d897cfc6"
      },
      "execution_count": 26,
      "outputs": [
        {
          "output_type": "execute_result",
          "data": {
            "text/plain": [
              "torch.Size([200, 344, 100])"
            ]
          },
          "metadata": {},
          "execution_count": 26
        }
      ]
    },
    {
      "cell_type": "code",
      "source": [
        "random_tensor3.ndim"
      ],
      "metadata": {
        "colab": {
          "base_uri": "https://localhost:8080/"
        },
        "id": "0RguclY_1XDK",
        "outputId": "fd331abf-e82f-4509-99e6-05de7a4935e1"
      },
      "execution_count": 27,
      "outputs": [
        {
          "output_type": "execute_result",
          "data": {
            "text/plain": [
              "3"
            ]
          },
          "metadata": {},
          "execution_count": 27
        }
      ]
    },
    {
      "cell_type": "code",
      "source": [
        "random_tensor4=torch.rand(3,2,5,5)"
      ],
      "metadata": {
        "id": "XQ02Aq4X1ee9"
      },
      "execution_count": 28,
      "outputs": []
    },
    {
      "cell_type": "code",
      "source": [
        "random_tensor4"
      ],
      "metadata": {
        "colab": {
          "base_uri": "https://localhost:8080/"
        },
        "id": "MXRnKllr1tbR",
        "outputId": "06c2699b-8570-4ea5-c3c5-609bb4ea915d"
      },
      "execution_count": 29,
      "outputs": [
        {
          "output_type": "execute_result",
          "data": {
            "text/plain": [
              "tensor([[[[0.4822, 0.2266, 0.1152, 0.4109, 0.6226],\n",
              "          [0.3379, 0.6110, 0.5411, 0.8187, 0.0480],\n",
              "          [0.3473, 0.9801, 0.2238, 0.2990, 0.9475],\n",
              "          [0.9783, 0.5429, 0.6008, 0.7921, 0.4741],\n",
              "          [0.1507, 0.7087, 0.5073, 0.5730, 0.8732]],\n",
              "\n",
              "         [[0.9000, 0.6234, 0.4722, 0.7800, 0.4359],\n",
              "          [0.7004, 0.3543, 0.7210, 0.7479, 0.4441],\n",
              "          [0.4414, 0.3604, 0.6866, 0.3234, 0.3747],\n",
              "          [0.5274, 0.6643, 0.5177, 0.0302, 0.7886],\n",
              "          [0.7997, 0.3120, 0.9154, 0.0206, 0.7422]]],\n",
              "\n",
              "\n",
              "        [[[0.2737, 0.1716, 0.8955, 0.7367, 0.6262],\n",
              "          [0.4939, 0.2738, 0.9429, 0.8602, 0.4562],\n",
              "          [0.9349, 0.1375, 0.4190, 0.7371, 0.7868],\n",
              "          [0.3640, 0.8291, 0.1455, 0.1877, 0.6125],\n",
              "          [0.6593, 0.3297, 0.3007, 0.6155, 0.0090]],\n",
              "\n",
              "         [[0.3228, 0.6025, 0.6125, 0.1537, 0.1443],\n",
              "          [0.5566, 0.5338, 0.8721, 0.3147, 0.8521],\n",
              "          [0.1705, 0.4725, 0.5991, 0.3028, 0.8197],\n",
              "          [0.1203, 0.1728, 0.9366, 0.1303, 0.1578],\n",
              "          [0.9440, 0.8522, 0.6501, 0.7859, 0.0805]]],\n",
              "\n",
              "\n",
              "        [[[0.2037, 0.8498, 0.8513, 0.3378, 0.6304],\n",
              "          [0.8167, 0.1737, 0.5816, 0.3248, 0.3606],\n",
              "          [0.3280, 0.7087, 0.9628, 0.5406, 0.5231],\n",
              "          [0.3627, 0.6845, 0.6011, 0.4326, 0.3165],\n",
              "          [0.8189, 0.5856, 0.1042, 0.2734, 0.9576]],\n",
              "\n",
              "         [[0.3646, 0.1461, 0.7985, 0.6067, 0.2438],\n",
              "          [0.9608, 0.7973, 0.3341, 0.7990, 0.8165],\n",
              "          [0.1063, 0.9520, 0.4573, 0.1310, 0.7800],\n",
              "          [0.7054, 0.5267, 0.4054, 0.9158, 0.6949],\n",
              "          [0.3196, 0.1403, 0.7361, 0.8379, 0.5489]]]])"
            ]
          },
          "metadata": {},
          "execution_count": 29
        }
      ]
    },
    {
      "cell_type": "code",
      "source": [
        "random_tensor4.ndim"
      ],
      "metadata": {
        "colab": {
          "base_uri": "https://localhost:8080/"
        },
        "id": "b41m78FB1vhR",
        "outputId": "a3248b87-e7f7-4a73-af63-0a30cd4824f3"
      },
      "execution_count": 30,
      "outputs": [
        {
          "output_type": "execute_result",
          "data": {
            "text/plain": [
              "4"
            ]
          },
          "metadata": {},
          "execution_count": 30
        }
      ]
    },
    {
      "cell_type": "code",
      "source": [
        "# Create a random tensor with similar shape to an image tensor\n",
        "random_image_size_tensor=torch.rand(size=(3,224,224)) # colour channel, height, width"
      ],
      "metadata": {
        "id": "4bYCXj8a1-uj"
      },
      "execution_count": 31,
      "outputs": []
    },
    {
      "cell_type": "code",
      "source": [
        "random_image_size_tensor"
      ],
      "metadata": {
        "colab": {
          "base_uri": "https://localhost:8080/"
        },
        "id": "b4BVM8BL3k69",
        "outputId": "27394b88-8560-46b9-9f60-2c840c5d6e8e"
      },
      "execution_count": 32,
      "outputs": [
        {
          "output_type": "execute_result",
          "data": {
            "text/plain": [
              "tensor([[[0.0990, 0.8376, 0.7480,  ..., 0.8966, 0.0685, 0.7718],\n",
              "         [0.7582, 0.6587, 0.5480,  ..., 0.8331, 0.9925, 0.4622],\n",
              "         [0.8557, 0.2572, 0.7452,  ..., 0.4837, 0.2956, 0.2146],\n",
              "         ...,\n",
              "         [0.4965, 0.6575, 0.0147,  ..., 0.2245, 0.7678, 0.3394],\n",
              "         [0.0730, 0.4730, 0.3568,  ..., 0.5717, 0.7102, 0.0067],\n",
              "         [0.1346, 0.5480, 0.4063,  ..., 0.2891, 0.2758, 0.8537]],\n",
              "\n",
              "        [[0.4481, 0.4103, 0.8377,  ..., 0.9730, 0.1508, 0.3527],\n",
              "         [0.2602, 0.7374, 0.7420,  ..., 0.2158, 0.3177, 0.4894],\n",
              "         [0.5899, 0.0444, 0.3682,  ..., 0.4904, 0.9236, 0.2512],\n",
              "         ...,\n",
              "         [0.4157, 0.3646, 0.8851,  ..., 0.7764, 0.8023, 0.8931],\n",
              "         [0.7895, 0.1458, 0.5966,  ..., 0.4296, 0.5154, 0.1883],\n",
              "         [0.3813, 0.0331, 0.8583,  ..., 0.1727, 0.6657, 0.8898]],\n",
              "\n",
              "        [[0.3085, 0.7174, 0.7720,  ..., 0.5755, 0.7577, 0.8546],\n",
              "         [0.4454, 0.4230, 0.5690,  ..., 0.0962, 0.9328, 0.8802],\n",
              "         [0.6858, 0.6259, 0.9223,  ..., 0.3756, 0.4418, 0.2706],\n",
              "         ...,\n",
              "         [0.9196, 0.3971, 0.8744,  ..., 0.6386, 0.9966, 0.9833],\n",
              "         [0.2634, 0.3832, 0.7399,  ..., 0.0031, 0.0481, 0.2442],\n",
              "         [0.0933, 0.6406, 0.8697,  ..., 0.9787, 0.8439, 0.0220]]])"
            ]
          },
          "metadata": {},
          "execution_count": 32
        }
      ]
    },
    {
      "cell_type": "markdown",
      "source": [
        "### Zeroes and ones"
      ],
      "metadata": {
        "id": "KlZxdRKW3m03"
      }
    },
    {
      "cell_type": "code",
      "source": [
        "#Create a tensor of all zeros\n",
        "zeros=torch.zeros(size=(3,224,224))\n",
        "ones=torch.ones(size=(3,224,224))"
      ],
      "metadata": {
        "id": "hXSosj0r4OEW"
      },
      "execution_count": 33,
      "outputs": []
    },
    {
      "cell_type": "code",
      "source": [
        "zeros\n",
        "ones"
      ],
      "metadata": {
        "colab": {
          "base_uri": "https://localhost:8080/"
        },
        "id": "Dn1g2F4q4_nV",
        "outputId": "a2567705-d184-4e04-fec6-e125120bb65f"
      },
      "execution_count": 34,
      "outputs": [
        {
          "output_type": "execute_result",
          "data": {
            "text/plain": [
              "tensor([[[1., 1., 1.,  ..., 1., 1., 1.],\n",
              "         [1., 1., 1.,  ..., 1., 1., 1.],\n",
              "         [1., 1., 1.,  ..., 1., 1., 1.],\n",
              "         ...,\n",
              "         [1., 1., 1.,  ..., 1., 1., 1.],\n",
              "         [1., 1., 1.,  ..., 1., 1., 1.],\n",
              "         [1., 1., 1.,  ..., 1., 1., 1.]],\n",
              "\n",
              "        [[1., 1., 1.,  ..., 1., 1., 1.],\n",
              "         [1., 1., 1.,  ..., 1., 1., 1.],\n",
              "         [1., 1., 1.,  ..., 1., 1., 1.],\n",
              "         ...,\n",
              "         [1., 1., 1.,  ..., 1., 1., 1.],\n",
              "         [1., 1., 1.,  ..., 1., 1., 1.],\n",
              "         [1., 1., 1.,  ..., 1., 1., 1.]],\n",
              "\n",
              "        [[1., 1., 1.,  ..., 1., 1., 1.],\n",
              "         [1., 1., 1.,  ..., 1., 1., 1.],\n",
              "         [1., 1., 1.,  ..., 1., 1., 1.],\n",
              "         ...,\n",
              "         [1., 1., 1.,  ..., 1., 1., 1.],\n",
              "         [1., 1., 1.,  ..., 1., 1., 1.],\n",
              "         [1., 1., 1.,  ..., 1., 1., 1.]]])"
            ]
          },
          "metadata": {},
          "execution_count": 34
        }
      ]
    },
    {
      "cell_type": "code",
      "source": [
        "zeros*random_image_size_tensor"
      ],
      "metadata": {
        "colab": {
          "base_uri": "https://localhost:8080/"
        },
        "id": "7Gn10GlQ5BrZ",
        "outputId": "ec676220-3fd4-4367-81b1-5c4ec0e0f46f"
      },
      "execution_count": 35,
      "outputs": [
        {
          "output_type": "execute_result",
          "data": {
            "text/plain": [
              "tensor([[[0., 0., 0.,  ..., 0., 0., 0.],\n",
              "         [0., 0., 0.,  ..., 0., 0., 0.],\n",
              "         [0., 0., 0.,  ..., 0., 0., 0.],\n",
              "         ...,\n",
              "         [0., 0., 0.,  ..., 0., 0., 0.],\n",
              "         [0., 0., 0.,  ..., 0., 0., 0.],\n",
              "         [0., 0., 0.,  ..., 0., 0., 0.]],\n",
              "\n",
              "        [[0., 0., 0.,  ..., 0., 0., 0.],\n",
              "         [0., 0., 0.,  ..., 0., 0., 0.],\n",
              "         [0., 0., 0.,  ..., 0., 0., 0.],\n",
              "         ...,\n",
              "         [0., 0., 0.,  ..., 0., 0., 0.],\n",
              "         [0., 0., 0.,  ..., 0., 0., 0.],\n",
              "         [0., 0., 0.,  ..., 0., 0., 0.]],\n",
              "\n",
              "        [[0., 0., 0.,  ..., 0., 0., 0.],\n",
              "         [0., 0., 0.,  ..., 0., 0., 0.],\n",
              "         [0., 0., 0.,  ..., 0., 0., 0.],\n",
              "         ...,\n",
              "         [0., 0., 0.,  ..., 0., 0., 0.],\n",
              "         [0., 0., 0.,  ..., 0., 0., 0.],\n",
              "         [0., 0., 0.,  ..., 0., 0., 0.]]])"
            ]
          },
          "metadata": {},
          "execution_count": 35
        }
      ]
    },
    {
      "cell_type": "code",
      "source": [
        "ones*random_image_size_tensor"
      ],
      "metadata": {
        "colab": {
          "base_uri": "https://localhost:8080/"
        },
        "id": "uR_2LAZD5HuM",
        "outputId": "12c7b9d7-4068-4f14-e554-0ee01a022d46"
      },
      "execution_count": 36,
      "outputs": [
        {
          "output_type": "execute_result",
          "data": {
            "text/plain": [
              "tensor([[[0.0990, 0.8376, 0.7480,  ..., 0.8966, 0.0685, 0.7718],\n",
              "         [0.7582, 0.6587, 0.5480,  ..., 0.8331, 0.9925, 0.4622],\n",
              "         [0.8557, 0.2572, 0.7452,  ..., 0.4837, 0.2956, 0.2146],\n",
              "         ...,\n",
              "         [0.4965, 0.6575, 0.0147,  ..., 0.2245, 0.7678, 0.3394],\n",
              "         [0.0730, 0.4730, 0.3568,  ..., 0.5717, 0.7102, 0.0067],\n",
              "         [0.1346, 0.5480, 0.4063,  ..., 0.2891, 0.2758, 0.8537]],\n",
              "\n",
              "        [[0.4481, 0.4103, 0.8377,  ..., 0.9730, 0.1508, 0.3527],\n",
              "         [0.2602, 0.7374, 0.7420,  ..., 0.2158, 0.3177, 0.4894],\n",
              "         [0.5899, 0.0444, 0.3682,  ..., 0.4904, 0.9236, 0.2512],\n",
              "         ...,\n",
              "         [0.4157, 0.3646, 0.8851,  ..., 0.7764, 0.8023, 0.8931],\n",
              "         [0.7895, 0.1458, 0.5966,  ..., 0.4296, 0.5154, 0.1883],\n",
              "         [0.3813, 0.0331, 0.8583,  ..., 0.1727, 0.6657, 0.8898]],\n",
              "\n",
              "        [[0.3085, 0.7174, 0.7720,  ..., 0.5755, 0.7577, 0.8546],\n",
              "         [0.4454, 0.4230, 0.5690,  ..., 0.0962, 0.9328, 0.8802],\n",
              "         [0.6858, 0.6259, 0.9223,  ..., 0.3756, 0.4418, 0.2706],\n",
              "         ...,\n",
              "         [0.9196, 0.3971, 0.8744,  ..., 0.6386, 0.9966, 0.9833],\n",
              "         [0.2634, 0.3832, 0.7399,  ..., 0.0031, 0.0481, 0.2442],\n",
              "         [0.0933, 0.6406, 0.8697,  ..., 0.9787, 0.8439, 0.0220]]])"
            ]
          },
          "metadata": {},
          "execution_count": 36
        }
      ]
    },
    {
      "cell_type": "markdown",
      "source": [
        "### Creating a range of tensors and tensors-like"
      ],
      "metadata": {
        "id": "HhXfNDWe5Y3i"
      }
    },
    {
      "cell_type": "code",
      "source": [
        "#Use torch.arange()\n",
        "torch.arange(1,11)\n"
      ],
      "metadata": {
        "colab": {
          "base_uri": "https://localhost:8080/"
        },
        "id": "63GhvpyS5g0A",
        "outputId": "f70e0451-64b5-4b84-dfb4-f6b212203032"
      },
      "execution_count": 37,
      "outputs": [
        {
          "output_type": "execute_result",
          "data": {
            "text/plain": [
              "tensor([ 1,  2,  3,  4,  5,  6,  7,  8,  9, 10])"
            ]
          },
          "metadata": {},
          "execution_count": 37
        }
      ]
    },
    {
      "cell_type": "code",
      "source": [
        "one_to_ten=torch.arange(start=1, end=10, step=2)\n",
        "one_to_ten"
      ],
      "metadata": {
        "colab": {
          "base_uri": "https://localhost:8080/"
        },
        "id": "lwFrHgvQ5pJk",
        "outputId": "475880e6-a6c0-4d0f-e17f-6dda559adbf3"
      },
      "execution_count": 38,
      "outputs": [
        {
          "output_type": "execute_result",
          "data": {
            "text/plain": [
              "tensor([1, 3, 5, 7, 9])"
            ]
          },
          "metadata": {},
          "execution_count": 38
        }
      ]
    },
    {
      "cell_type": "code",
      "source": [
        "#Creating tensors like\n",
        "ten_zeros=torch.zeros_like(input=one_to_ten)"
      ],
      "metadata": {
        "id": "UI1OirSd6aJ6"
      },
      "execution_count": 39,
      "outputs": []
    },
    {
      "cell_type": "code",
      "source": [
        "ten_zeros"
      ],
      "metadata": {
        "colab": {
          "base_uri": "https://localhost:8080/"
        },
        "id": "P2NGyCyX6t_N",
        "outputId": "8a1fe696-0e21-40e4-d6ba-9f91258854f1"
      },
      "execution_count": 40,
      "outputs": [
        {
          "output_type": "execute_result",
          "data": {
            "text/plain": [
              "tensor([0, 0, 0, 0, 0])"
            ]
          },
          "metadata": {},
          "execution_count": 40
        }
      ]
    },
    {
      "cell_type": "markdown",
      "source": [
        "### Tensor datatypes"
      ],
      "metadata": {
        "id": "YmuANE976yHb"
      }
    },
    {
      "cell_type": "code",
      "source": [
        "# Float 32 tensor\n",
        "float_32_tensor=torch.tensor([3.0,6.0,9.0], dtype=torch.float16 #what datatype is the tensor\n",
        "                             , device=None # Device tensor is on\n",
        "                             ,\n",
        "                             requires_grad=False # Whether to track gradient for the tensor\n",
        "                             )\n",
        "float_32_tensor"
      ],
      "metadata": {
        "colab": {
          "base_uri": "https://localhost:8080/"
        },
        "id": "XHJPPwZq7B7p",
        "outputId": "a3de7698-41b4-46cf-81ce-2a70fc105cd9"
      },
      "execution_count": 41,
      "outputs": [
        {
          "output_type": "execute_result",
          "data": {
            "text/plain": [
              "tensor([3., 6., 9.], dtype=torch.float16)"
            ]
          },
          "metadata": {},
          "execution_count": 41
        }
      ]
    },
    {
      "cell_type": "code",
      "source": [
        "new_int_tensor_train=torch.rand(3,4)"
      ],
      "metadata": {
        "id": "36SbTyKC7Iaq"
      },
      "execution_count": 42,
      "outputs": []
    },
    {
      "cell_type": "code",
      "source": [
        "new_int_tensor_train"
      ],
      "metadata": {
        "colab": {
          "base_uri": "https://localhost:8080/"
        },
        "id": "BVdaY5BsA_Cc",
        "outputId": "ba6c75b4-373a-4b96-c864-bdebe920fecc"
      },
      "execution_count": 43,
      "outputs": [
        {
          "output_type": "execute_result",
          "data": {
            "text/plain": [
              "tensor([[0.5298, 0.9242, 0.0989, 0.3759],\n",
              "        [0.5723, 0.6366, 0.6136, 0.5692],\n",
              "        [0.7739, 0.1878, 0.8752, 0.2600]])"
            ]
          },
          "metadata": {},
          "execution_count": 43
        }
      ]
    },
    {
      "cell_type": "code",
      "source": [
        "# Find details of tensor\n",
        "\n",
        "print(f\"Datatype is: {new_int_tensor_train.dtype}\")\n",
        "print(f\"Shape is: {new_int_tensor_train.shape}\")\n",
        "print(f\"Device is: {new_int_tensor_train.device}\")"
      ],
      "metadata": {
        "colab": {
          "base_uri": "https://localhost:8080/"
        },
        "id": "0ONEZFYECx-a",
        "outputId": "51339364-1dca-4897-c5a8-a2f60deeb627"
      },
      "execution_count": 44,
      "outputs": [
        {
          "output_type": "stream",
          "name": "stdout",
          "text": [
            "Datatype is: torch.float32\n",
            "Shape is: torch.Size([3, 4])\n",
            "Device is: cpu\n"
          ]
        }
      ]
    },
    {
      "cell_type": "code",
      "source": [
        "# Change data type using .to\n",
        "change_new_int_tensor_train=new_int_tensor_train.to(torch.float16)\n",
        "change_new_int_tensor_train"
      ],
      "metadata": {
        "colab": {
          "base_uri": "https://localhost:8080/"
        },
        "id": "nbuGUTf8FdzR",
        "outputId": "d301517e-951b-4eb2-9f45-6aec6d9e8858"
      },
      "execution_count": 45,
      "outputs": [
        {
          "output_type": "execute_result",
          "data": {
            "text/plain": [
              "tensor([[0.5298, 0.9243, 0.0989, 0.3760],\n",
              "        [0.5723, 0.6367, 0.6138, 0.5693],\n",
              "        [0.7739, 0.1879, 0.8750, 0.2600]], dtype=torch.float16)"
            ]
          },
          "metadata": {},
          "execution_count": 45
        }
      ]
    },
    {
      "cell_type": "code",
      "source": [
        "# Change data type using .type\n",
        "change_new_int_tensor_train=new_int_tensor_train.type(torch.float16)\n",
        "change_new_int_tensor_train"
      ],
      "metadata": {
        "colab": {
          "base_uri": "https://localhost:8080/"
        },
        "id": "LYVGgv0Gv9Nh",
        "outputId": "260247f1-9f1c-4ea6-decc-b878f3a7fa7d"
      },
      "execution_count": 52,
      "outputs": [
        {
          "output_type": "execute_result",
          "data": {
            "text/plain": [
              "tensor([[0.5298, 0.9243, 0.0989, 0.3760],\n",
              "        [0.5723, 0.6367, 0.6138, 0.5693],\n",
              "        [0.7739, 0.1879, 0.8750, 0.2600]], dtype=torch.float16)"
            ]
          },
          "metadata": {},
          "execution_count": 52
        }
      ]
    },
    {
      "cell_type": "code",
      "source": [
        "# Multiply different types of tensor\n",
        "new_int_tensor_train*change_new_int_tensor_train"
      ],
      "metadata": {
        "colab": {
          "base_uri": "https://localhost:8080/"
        },
        "id": "VRl9ezz5wsQ-",
        "outputId": "7501a51d-000d-40cb-cd87-efef3f311ab0"
      },
      "execution_count": 53,
      "outputs": [
        {
          "output_type": "execute_result",
          "data": {
            "text/plain": [
              "tensor([[0.2807, 0.8542, 0.0098, 0.1413],\n",
              "        [0.3275, 0.4053, 0.3766, 0.3241],\n",
              "        [0.5989, 0.0353, 0.7658, 0.0676]])"
            ]
          },
          "metadata": {},
          "execution_count": 53
        }
      ]
    },
    {
      "cell_type": "code",
      "source": [
        "int_32_tensor=new_int_tensor_train.type(torch.int32)\n",
        "int_32_tensor"
      ],
      "metadata": {
        "colab": {
          "base_uri": "https://localhost:8080/"
        },
        "id": "xz88q2CLw62y",
        "outputId": "145274bc-9568-45ca-ff3b-6395a1f7c32e"
      },
      "execution_count": 56,
      "outputs": [
        {
          "output_type": "execute_result",
          "data": {
            "text/plain": [
              "tensor([[0, 0, 0, 0],\n",
              "        [0, 0, 0, 0],\n",
              "        [0, 0, 0, 0]], dtype=torch.int32)"
            ]
          },
          "metadata": {},
          "execution_count": 56
        }
      ]
    },
    {
      "cell_type": "code",
      "source": [
        "int_32_tensor*new_int_tensor_train"
      ],
      "metadata": {
        "colab": {
          "base_uri": "https://localhost:8080/"
        },
        "id": "EMAL_kO3xtuF",
        "outputId": "b9e80432-2675-40ce-ac76-884fdc60e1fa"
      },
      "execution_count": 57,
      "outputs": [
        {
          "output_type": "execute_result",
          "data": {
            "text/plain": [
              "tensor([[0., 0., 0., 0.],\n",
              "        [0., 0., 0., 0.],\n",
              "        [0., 0., 0., 0.]])"
            ]
          },
          "metadata": {},
          "execution_count": 57
        }
      ]
    },
    {
      "cell_type": "markdown",
      "source": [
        "### Getting information from tensors\n",
        "\n",
        "1. Tensors not the right datatype - to get datatype from a tensor, can use tensor.dtype\n",
        "2. Tensors not the right shape - to get shape from a tensor, can use tensor.shape\n",
        "3. Tensors not on the right device - to get device from a tensor, can use tensor.device"
      ],
      "metadata": {
        "id": "4Ooz8gHtx_qY"
      }
    },
    {
      "cell_type": "code",
      "source": [
        "# Create a tensor\n",
        "some_tensor=torch.rand(3,4)\n",
        "some_tensor"
      ],
      "metadata": {
        "colab": {
          "base_uri": "https://localhost:8080/"
        },
        "id": "G-n0BJzlykr3",
        "outputId": "6ecd6cdd-1179-43bf-cb2f-98e287373d46"
      },
      "execution_count": 58,
      "outputs": [
        {
          "output_type": "execute_result",
          "data": {
            "text/plain": [
              "tensor([[0.0618, 0.0365, 0.5673, 0.9360],\n",
              "        [0.0527, 0.8873, 0.7550, 0.3937],\n",
              "        [0.9014, 0.1102, 0.6851, 0.1841]])"
            ]
          },
          "metadata": {},
          "execution_count": 58
        }
      ]
    },
    {
      "cell_type": "code",
      "source": [
        "# Find out details about some tensor\n",
        "print(some_tensor)\n",
        "print(f\"Datatype of tensor: {some_tensor.dtype}\")\n",
        "print(f\"Shape of tensor: {some_tensor.shape}\")\n",
        "print(f\"Device of tensor: {some_tensor.device}\")"
      ],
      "metadata": {
        "colab": {
          "base_uri": "https://localhost:8080/"
        },
        "id": "VtOSsvLHyqPl",
        "outputId": "d635dad3-777e-49de-bd5a-c38d305016fb"
      },
      "execution_count": 60,
      "outputs": [
        {
          "output_type": "stream",
          "name": "stdout",
          "text": [
            "tensor([[0.0618, 0.0365, 0.5673, 0.9360],\n",
            "        [0.0527, 0.8873, 0.7550, 0.3937],\n",
            "        [0.9014, 0.1102, 0.6851, 0.1841]])\n",
            "Datatype of tensor: torch.float32\n",
            "Shape of tensor: torch.Size([3, 4])\n",
            "Device of tensor: cpu\n"
          ]
        }
      ]
    },
    {
      "cell_type": "markdown",
      "source": [
        "### Manipulating Tensors (tensor operations)\n",
        "\n",
        "Tensor operations:\n",
        "* Addition\n",
        "* Subtraction\n",
        "* Multiplication (element-wise)\n",
        "* Division\n",
        "* Matrix multiplication"
      ],
      "metadata": {
        "id": "rmqflSuPDnLp"
      }
    },
    {
      "cell_type": "code",
      "source": [
        "# Create a tensor\n",
        "tensor=torch.tensor([1,2,3])\n",
        "tensor+10"
      ],
      "metadata": {
        "colab": {
          "base_uri": "https://localhost:8080/"
        },
        "id": "Hb5JD-kIzXsq",
        "outputId": "c9912551-8a71-42dd-9f1c-818d8be4a3fc"
      },
      "execution_count": 61,
      "outputs": [
        {
          "output_type": "execute_result",
          "data": {
            "text/plain": [
              "tensor([11, 12, 13])"
            ]
          },
          "metadata": {},
          "execution_count": 61
        }
      ]
    },
    {
      "cell_type": "code",
      "source": [
        "# Multiply tensor by 10\n",
        "tensor*10"
      ],
      "metadata": {
        "colab": {
          "base_uri": "https://localhost:8080/"
        },
        "id": "M8Sb3Sbgzd1N",
        "outputId": "707b11fc-7dc1-4489-c424-028643453b39"
      },
      "execution_count": 62,
      "outputs": [
        {
          "output_type": "execute_result",
          "data": {
            "text/plain": [
              "tensor([10, 20, 30])"
            ]
          },
          "metadata": {},
          "execution_count": 62
        }
      ]
    },
    {
      "cell_type": "code",
      "source": [
        "# Subtract 10\n",
        "tensor - 10"
      ],
      "metadata": {
        "colab": {
          "base_uri": "https://localhost:8080/"
        },
        "id": "BxwaKJ2czhxR",
        "outputId": "4244b425-b8ef-4edb-b258-16ceea3b8568"
      },
      "execution_count": 63,
      "outputs": [
        {
          "output_type": "execute_result",
          "data": {
            "text/plain": [
              "tensor([-9, -8, -7])"
            ]
          },
          "metadata": {},
          "execution_count": 63
        }
      ]
    },
    {
      "cell_type": "code",
      "source": [
        "# In-built functions\n",
        "print(torch.mul(tensor,10))\n",
        "print(torch.add(tensor,10))\n",
        "print(torch.sub(tensor,10))"
      ],
      "metadata": {
        "colab": {
          "base_uri": "https://localhost:8080/"
        },
        "id": "lgYcVLAVzxwQ",
        "outputId": "856517e2-b9b3-4d15-fa5f-c1e5ab88a564"
      },
      "execution_count": 67,
      "outputs": [
        {
          "output_type": "stream",
          "name": "stdout",
          "text": [
            "tensor([10, 20, 30])\n",
            "tensor([11, 12, 13])\n",
            "tensor([-9, -8, -7])\n"
          ]
        }
      ]
    },
    {
      "cell_type": "markdown",
      "source": [
        "### Matrix multiplication\n",
        "\n",
        "Two ways:\n",
        "1. Element-wise multiplication\n",
        "2. Matrix Multiplication\n",
        "\n",
        "\n"
      ],
      "metadata": {
        "id": "UHpvTzh7D1co"
      }
    },
    {
      "cell_type": "code",
      "source": [
        "tensor1=torch.rand(3,6,5)\n",
        "tensor2=torch.rand(1,5,7)\n",
        "tensor1\n",
        "tensor2"
      ],
      "metadata": {
        "colab": {
          "base_uri": "https://localhost:8080/"
        },
        "id": "YUeUUR1gGScC",
        "outputId": "a0f684f1-f9d0-4031-8821-4590d2d7769b"
      },
      "execution_count": 47,
      "outputs": [
        {
          "output_type": "execute_result",
          "data": {
            "text/plain": [
              "tensor([[[0.8109, 0.8510, 0.5383, 0.5100, 0.2927, 0.2810, 0.2101],\n",
              "         [0.6885, 0.9914, 0.7878, 0.9847, 0.1455, 0.1323, 0.6543],\n",
              "         [0.2391, 0.3675, 0.9204, 0.8635, 0.5848, 0.4461, 0.3899],\n",
              "         [0.3472, 0.4189, 0.0814, 0.3527, 0.2103, 0.3353, 0.5348],\n",
              "         [0.3142, 0.5240, 0.6943, 0.0616, 0.9021, 0.2181, 0.8345]]])"
            ]
          },
          "metadata": {},
          "execution_count": 47
        }
      ]
    },
    {
      "cell_type": "code",
      "source": [
        "#Matrix multiplication\n",
        "%%time\n",
        "product_ten=torch.matmul(tensor1, tensor2)\n",
        "product_ten"
      ],
      "metadata": {
        "colab": {
          "base_uri": "https://localhost:8080/"
        },
        "id": "TQPLhcmxHobb",
        "outputId": "d04a86ce-826d-432b-9585-b76a1fc66685"
      },
      "execution_count": 69,
      "outputs": [
        {
          "output_type": "stream",
          "name": "stdout",
          "text": [
            "CPU times: user 504 µs, sys: 28 µs, total: 532 µs\n",
            "Wall time: 379 µs\n"
          ]
        },
        {
          "output_type": "execute_result",
          "data": {
            "text/plain": [
              "tensor([[[1.1455, 1.4307, 1.3856, 0.8548, 1.2849, 0.6549, 1.1952],\n",
              "         [1.1170, 1.4926, 1.4705, 1.4252, 1.0206, 0.7166, 1.3051],\n",
              "         [0.9486, 1.3143, 1.5799, 1.5235, 1.0678, 0.7589, 1.2257],\n",
              "         [1.0574, 1.2926, 1.0014, 0.9481, 0.7804, 0.5726, 0.9689],\n",
              "         [1.2735, 1.7156, 1.5751, 1.4336, 1.2022, 0.7646, 1.5879],\n",
              "         [1.3360, 1.7341, 1.6082, 1.6297, 1.2008, 0.9197, 1.5344]],\n",
              "\n",
              "        [[1.3166, 1.6960, 1.8896, 1.5317, 1.3277, 0.7968, 1.2762],\n",
              "         [1.4320, 1.8510, 1.6638, 1.8190, 0.8688, 0.7323, 1.2827],\n",
              "         [0.3491, 0.4670, 0.4030, 0.5210, 0.2626, 0.2651, 0.4428],\n",
              "         [1.4715, 2.0092, 1.9175, 1.9212, 1.3086, 0.9239, 1.8320],\n",
              "         [1.5929, 2.0696, 2.0167, 1.7312, 1.2565, 0.7379, 1.4553],\n",
              "         [1.3293, 1.8030, 1.8501, 1.5146, 1.2528, 0.6735, 1.4775]],\n",
              "\n",
              "        [[1.6213, 2.1042, 1.7014, 1.9415, 0.9867, 0.8528, 1.6182],\n",
              "         [1.0657, 1.5379, 1.6364, 1.3131, 1.2388, 0.6388, 1.5488],\n",
              "         [0.9382, 1.4024, 1.8301, 1.3144, 1.4736, 0.7167, 1.5469],\n",
              "         [0.8888, 1.2227, 0.9712, 1.0050, 0.7952, 0.5591, 1.2647],\n",
              "         [1.3405, 1.7743, 1.4234, 1.5252, 0.9613, 0.7320, 1.5265],\n",
              "         [1.0983, 1.5100, 1.6416, 1.4900, 1.4012, 0.9451, 1.6400]]])"
            ]
          },
          "metadata": {},
          "execution_count": 69
        }
      ]
    },
    {
      "cell_type": "code",
      "source": [
        "changed_to_int32=product_ten.to(torch.int32)\n",
        "changed_to_int32"
      ],
      "metadata": {
        "colab": {
          "base_uri": "https://localhost:8080/"
        },
        "id": "7THJlrYRLcRN",
        "outputId": "313024eb-6a57-44f2-f357-5da83de0cd50"
      },
      "execution_count": 70,
      "outputs": [
        {
          "output_type": "execute_result",
          "data": {
            "text/plain": [
              "tensor([[[1, 1, 1, 0, 1, 0, 1],\n",
              "         [1, 1, 1, 1, 1, 0, 1],\n",
              "         [0, 1, 1, 1, 1, 0, 1],\n",
              "         [1, 1, 1, 0, 0, 0, 0],\n",
              "         [1, 1, 1, 1, 1, 0, 1],\n",
              "         [1, 1, 1, 1, 1, 0, 1]],\n",
              "\n",
              "        [[1, 1, 1, 1, 1, 0, 1],\n",
              "         [1, 1, 1, 1, 0, 0, 1],\n",
              "         [0, 0, 0, 0, 0, 0, 0],\n",
              "         [1, 2, 1, 1, 1, 0, 1],\n",
              "         [1, 2, 2, 1, 1, 0, 1],\n",
              "         [1, 1, 1, 1, 1, 0, 1]],\n",
              "\n",
              "        [[1, 2, 1, 1, 0, 0, 1],\n",
              "         [1, 1, 1, 1, 1, 0, 1],\n",
              "         [0, 1, 1, 1, 1, 0, 1],\n",
              "         [0, 1, 0, 1, 0, 0, 1],\n",
              "         [1, 1, 1, 1, 0, 0, 1],\n",
              "         [1, 1, 1, 1, 1, 0, 1]]], dtype=torch.int32)"
            ]
          },
          "metadata": {},
          "execution_count": 70
        }
      ]
    },
    {
      "cell_type": "markdown",
      "source": [
        "### Most common error in Deep Learning: Shape error\n",
        "\n",
        "1. The inner dimension must match\n",
        "2. The resulting matrix would be the outer dimension\n",
        "3. In case, the tensors violate rules 1 and 2, tensor manipulation i.e. transpose can be used. It works by switching axes."
      ],
      "metadata": {
        "id": "3gIQ4UWvHzsH"
      }
    },
    {
      "cell_type": "code",
      "source": [
        "Tensor_A=torch.tensor([[1,2],[3,4],[5,6]])\n",
        "Tensor_B=torch.tensor([[5,3],[2,6],[1,8]])\n",
        "Tensor_A\n",
        "Tensor_B\n",
        "Tensor_C=torch.matmul(Tensor_A,Tensor_B).shape\n",
        "Tensor_C"
      ],
      "metadata": {
        "colab": {
          "base_uri": "https://localhost:8080/",
          "height": 201
        },
        "id": "zN_Jq8CmLKd1",
        "outputId": "29d84697-e29f-4cd5-f3da-0a64af3d7662"
      },
      "execution_count": 90,
      "outputs": [
        {
          "output_type": "error",
          "ename": "RuntimeError",
          "evalue": "mat1 and mat2 shapes cannot be multiplied (3x2 and 3x2)",
          "traceback": [
            "\u001b[0;31m---------------------------------------------------------------------------\u001b[0m",
            "\u001b[0;31mRuntimeError\u001b[0m                              Traceback (most recent call last)",
            "\u001b[0;32m<ipython-input-90-695c19e3f7ec>\u001b[0m in \u001b[0;36m<cell line: 0>\u001b[0;34m()\u001b[0m\n\u001b[1;32m      3\u001b[0m \u001b[0mTensor_A\u001b[0m\u001b[0;34m\u001b[0m\u001b[0;34m\u001b[0m\u001b[0m\n\u001b[1;32m      4\u001b[0m \u001b[0mTensor_B\u001b[0m\u001b[0;34m\u001b[0m\u001b[0;34m\u001b[0m\u001b[0m\n\u001b[0;32m----> 5\u001b[0;31m \u001b[0mTensor_C\u001b[0m\u001b[0;34m=\u001b[0m\u001b[0mtorch\u001b[0m\u001b[0;34m.\u001b[0m\u001b[0mmatmul\u001b[0m\u001b[0;34m(\u001b[0m\u001b[0mTensor_A\u001b[0m\u001b[0;34m,\u001b[0m\u001b[0mTensor_B\u001b[0m\u001b[0;34m)\u001b[0m\u001b[0;34m.\u001b[0m\u001b[0mshape\u001b[0m\u001b[0;34m\u001b[0m\u001b[0;34m\u001b[0m\u001b[0m\n\u001b[0m\u001b[1;32m      6\u001b[0m \u001b[0mTensor_C\u001b[0m\u001b[0;34m\u001b[0m\u001b[0;34m\u001b[0m\u001b[0m\n",
            "\u001b[0;31mRuntimeError\u001b[0m: mat1 and mat2 shapes cannot be multiplied (3x2 and 3x2)"
          ]
        }
      ]
    },
    {
      "cell_type": "code",
      "source": [
        "# To resolve the above use transpose\n",
        "Trans_Tensor_B=Tensor_B.T\n",
        "Trans_Tensor_B"
      ],
      "metadata": {
        "colab": {
          "base_uri": "https://localhost:8080/"
        },
        "id": "zQxDt5iAN_DK",
        "outputId": "c7768ace-92f1-4b34-9791-8a086cc4febd"
      },
      "execution_count": 72,
      "outputs": [
        {
          "output_type": "execute_result",
          "data": {
            "text/plain": [
              "tensor([[5, 2, 1],\n",
              "        [3, 6, 8]])"
            ]
          },
          "metadata": {},
          "execution_count": 72
        }
      ]
    },
    {
      "cell_type": "code",
      "source": [
        "Tensor_C=torch.matmul(Tensor_A,Trans_Tensor_B)\n",
        "print(Tensor_C)\n",
        "Tensor_C.shape"
      ],
      "metadata": {
        "colab": {
          "base_uri": "https://localhost:8080/"
        },
        "id": "PWELNOMgPiKr",
        "outputId": "c264f259-16ea-4f5a-d956-987f6d386719"
      },
      "execution_count": 94,
      "outputs": [
        {
          "output_type": "stream",
          "name": "stdout",
          "text": [
            "tensor([[11, 14, 17],\n",
            "        [27, 30, 35],\n",
            "        [43, 46, 53]])\n"
          ]
        },
        {
          "output_type": "execute_result",
          "data": {
            "text/plain": [
              "torch.Size([3, 3])"
            ]
          },
          "metadata": {},
          "execution_count": 94
        }
      ]
    },
    {
      "cell_type": "code",
      "source": [
        "# The matrix multiplication operation works when tensor_B is transposed\n",
        "print(f\"Tensor_A is {Tensor_A}\")\n",
        "print(f\"Tensor_B is {Tensor_B}\")\n",
        "print(f\"Original shapes: Tensor_A = {Tensor_A.shape}, Tensor_B = {Tensor_B.shape}\")\n",
        "print(f\"New shapes: Tensor_A = {Tensor_A.shape} (same as above), Tensor_B.T = {Tensor_B.T.shape}\")\n",
        "print(f\"Multiplying: {Tensor_A.shape} * {Tensor_B.T.shape} <- inner dimensions match\")\n",
        "print(\"Output:\\n\")\n",
        "output = torch.matmul(Tensor_A, Tensor_B.T)\n",
        "print(output)\n",
        "print(f\"\\nOutput shape: {output.shape}\")"
      ],
      "metadata": {
        "colab": {
          "base_uri": "https://localhost:8080/"
        },
        "id": "X9tHy0FM2HCU",
        "outputId": "98935aae-103f-4cc8-aa77-645221649952"
      },
      "execution_count": 96,
      "outputs": [
        {
          "output_type": "stream",
          "name": "stdout",
          "text": [
            "Tensor_A is tensor([[1, 2],\n",
            "        [3, 4],\n",
            "        [5, 6]])\n",
            "Tensor_B is tensor([[5, 3],\n",
            "        [2, 6],\n",
            "        [1, 8]])\n",
            "Original shapes: Tensor_A = torch.Size([3, 2]), Tensor_B = torch.Size([3, 2])\n",
            "New shapes: Tensor_A = torch.Size([3, 2]) (same as above), Tensor_B.T = torch.Size([2, 3])\n",
            "Multiplying: torch.Size([3, 2]) * torch.Size([2, 3]) <- inner dimensions match\n",
            "Output:\n",
            "\n",
            "tensor([[11, 14, 17],\n",
            "        [27, 30, 35],\n",
            "        [43, 46, 53]])\n",
            "\n",
            "Output shape: torch.Size([3, 3])\n"
          ]
        }
      ]
    },
    {
      "cell_type": "markdown",
      "source": [
        "### Finding the min, max, mean, sum etc (tensor aggragation)"
      ],
      "metadata": {
        "id": "JTMdndus2_iQ"
      }
    },
    {
      "cell_type": "code",
      "source": [
        "# Create a tensor\n",
        "x=torch.arange(0,100,10)\n",
        "x"
      ],
      "metadata": {
        "colab": {
          "base_uri": "https://localhost:8080/"
        },
        "id": "AaC1vjew3EWf",
        "outputId": "af57f910-5ee5-4695-9220-67aa54f0fa40"
      },
      "execution_count": 98,
      "outputs": [
        {
          "output_type": "execute_result",
          "data": {
            "text/plain": [
              "tensor([ 0, 10, 20, 30, 40, 50, 60, 70, 80, 90])"
            ]
          },
          "metadata": {},
          "execution_count": 98
        }
      ]
    },
    {
      "cell_type": "code",
      "source": [
        "# Find the min\n",
        "torch.min(x)"
      ],
      "metadata": {
        "colab": {
          "base_uri": "https://localhost:8080/"
        },
        "id": "FvFpX-mf3Tug",
        "outputId": "be05c659-ea82-4a64-a086-fe54dee5e082"
      },
      "execution_count": 99,
      "outputs": [
        {
          "output_type": "execute_result",
          "data": {
            "text/plain": [
              "tensor(0)"
            ]
          },
          "metadata": {},
          "execution_count": 99
        }
      ]
    },
    {
      "cell_type": "code",
      "source": [
        "# Find the max\n",
        "torch.max(x)"
      ],
      "metadata": {
        "colab": {
          "base_uri": "https://localhost:8080/"
        },
        "id": "lVVzbicW3Z0f",
        "outputId": "66be1272-4688-4d59-ebda-c981421ebb00"
      },
      "execution_count": 100,
      "outputs": [
        {
          "output_type": "execute_result",
          "data": {
            "text/plain": [
              "tensor(90)"
            ]
          },
          "metadata": {},
          "execution_count": 100
        }
      ]
    },
    {
      "cell_type": "code",
      "source": [
        "# Find the mean - note: the torch.mean() function requires a tensor of float32 datatype to work\n",
        "torch.mean(x)"
      ],
      "metadata": {
        "colab": {
          "base_uri": "https://localhost:8080/",
          "height": 165
        },
        "id": "Rsgv2AFf3g1J",
        "outputId": "e8dbd5aa-3ab0-424e-b39e-20b53b71353c"
      },
      "execution_count": 101,
      "outputs": [
        {
          "output_type": "error",
          "ename": "RuntimeError",
          "evalue": "mean(): could not infer output dtype. Input dtype must be either a floating point or complex dtype. Got: Long",
          "traceback": [
            "\u001b[0;31m---------------------------------------------------------------------------\u001b[0m",
            "\u001b[0;31mRuntimeError\u001b[0m                              Traceback (most recent call last)",
            "\u001b[0;32m<ipython-input-101-7519b7c6f2fb>\u001b[0m in \u001b[0;36m<cell line: 0>\u001b[0;34m()\u001b[0m\n\u001b[1;32m      1\u001b[0m \u001b[0;31m# Find the mean\u001b[0m\u001b[0;34m\u001b[0m\u001b[0;34m\u001b[0m\u001b[0m\n\u001b[0;32m----> 2\u001b[0;31m \u001b[0mtorch\u001b[0m\u001b[0;34m.\u001b[0m\u001b[0mmean\u001b[0m\u001b[0;34m(\u001b[0m\u001b[0mx\u001b[0m\u001b[0;34m)\u001b[0m\u001b[0;34m\u001b[0m\u001b[0;34m\u001b[0m\u001b[0m\n\u001b[0m",
            "\u001b[0;31mRuntimeError\u001b[0m: mean(): could not infer output dtype. Input dtype must be either a floating point or complex dtype. Got: Long"
          ]
        }
      ]
    },
    {
      "cell_type": "code",
      "source": [
        "torch.mean(x.type(torch.float32))"
      ],
      "metadata": {
        "colab": {
          "base_uri": "https://localhost:8080/"
        },
        "id": "fAbdmENK3s9l",
        "outputId": "7451ae72-502f-4b99-892d-09aa0769ac60"
      },
      "execution_count": 103,
      "outputs": [
        {
          "output_type": "execute_result",
          "data": {
            "text/plain": [
              "tensor(45.)"
            ]
          },
          "metadata": {},
          "execution_count": 103
        }
      ]
    },
    {
      "cell_type": "code",
      "source": [
        "# Find the sum\n",
        "torch.sum(x), x.sum()"
      ],
      "metadata": {
        "colab": {
          "base_uri": "https://localhost:8080/"
        },
        "id": "JIgHga5K4M8-",
        "outputId": "21f29de4-9181-4a95-bcd7-ab9212a27e37"
      },
      "execution_count": 104,
      "outputs": [
        {
          "output_type": "execute_result",
          "data": {
            "text/plain": [
              "(tensor(450), tensor(450))"
            ]
          },
          "metadata": {},
          "execution_count": 104
        }
      ]
    },
    {
      "cell_type": "markdown",
      "source": [
        "### Position of Tensor elements (pixels, data etc)"
      ],
      "metadata": {
        "id": "mhZAPQzycSfq"
      }
    },
    {
      "cell_type": "code",
      "source": [
        "tensor_4D=torch.rand(1,6,2,3)\n",
        "tensor_4D"
      ],
      "metadata": {
        "colab": {
          "base_uri": "https://localhost:8080/"
        },
        "id": "fosEdv--Pr21",
        "outputId": "0fe9fe2f-0d0f-4a39-83b9-6b4738a04015"
      },
      "execution_count": 111,
      "outputs": [
        {
          "output_type": "execute_result",
          "data": {
            "text/plain": [
              "tensor([[[[0.5262, 0.8931, 0.7489],\n",
              "          [0.2914, 0.7278, 0.9745]],\n",
              "\n",
              "         [[0.5455, 0.6630, 0.8920],\n",
              "          [0.0941, 0.6507, 0.9489]],\n",
              "\n",
              "         [[0.7265, 0.3320, 0.3487],\n",
              "          [0.4089, 0.1469, 0.9127]],\n",
              "\n",
              "         [[0.0548, 0.5710, 0.9995],\n",
              "          [0.4366, 0.6798, 0.4537]],\n",
              "\n",
              "         [[0.7241, 0.3830, 0.6676],\n",
              "          [0.3865, 0.7871, 0.6832]],\n",
              "\n",
              "         [[0.5090, 0.4017, 0.4361],\n",
              "          [0.9622, 0.9966, 0.2176]]]])"
            ]
          },
          "metadata": {},
          "execution_count": 111
        }
      ]
    },
    {
      "cell_type": "code",
      "source": [
        "tensor_4D.shape"
      ],
      "metadata": {
        "colab": {
          "base_uri": "https://localhost:8080/"
        },
        "id": "cJatVoBy4pVS",
        "outputId": "2dcdd9ec-8c4a-4249-c097-8cada4b32b9f"
      },
      "execution_count": 112,
      "outputs": [
        {
          "output_type": "execute_result",
          "data": {
            "text/plain": [
              "torch.Size([1, 6, 2, 3])"
            ]
          },
          "metadata": {},
          "execution_count": 112
        }
      ]
    },
    {
      "cell_type": "code",
      "source": [
        "tensor_4D.ndim"
      ],
      "metadata": {
        "colab": {
          "base_uri": "https://localhost:8080/"
        },
        "id": "G3ChOP6e4s8g",
        "outputId": "a72aa40b-a4a0-49b6-df92-2b2808c6ea45"
      },
      "execution_count": 113,
      "outputs": [
        {
          "output_type": "execute_result",
          "data": {
            "text/plain": [
              "4"
            ]
          },
          "metadata": {},
          "execution_count": 113
        }
      ]
    },
    {
      "cell_type": "code",
      "source": [
        "# Position in tensor that has the minimum value\n",
        "position_min=tensor_4D.argmin()"
      ],
      "metadata": {
        "id": "hHIIwAFSXezl"
      },
      "execution_count": 117,
      "outputs": []
    },
    {
      "cell_type": "code",
      "source": [
        "position_min"
      ],
      "metadata": {
        "colab": {
          "base_uri": "https://localhost:8080/"
        },
        "id": "iUtAhWzaXi_W",
        "outputId": "1ef10f38-5fe8-4ede-b28d-4ba548ae3867"
      },
      "execution_count": 118,
      "outputs": [
        {
          "output_type": "execute_result",
          "data": {
            "text/plain": [
              "tensor(18)"
            ]
          },
          "metadata": {},
          "execution_count": 118
        }
      ]
    },
    {
      "cell_type": "code",
      "source": [
        "# Position in tensor that has the maximum value\n",
        "position_max=tensor_4D.argmax()\n",
        "position_max"
      ],
      "metadata": {
        "colab": {
          "base_uri": "https://localhost:8080/"
        },
        "id": "af5HM1uoXpcj",
        "outputId": "13c9ac37-003f-46d2-a748-55220241b7fa"
      },
      "execution_count": 119,
      "outputs": [
        {
          "output_type": "execute_result",
          "data": {
            "text/plain": [
              "tensor(20)"
            ]
          },
          "metadata": {},
          "execution_count": 119
        }
      ]
    },
    {
      "cell_type": "markdown",
      "source": [
        "### Reshaping, stacking, squeezing and unsqueezing tensors\n",
        "\n",
        "* Reshaping - reshapes an input tensor to a defined shape\n",
        "* View - Return a view of an input tensor of certain shape but keep the same memory as the original tensor\n",
        "* Stacking - combine multiple tensors on top of each other (vstack) or side by side (hstack)\n",
        "* Squeeze - removes all 1 dimensions from a tensor\n",
        "* Unsqueeze - add a 1 dimension to a target tensor\n",
        "*Permute - Return a view of the input with dimensions permuted (swapped) in a certain way"
      ],
      "metadata": {
        "id": "iyc7YaZcYHaZ"
      }
    },
    {
      "cell_type": "code",
      "source": [
        "# Let's create a tensor\n",
        "import torch\n",
        "x=torch.arange(2., 10.)\n",
        "x, x.shape, x.ndim"
      ],
      "metadata": {
        "colab": {
          "base_uri": "https://localhost:8080/"
        },
        "id": "ju3Nd7vNrX63",
        "outputId": "89381317-8d58-4cf5-e597-2e4ad4ad4400"
      },
      "execution_count": 122,
      "outputs": [
        {
          "output_type": "execute_result",
          "data": {
            "text/plain": [
              "(tensor([2., 3., 4., 5., 6., 7., 8., 9.]), torch.Size([8]), 1)"
            ]
          },
          "metadata": {},
          "execution_count": 122
        }
      ]
    },
    {
      "cell_type": "code",
      "source": [
        "# Add an extra dimension (note that the size must match i.e. 4*2 or 2*4 = 8)\n",
        "x_reshaped=x.reshape(4,2)\n",
        "print(x_reshaped, x_reshaped.shape, x_reshaped.ndim)\n",
        "x_reshaped2=x.reshape(2,4)\n",
        "print(x_reshaped2, x_reshaped2.shape, x_reshaped2.ndim)"
      ],
      "metadata": {
        "colab": {
          "base_uri": "https://localhost:8080/"
        },
        "id": "g_7idsiDuV4_",
        "outputId": "e8080909-d55c-45de-866e-896c7c260780"
      },
      "execution_count": 123,
      "outputs": [
        {
          "output_type": "stream",
          "name": "stdout",
          "text": [
            "tensor([[2., 3.],\n",
            "        [4., 5.],\n",
            "        [6., 7.],\n",
            "        [8., 9.]]) torch.Size([4, 2]) 2\n",
            "tensor([[2., 3., 4., 5.],\n",
            "        [6., 7., 8., 9.]]) torch.Size([2, 4]) 2\n"
          ]
        }
      ]
    },
    {
      "cell_type": "code",
      "source": [
        "# Change the view\n",
        "z=x.view(4,2)\n",
        "z, z.shape, z.ndim"
      ],
      "metadata": {
        "colab": {
          "base_uri": "https://localhost:8080/"
        },
        "id": "R1g0Pa79usni",
        "outputId": "7ea41a6a-cc4a-43b0-9f8c-8cb37e408f45"
      },
      "execution_count": 127,
      "outputs": [
        {
          "output_type": "execute_result",
          "data": {
            "text/plain": [
              "(tensor([[2., 3.],\n",
              "         [4., 5.],\n",
              "         [6., 7.],\n",
              "         [8., 9.]]),\n",
              " torch.Size([4, 2]),\n",
              " 2)"
            ]
          },
          "metadata": {},
          "execution_count": 127
        }
      ]
    },
    {
      "cell_type": "code",
      "source": [
        "# Changing z changes x (due to view of a tensor sharing same memory)\n",
        "z[:,0]=5\n",
        "z, x, z.ndim, z.shape, x.ndim, x.shape"
      ],
      "metadata": {
        "colab": {
          "base_uri": "https://localhost:8080/"
        },
        "id": "yb1pWjkSwDvS",
        "outputId": "6162f745-7154-4a32-8cb1-070c98cdf3ce"
      },
      "execution_count": 133,
      "outputs": [
        {
          "output_type": "execute_result",
          "data": {
            "text/plain": [
              "(tensor([[5., 3.],\n",
              "         [5., 5.],\n",
              "         [5., 7.],\n",
              "         [5., 9.]]),\n",
              " tensor([5., 3., 5., 5., 5., 7., 5., 9.]),\n",
              " 2,\n",
              " torch.Size([4, 2]),\n",
              " 1,\n",
              " torch.Size([8]))"
            ]
          },
          "metadata": {},
          "execution_count": 133
        }
      ]
    },
    {
      "cell_type": "code",
      "source": [
        "# Stack tensors on top of each other\n",
        "x_stacked = torch.stack([x,x,x,x], dim=0)\n",
        "x_stacked"
      ],
      "metadata": {
        "colab": {
          "base_uri": "https://localhost:8080/"
        },
        "id": "EDI62bN7wev1",
        "outputId": "76d1c863-10f0-4c24-975d-f5daa611200d"
      },
      "execution_count": 130,
      "outputs": [
        {
          "output_type": "execute_result",
          "data": {
            "text/plain": [
              "tensor([[5., 3., 5., 5., 5., 7., 5., 9.],\n",
              "        [5., 3., 5., 5., 5., 7., 5., 9.],\n",
              "        [5., 3., 5., 5., 5., 7., 5., 9.],\n",
              "        [5., 3., 5., 5., 5., 7., 5., 9.]])"
            ]
          },
          "metadata": {},
          "execution_count": 130
        }
      ]
    },
    {
      "cell_type": "code",
      "source": [
        "y_stacked=torch.stack([x,x,x,x], dim=1)\n",
        "y_stacked"
      ],
      "metadata": {
        "colab": {
          "base_uri": "https://localhost:8080/"
        },
        "id": "lHatoFdgxNk-",
        "outputId": "e24ae758-1366-485d-d3f5-0d3b5b92d103"
      },
      "execution_count": 84,
      "outputs": [
        {
          "output_type": "execute_result",
          "data": {
            "text/plain": [
              "tensor([[5., 5., 5., 5.],\n",
              "        [3., 3., 3., 3.],\n",
              "        [4., 4., 4., 4.],\n",
              "        [5., 5., 5., 5.],\n",
              "        [6., 6., 6., 6.],\n",
              "        [7., 7., 7., 7.],\n",
              "        [8., 8., 8., 8.],\n",
              "        [9., 9., 9., 9.]])"
            ]
          },
          "metadata": {},
          "execution_count": 84
        }
      ]
    },
    {
      "cell_type": "code",
      "source": [
        "# torch.squeeze() - removes all 1 dimension from a target tensor\n",
        "x_reshaped3=x.reshape(1,8)\n",
        "x_reshaped3, x_reshaped3.shape, x_reshaped3.ndim"
      ],
      "metadata": {
        "colab": {
          "base_uri": "https://localhost:8080/"
        },
        "id": "LSDt2e8wxUBd",
        "outputId": "0fae808b-ad63-4ccf-c119-adccd1a7c61e"
      },
      "execution_count": 137,
      "outputs": [
        {
          "output_type": "execute_result",
          "data": {
            "text/plain": [
              "(tensor([[5., 3., 5., 5., 5., 7., 5., 9.]]), torch.Size([1, 8]), 2)"
            ]
          },
          "metadata": {},
          "execution_count": 137
        }
      ]
    },
    {
      "cell_type": "code",
      "source": [
        "x_reshaped3.squeeze()"
      ],
      "metadata": {
        "colab": {
          "base_uri": "https://localhost:8080/"
        },
        "id": "X0_hWfz7xee8",
        "outputId": "06231d73-abad-44ec-cfe6-2e1f77f68423"
      },
      "execution_count": 138,
      "outputs": [
        {
          "output_type": "execute_result",
          "data": {
            "text/plain": [
              "tensor([5., 3., 5., 5., 5., 7., 5., 9.])"
            ]
          },
          "metadata": {},
          "execution_count": 138
        }
      ]
    },
    {
      "cell_type": "code",
      "source": [
        "# Note that squeeze has removed the single dimension, leaving with only one dimension of 8 elements\n",
        "print(x_reshaped3.squeeze().shape)\n",
        "print(x_reshaped3.squeeze().ndim)"
      ],
      "metadata": {
        "colab": {
          "base_uri": "https://localhost:8080/"
        },
        "id": "NYr7Ee9VxfXr",
        "outputId": "79f76316-46fe-47a5-9a2c-01c8f6725772"
      },
      "execution_count": 144,
      "outputs": [
        {
          "output_type": "stream",
          "name": "stdout",
          "text": [
            "torch.Size([8])\n",
            "1\n"
          ]
        }
      ]
    },
    {
      "cell_type": "code",
      "source": [
        "# torch.squeeze() - removes all single dimensions from a target tensor\n",
        "print(f\"Previous tensor: {x_reshaped3}\")\n",
        "print(f\"Previous shape: {x_reshaped3.shape}\")\n",
        "\n",
        "# Remove extra dimension from x_reshaped3\n",
        "x_squeezed = x_reshaped3.squeeze()\n",
        "print(f\"\\nNew tensor: {x_squeezed}\")\n",
        "print(f\"New shape: {x_squeezed.shape}\")"
      ],
      "metadata": {
        "colab": {
          "base_uri": "https://localhost:8080/"
        },
        "id": "IPThdQVg_hKj",
        "outputId": "a747995d-85e7-4792-cb5c-8bfe82df9cde"
      },
      "execution_count": 145,
      "outputs": [
        {
          "output_type": "stream",
          "name": "stdout",
          "text": [
            "Previous tensor: tensor([[5., 3., 5., 5., 5., 7., 5., 9.]])\n",
            "Previous shape: torch.Size([1, 8])\n",
            "\n",
            "New tensor: tensor([5., 3., 5., 5., 5., 7., 5., 9.])\n",
            "New shape: torch.Size([8])\n"
          ]
        }
      ]
    },
    {
      "cell_type": "code",
      "source": [
        "# torch.unsqueeze() - adds a single dimension to a target tensor at a specific dim (dimension)\n",
        "print(f\"Previous tensor: {x_squeezed}\")\n",
        "print(f\"Previous shape: {x_squeezed.shape}\")\n",
        "\n",
        "# Add an extra dimension with unsqueeze\n",
        "x_unsqueezed = x_squeezed.unsqueeze(dim=0)\n",
        "print(f\"\\nNew tensor: {x_unsqueezed}\")\n",
        "print(f\"New shape: {x_unsqueezed.shape}\")"
      ],
      "metadata": {
        "colab": {
          "base_uri": "https://localhost:8080/"
        },
        "id": "bAWJT0LQAU9h",
        "outputId": "ebbb374e-8ca8-4bbe-ff14-28a1f251404f"
      },
      "execution_count": 147,
      "outputs": [
        {
          "output_type": "stream",
          "name": "stdout",
          "text": [
            "Previous tensor: tensor([5., 3., 5., 5., 5., 7., 5., 9.])\n",
            "Previous shape: torch.Size([8])\n",
            "\n",
            "New tensor: tensor([[5., 3., 5., 5., 5., 7., 5., 9.]])\n",
            "New shape: torch.Size([1, 8])\n"
          ]
        }
      ]
    },
    {
      "cell_type": "code",
      "source": [
        "# torch.permute - rearranges the dimensions of a target tensor in a specified order\n",
        "x_original = torch.rand(size=(3,224,224)) # [colour_channels, height, width]\n",
        "# Permute the original tensor to rearrange the axis (or dim) order\n",
        "x_permuted = x_original.permute(2,1,0) # shifts axis 0->2, 1->0, 2->0\n",
        "print(f\"Previous shape: {x_original.shape}\")\n",
        "print(f\"New shape: {x_permuted.shape}\")"
      ],
      "metadata": {
        "colab": {
          "base_uri": "https://localhost:8080/"
        },
        "id": "fj-vF55iAtKy",
        "outputId": "acc1bfa2-bdaf-4796-f8ba-b778b5488b2b"
      },
      "execution_count": 151,
      "outputs": [
        {
          "output_type": "stream",
          "name": "stdout",
          "text": [
            "Previous shape: torch.Size([3, 224, 224])\n",
            "New shape: torch.Size([224, 224, 3])\n"
          ]
        }
      ]
    },
    {
      "cell_type": "code",
      "source": [
        "x_original[0,0,0]=982034\n",
        "x_original[0,0,0], x_permuted[0,0,0]"
      ],
      "metadata": {
        "colab": {
          "base_uri": "https://localhost:8080/"
        },
        "id": "lvAypL98COB0",
        "outputId": "a87756a7-e95e-41b8-e897-57268db3998c"
      },
      "execution_count": 152,
      "outputs": [
        {
          "output_type": "execute_result",
          "data": {
            "text/plain": [
              "(tensor(982034.), tensor(982034.))"
            ]
          },
          "metadata": {},
          "execution_count": 152
        }
      ]
    },
    {
      "cell_type": "markdown",
      "source": [
        "### Indexing (selecting data from tensors)\n",
        "Indexing with PyTorch is similar to indexing with NumPy"
      ],
      "metadata": {
        "id": "N53tt3DhCyvN"
      }
    },
    {
      "cell_type": "code",
      "source": [
        "# Create a tensor\n",
        "import torch\n",
        "x=torch.arange(1,10)\n",
        "x, x.shape"
      ],
      "metadata": {
        "colab": {
          "base_uri": "https://localhost:8080/"
        },
        "id": "vm7w-cnCDAPg",
        "outputId": "813441e5-ff74-43ad-cf2c-f1241496bfd4"
      },
      "execution_count": 157,
      "outputs": [
        {
          "output_type": "execute_result",
          "data": {
            "text/plain": [
              "(tensor([1, 2, 3, 4, 5, 6, 7, 8, 9]), torch.Size([9]))"
            ]
          },
          "metadata": {},
          "execution_count": 157
        }
      ]
    },
    {
      "cell_type": "code",
      "source": [
        "x=x.reshape(1,3,3)\n",
        "x, x.shape"
      ],
      "metadata": {
        "colab": {
          "base_uri": "https://localhost:8080/"
        },
        "id": "JKU5bTQkDSgd",
        "outputId": "bb9ba92c-2760-4525-e78c-3f2407b54743"
      },
      "execution_count": 158,
      "outputs": [
        {
          "output_type": "execute_result",
          "data": {
            "text/plain": [
              "(tensor([[[1, 2, 3],\n",
              "          [4, 5, 6],\n",
              "          [7, 8, 9]]]),\n",
              " torch.Size([1, 3, 3]))"
            ]
          },
          "metadata": {},
          "execution_count": 158
        }
      ]
    },
    {
      "cell_type": "code",
      "source": [
        "# Let's index on our new tensor\n",
        "x[0]"
      ],
      "metadata": {
        "colab": {
          "base_uri": "https://localhost:8080/"
        },
        "id": "vWrAueeIDj5b",
        "outputId": "5978258a-6b38-428e-ff16-00058904fa2d"
      },
      "execution_count": 159,
      "outputs": [
        {
          "output_type": "execute_result",
          "data": {
            "text/plain": [
              "tensor([[1, 2, 3],\n",
              "        [4, 5, 6],\n",
              "        [7, 8, 9]])"
            ]
          },
          "metadata": {},
          "execution_count": 159
        }
      ]
    },
    {
      "cell_type": "code",
      "source": [
        "# Let's index on the middle bracket (dim=1)\n",
        "x[0][0] # or use x[0,0]\n",
        "x[0,0]"
      ],
      "metadata": {
        "colab": {
          "base_uri": "https://localhost:8080/"
        },
        "id": "YHEyoXecDq0B",
        "outputId": "e65b620c-9414-4178-9271-cb615f52d413"
      },
      "execution_count": 164,
      "outputs": [
        {
          "output_type": "execute_result",
          "data": {
            "text/plain": [
              "tensor([1, 2, 3])"
            ]
          },
          "metadata": {},
          "execution_count": 164
        }
      ]
    },
    {
      "cell_type": "code",
      "source": [
        "# Let's index on the most inner bracket (last dimension)\n",
        "x[0][0][0] # or use x[0,0,0]"
      ],
      "metadata": {
        "colab": {
          "base_uri": "https://localhost:8080/"
        },
        "id": "vmwJppXiD1bz",
        "outputId": "570985e5-69a8-4800-a8d4-41355baf8e60"
      },
      "execution_count": 165,
      "outputs": [
        {
          "output_type": "execute_result",
          "data": {
            "text/plain": [
              "tensor(1)"
            ]
          },
          "metadata": {},
          "execution_count": 165
        }
      ]
    },
    {
      "cell_type": "code",
      "source": [
        "x[0][2][2] # or use x[0,2,2]"
      ],
      "metadata": {
        "colab": {
          "base_uri": "https://localhost:8080/"
        },
        "id": "iBEhtFvyE06y",
        "outputId": "43b479d8-72d4-45bb-a8aa-6b4f9bb5c341"
      },
      "execution_count": 166,
      "outputs": [
        {
          "output_type": "execute_result",
          "data": {
            "text/plain": [
              "tensor(9)"
            ]
          },
          "metadata": {},
          "execution_count": 166
        }
      ]
    },
    {
      "cell_type": "code",
      "source": [
        "# you can also use \":\" to select \"all\" of a target dimension\n",
        "x[:,0]"
      ],
      "metadata": {
        "colab": {
          "base_uri": "https://localhost:8080/"
        },
        "id": "wy98TRSYE_zl",
        "outputId": "e63013d0-e9ff-4986-de3f-c5352da90db3"
      },
      "execution_count": 167,
      "outputs": [
        {
          "output_type": "execute_result",
          "data": {
            "text/plain": [
              "tensor([[1, 2, 3]])"
            ]
          },
          "metadata": {},
          "execution_count": 167
        }
      ]
    },
    {
      "cell_type": "code",
      "source": [
        "# Get all values of 0th and 1st dimensions but only index 1 of 2nd dimension\n",
        "x[:,:,1]"
      ],
      "metadata": {
        "colab": {
          "base_uri": "https://localhost:8080/"
        },
        "id": "mOFtUZKZF-Em",
        "outputId": "8999cd8b-4670-466a-8e06-1c75cb2a16e8"
      },
      "execution_count": 168,
      "outputs": [
        {
          "output_type": "execute_result",
          "data": {
            "text/plain": [
              "tensor([[2, 5, 8]])"
            ]
          },
          "metadata": {},
          "execution_count": 168
        }
      ]
    },
    {
      "cell_type": "code",
      "source": [
        "# Get all values of the 0 dimension but only the 1 index value of 1st and 2nd dimension\n",
        "x[:, 1, 1]"
      ],
      "metadata": {
        "colab": {
          "base_uri": "https://localhost:8080/"
        },
        "id": "GMRlFF87GGqI",
        "outputId": "62fac380-cbbf-4efd-b45c-55d9bbb8e19a"
      },
      "execution_count": 169,
      "outputs": [
        {
          "output_type": "execute_result",
          "data": {
            "text/plain": [
              "tensor([5])"
            ]
          },
          "metadata": {},
          "execution_count": 169
        }
      ]
    },
    {
      "cell_type": "code",
      "source": [
        "# Get index 0 of 0th and 1st dimension and all values of 2nd dimension\n",
        "x[0,0, :]"
      ],
      "metadata": {
        "colab": {
          "base_uri": "https://localhost:8080/"
        },
        "id": "wZzZIXHgGQXF",
        "outputId": "45d877a8-4d47-4748-8ffd-934f085d207c"
      },
      "execution_count": 170,
      "outputs": [
        {
          "output_type": "execute_result",
          "data": {
            "text/plain": [
              "tensor([1, 2, 3])"
            ]
          },
          "metadata": {},
          "execution_count": 170
        }
      ]
    },
    {
      "cell_type": "code",
      "source": [
        "# Index on x to return 9\n",
        "print(x[0][2][2])\n",
        "\n",
        "# Index on x to return 3,6, 9\n",
        "print (x[:,:, 2])"
      ],
      "metadata": {
        "colab": {
          "base_uri": "https://localhost:8080/"
        },
        "id": "uUxVVvRMGXSI",
        "outputId": "4d206b00-0048-4758-f8eb-29b47efc04f3"
      },
      "execution_count": 172,
      "outputs": [
        {
          "output_type": "stream",
          "name": "stdout",
          "text": [
            "tensor(9)\n",
            "tensor([[3, 6, 9]])\n"
          ]
        }
      ]
    },
    {
      "cell_type": "code",
      "source": [],
      "metadata": {
        "id": "PfFO6g2bGmlo"
      },
      "execution_count": null,
      "outputs": []
    }
  ]
}