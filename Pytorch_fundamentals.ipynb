{
  "nbformat": 4,
  "nbformat_minor": 0,
  "metadata": {
    "colab": {
      "provenance": [],
      "authorship_tag": "ABX9TyOqVa0pypLWfb912Y2XMNIz",
      "include_colab_link": true
    },
    "kernelspec": {
      "name": "python3",
      "display_name": "Python 3"
    },
    "language_info": {
      "name": "python"
    }
  },
  "cells": [
    {
      "cell_type": "markdown",
      "metadata": {
        "id": "view-in-github",
        "colab_type": "text"
      },
      "source": [
        "<a href=\"https://colab.research.google.com/github/shahrukhalam1011-unisa/Pytorch_learning_free_code_camp/blob/main/Pytorch_fundamentals.ipynb\" target=\"_parent\"><img src=\"https://colab.research.google.com/assets/colab-badge.svg\" alt=\"Open In Colab\"/></a>"
      ]
    },
    {
      "cell_type": "code",
      "execution_count": 2,
      "metadata": {
        "colab": {
          "base_uri": "https://localhost:8080/"
        },
        "id": "FCS6foKOw0hI",
        "outputId": "cf738fb6-5fda-420f-d735-5f97a03aa31a"
      },
      "outputs": [
        {
          "output_type": "stream",
          "name": "stdout",
          "text": [
            "2.6.0+cu124\n"
          ]
        }
      ],
      "source": [
        "import torch\n",
        "import pandas as pd\n",
        "import numpy as np\n",
        "import matplotlib.pyplot as plt\n",
        "print(torch.__version__)"
      ]
    },
    {
      "cell_type": "markdown",
      "source": [
        "# Introduction to Tensors\n",
        "\n",
        "## Creating tensors\n",
        "\n",
        "Pytorch tensors are created using torch.Tensor() = https://docs.pytorch.org/docs/stable/tensors.html"
      ],
      "metadata": {
        "id": "HwRY7OGk1arK"
      }
    },
    {
      "cell_type": "code",
      "source": [
        "# scalar\n",
        "scalar=torch.tensor(7)\n",
        "scalar"
      ],
      "metadata": {
        "colab": {
          "base_uri": "https://localhost:8080/"
        },
        "id": "eIpJYZvW1TYM",
        "outputId": "b9b89f63-56c9-4c3d-f1e6-75f4255d59bf"
      },
      "execution_count": 3,
      "outputs": [
        {
          "output_type": "execute_result",
          "data": {
            "text/plain": [
              "tensor(7)"
            ]
          },
          "metadata": {},
          "execution_count": 3
        }
      ]
    },
    {
      "cell_type": "code",
      "source": [
        "scalar.ndim"
      ],
      "metadata": {
        "colab": {
          "base_uri": "https://localhost:8080/"
        },
        "id": "xh5dsWRH1qYa",
        "outputId": "fe4cf1f2-3601-488c-a172-73054c58b1aa"
      },
      "execution_count": 4,
      "outputs": [
        {
          "output_type": "execute_result",
          "data": {
            "text/plain": [
              "0"
            ]
          },
          "metadata": {},
          "execution_count": 4
        }
      ]
    },
    {
      "cell_type": "code",
      "source": [
        "# Get tensor back as Python int\n",
        "scalar.item()"
      ],
      "metadata": {
        "colab": {
          "base_uri": "https://localhost:8080/"
        },
        "id": "1xsTmEX_2dSN",
        "outputId": "9d656dee-ff09-470a-9570-e52b737dd0bc"
      },
      "execution_count": 5,
      "outputs": [
        {
          "output_type": "execute_result",
          "data": {
            "text/plain": [
              "7"
            ]
          },
          "metadata": {},
          "execution_count": 5
        }
      ]
    },
    {
      "cell_type": "code",
      "source": [
        "#Vector\n",
        "vector=torch.tensor([7,7])\n",
        "vector"
      ],
      "metadata": {
        "colab": {
          "base_uri": "https://localhost:8080/"
        },
        "id": "zl78cUJn3Onk",
        "outputId": "94a2ffab-1879-42a9-e5ac-1a1630fc1cfe"
      },
      "execution_count": 6,
      "outputs": [
        {
          "output_type": "execute_result",
          "data": {
            "text/plain": [
              "tensor([7, 7])"
            ]
          },
          "metadata": {},
          "execution_count": 6
        }
      ]
    },
    {
      "cell_type": "code",
      "source": [
        "vector.ndim"
      ],
      "metadata": {
        "colab": {
          "base_uri": "https://localhost:8080/"
        },
        "id": "z1AwJ05w3VVs",
        "outputId": "4e71bd45-fa19-4fa8-a662-49420a7f7297"
      },
      "execution_count": 7,
      "outputs": [
        {
          "output_type": "execute_result",
          "data": {
            "text/plain": [
              "1"
            ]
          },
          "metadata": {},
          "execution_count": 7
        }
      ]
    },
    {
      "cell_type": "code",
      "source": [
        "vector.shape"
      ],
      "metadata": {
        "colab": {
          "base_uri": "https://localhost:8080/"
        },
        "id": "McwvRlgn3luD",
        "outputId": "b1987654-afc5-49cf-d817-9c2fd6539ce3"
      },
      "execution_count": 8,
      "outputs": [
        {
          "output_type": "execute_result",
          "data": {
            "text/plain": [
              "torch.Size([2])"
            ]
          },
          "metadata": {},
          "execution_count": 8
        }
      ]
    },
    {
      "cell_type": "code",
      "source": [
        "#Matrix\n",
        "Matrix=torch.tensor([[7,8],[9,10]])\n",
        "Matrix"
      ],
      "metadata": {
        "colab": {
          "base_uri": "https://localhost:8080/"
        },
        "id": "pp2HDqnJ30Hv",
        "outputId": "42c95516-8f6c-4933-ff34-998799ed0eef"
      },
      "execution_count": 9,
      "outputs": [
        {
          "output_type": "execute_result",
          "data": {
            "text/plain": [
              "tensor([[ 7,  8],\n",
              "        [ 9, 10]])"
            ]
          },
          "metadata": {},
          "execution_count": 9
        }
      ]
    },
    {
      "cell_type": "code",
      "source": [
        "Matrix[1]"
      ],
      "metadata": {
        "colab": {
          "base_uri": "https://localhost:8080/"
        },
        "id": "pwhZKQgz4yl5",
        "outputId": "3b6cbb81-0115-4d37-a9cc-392ee0ab2079"
      },
      "execution_count": 10,
      "outputs": [
        {
          "output_type": "execute_result",
          "data": {
            "text/plain": [
              "tensor([ 9, 10])"
            ]
          },
          "metadata": {},
          "execution_count": 10
        }
      ]
    },
    {
      "cell_type": "code",
      "source": [
        "Matrix.ndim"
      ],
      "metadata": {
        "colab": {
          "base_uri": "https://localhost:8080/"
        },
        "id": "-qRW-oOb36F4",
        "outputId": "ab7b255b-70d8-4f4c-b415-0850a7108b39"
      },
      "execution_count": 11,
      "outputs": [
        {
          "output_type": "execute_result",
          "data": {
            "text/plain": [
              "2"
            ]
          },
          "metadata": {},
          "execution_count": 11
        }
      ]
    },
    {
      "cell_type": "code",
      "source": [
        "Matrix.shape"
      ],
      "metadata": {
        "colab": {
          "base_uri": "https://localhost:8080/"
        },
        "id": "vFo0KH4V38Y2",
        "outputId": "6b2ebdbf-d23c-47a7-e34f-c4fb8499848e"
      },
      "execution_count": 12,
      "outputs": [
        {
          "output_type": "execute_result",
          "data": {
            "text/plain": [
              "torch.Size([2, 2])"
            ]
          },
          "metadata": {},
          "execution_count": 12
        }
      ]
    },
    {
      "cell_type": "code",
      "source": [
        "# Tensor\n",
        "Tensor=torch.tensor([[[1,2,3],[3,6,9],[2,4,5]]])\n",
        "Tensor"
      ],
      "metadata": {
        "colab": {
          "base_uri": "https://localhost:8080/"
        },
        "id": "tJ8SI5lf397b",
        "outputId": "c325cd9a-e836-4f53-c52a-01449d3912f4"
      },
      "execution_count": 13,
      "outputs": [
        {
          "output_type": "execute_result",
          "data": {
            "text/plain": [
              "tensor([[[1, 2, 3],\n",
              "         [3, 6, 9],\n",
              "         [2, 4, 5]]])"
            ]
          },
          "metadata": {},
          "execution_count": 13
        }
      ]
    },
    {
      "cell_type": "code",
      "source": [
        "Tensor.ndim"
      ],
      "metadata": {
        "colab": {
          "base_uri": "https://localhost:8080/"
        },
        "id": "VsL29ecu4PZ6",
        "outputId": "fcc6c115-11c0-4f48-a0b0-dda92599b70a"
      },
      "execution_count": 14,
      "outputs": [
        {
          "output_type": "execute_result",
          "data": {
            "text/plain": [
              "3"
            ]
          },
          "metadata": {},
          "execution_count": 14
        }
      ]
    },
    {
      "cell_type": "code",
      "source": [
        "Tensor.shape"
      ],
      "metadata": {
        "id": "r5J3JR964TCC",
        "colab": {
          "base_uri": "https://localhost:8080/"
        },
        "outputId": "0bcd1f90-f300-4b5c-bf11-d572ad190ead"
      },
      "execution_count": 15,
      "outputs": [
        {
          "output_type": "execute_result",
          "data": {
            "text/plain": [
              "torch.Size([1, 3, 3])"
            ]
          },
          "metadata": {},
          "execution_count": 15
        }
      ]
    },
    {
      "cell_type": "code",
      "source": [
        "Tensor2=torch.tensor([[[1,2,3,3,3],[2,3,5,3,4],[1,2,1,2,5],[2,3,5,6,1]]])"
      ],
      "metadata": {
        "id": "MXQQmw05xoq4"
      },
      "execution_count": 30,
      "outputs": []
    },
    {
      "cell_type": "code",
      "source": [
        "Tensor2"
      ],
      "metadata": {
        "colab": {
          "base_uri": "https://localhost:8080/"
        },
        "id": "M3oe3L0_yC_X",
        "outputId": "ee87d73c-7c51-4325-802e-742ec2c00976"
      },
      "execution_count": 31,
      "outputs": [
        {
          "output_type": "execute_result",
          "data": {
            "text/plain": [
              "tensor([[[1, 2, 3, 3, 3],\n",
              "         [2, 3, 5, 3, 4],\n",
              "         [1, 2, 1, 2, 5],\n",
              "         [2, 3, 5, 6, 1]]])"
            ]
          },
          "metadata": {},
          "execution_count": 31
        }
      ]
    },
    {
      "cell_type": "code",
      "source": [
        "Tensor2.shape"
      ],
      "metadata": {
        "colab": {
          "base_uri": "https://localhost:8080/"
        },
        "id": "EP_XfJDkyI3F",
        "outputId": "19629a5f-40c9-4073-bd57-70801b9c95bc"
      },
      "execution_count": 32,
      "outputs": [
        {
          "output_type": "execute_result",
          "data": {
            "text/plain": [
              "torch.Size([1, 4, 5])"
            ]
          },
          "metadata": {},
          "execution_count": 32
        }
      ]
    },
    {
      "cell_type": "markdown",
      "source": [
        "### Random tensors\n",
        "\n",
        "Required since to start with random numbers and update to better represent the data"
      ],
      "metadata": {
        "id": "T5NZJ0pFzyxE"
      }
    },
    {
      "cell_type": "code",
      "source": [
        "## Create a random tensor of size (3,4)\n",
        "random_tensor=torch.rand(3,4)\n",
        "random_tensor"
      ],
      "metadata": {
        "colab": {
          "base_uri": "https://localhost:8080/"
        },
        "id": "ON7LDKZS0P41",
        "outputId": "d4e1e356-256b-461a-afe2-5e67db54b663"
      },
      "execution_count": 34,
      "outputs": [
        {
          "output_type": "execute_result",
          "data": {
            "text/plain": [
              "tensor([[0.5701, 0.9775, 0.9378, 0.7571],\n",
              "        [0.5929, 0.9632, 0.5358, 0.2446],\n",
              "        [0.3716, 0.1551, 0.4939, 0.3036]])"
            ]
          },
          "metadata": {},
          "execution_count": 34
        }
      ]
    },
    {
      "cell_type": "code",
      "source": [
        "random_tensor2=torch.rand(2,3,10)"
      ],
      "metadata": {
        "id": "ZUrF2cKw0ZsH"
      },
      "execution_count": 55,
      "outputs": []
    },
    {
      "cell_type": "code",
      "source": [
        "random_tensor2"
      ],
      "metadata": {
        "colab": {
          "base_uri": "https://localhost:8080/"
        },
        "id": "vHxTbKNr1AMz",
        "outputId": "b8c62e42-ca70-4acd-96b0-ea8b78b7f976"
      },
      "execution_count": 56,
      "outputs": [
        {
          "output_type": "execute_result",
          "data": {
            "text/plain": [
              "tensor([[[0.4076, 0.2443, 0.3822, 0.8215, 0.9931, 0.3449, 0.2001, 0.6481,\n",
              "          0.3784, 0.7524],\n",
              "         [0.1401, 0.9705, 0.5165, 0.0188, 0.5203, 0.2147, 0.6944, 0.6136,\n",
              "          0.4964, 0.8645],\n",
              "         [0.1772, 0.6129, 0.7421, 0.8529, 0.3135, 0.7705, 0.1364, 0.8229,\n",
              "          0.3001, 0.5958]],\n",
              "\n",
              "        [[0.2647, 0.7246, 0.2322, 0.1873, 0.9583, 0.3070, 0.9131, 0.2006,\n",
              "          0.0540, 0.5314],\n",
              "         [0.3626, 0.0658, 0.0270, 0.7768, 0.0230, 0.0423, 0.7216, 0.6597,\n",
              "          0.6531, 0.3082],\n",
              "         [0.6127, 0.4484, 0.2760, 0.6984, 0.3189, 0.5062, 0.6720, 0.8024,\n",
              "          0.5925, 0.9483]]])"
            ]
          },
          "metadata": {},
          "execution_count": 56
        }
      ]
    },
    {
      "cell_type": "code",
      "source": [
        "random_tensor2.shape"
      ],
      "metadata": {
        "colab": {
          "base_uri": "https://localhost:8080/"
        },
        "id": "dZeIHRSv1PDP",
        "outputId": "de634fdd-744f-4e2b-e6b7-852ecc9ee490"
      },
      "execution_count": 57,
      "outputs": [
        {
          "output_type": "execute_result",
          "data": {
            "text/plain": [
              "torch.Size([2, 3, 10])"
            ]
          },
          "metadata": {},
          "execution_count": 57
        }
      ]
    },
    {
      "cell_type": "code",
      "source": [
        "random_tensor2.ndim"
      ],
      "metadata": {
        "colab": {
          "base_uri": "https://localhost:8080/"
        },
        "id": "t9wy29F01SPe",
        "outputId": "f989221c-da32-4c2a-bb55-05228982efe4"
      },
      "execution_count": 58,
      "outputs": [
        {
          "output_type": "execute_result",
          "data": {
            "text/plain": [
              "3"
            ]
          },
          "metadata": {},
          "execution_count": 58
        }
      ]
    },
    {
      "cell_type": "code",
      "source": [
        "random_tensor3=torch.rand(200,344,100)"
      ],
      "metadata": {
        "id": "HgchZ3_b1BYj"
      },
      "execution_count": 59,
      "outputs": []
    },
    {
      "cell_type": "code",
      "source": [
        "random_tensor3"
      ],
      "metadata": {
        "colab": {
          "base_uri": "https://localhost:8080/"
        },
        "id": "p5mQ6ScH1GjX",
        "outputId": "cd1c14fd-aa92-4d8c-e9d5-f7bbac543ae2"
      },
      "execution_count": 60,
      "outputs": [
        {
          "output_type": "execute_result",
          "data": {
            "text/plain": [
              "tensor([[[0.5227, 0.6097, 0.5507,  ..., 0.1372, 0.7805, 0.4787],\n",
              "         [0.6783, 0.7736, 0.8364,  ..., 0.6540, 0.2964, 0.9194],\n",
              "         [0.6374, 0.9891, 0.1691,  ..., 0.7022, 0.0647, 0.5260],\n",
              "         ...,\n",
              "         [0.0115, 0.7482, 0.5416,  ..., 0.9812, 0.0243, 0.0284],\n",
              "         [0.3053, 0.3461, 0.2353,  ..., 0.0046, 0.0541, 0.2628],\n",
              "         [0.5859, 0.7425, 0.3896,  ..., 0.0019, 0.7070, 0.2891]],\n",
              "\n",
              "        [[0.2071, 0.2755, 0.7452,  ..., 0.5087, 0.1254, 0.1422],\n",
              "         [0.3230, 0.8034, 0.5950,  ..., 0.8821, 0.2322, 0.6115],\n",
              "         [0.7193, 0.2949, 0.1087,  ..., 0.0041, 0.4255, 0.6030],\n",
              "         ...,\n",
              "         [0.1046, 0.6646, 0.7836,  ..., 0.8120, 0.8077, 0.4540],\n",
              "         [0.3061, 0.8489, 0.4292,  ..., 0.7818, 0.7035, 0.1212],\n",
              "         [0.8316, 0.0311, 0.2770,  ..., 0.9598, 0.1061, 0.6383]],\n",
              "\n",
              "        [[0.1661, 0.3738, 0.8618,  ..., 0.0763, 0.8100, 0.8517],\n",
              "         [0.1235, 0.8796, 0.2982,  ..., 0.9844, 0.4385, 0.6347],\n",
              "         [0.4233, 0.4051, 0.3088,  ..., 0.0549, 0.9240, 0.9751],\n",
              "         ...,\n",
              "         [0.6550, 0.5965, 0.1177,  ..., 0.4989, 0.6553, 0.0389],\n",
              "         [0.8425, 0.0657, 0.6989,  ..., 0.0030, 0.7684, 0.9716],\n",
              "         [0.1265, 0.8493, 0.2075,  ..., 0.9141, 0.9341, 0.7908]],\n",
              "\n",
              "        ...,\n",
              "\n",
              "        [[0.5985, 0.1692, 0.1810,  ..., 0.0967, 0.2634, 0.2874],\n",
              "         [0.9247, 0.4537, 0.5481,  ..., 0.3027, 0.3042, 0.7393],\n",
              "         [0.3253, 0.9403, 0.3635,  ..., 0.1158, 0.2925, 0.3194],\n",
              "         ...,\n",
              "         [0.7691, 0.0325, 0.0539,  ..., 0.0987, 0.0418, 0.5865],\n",
              "         [0.7327, 0.2417, 0.6060,  ..., 0.5920, 0.0874, 0.6683],\n",
              "         [0.4020, 0.8921, 0.5993,  ..., 0.6131, 0.1156, 0.9047]],\n",
              "\n",
              "        [[0.8170, 0.1972, 0.6223,  ..., 0.6484, 0.7227, 0.5409],\n",
              "         [0.4981, 0.9875, 0.9824,  ..., 0.1838, 0.9535, 0.9148],\n",
              "         [0.5598, 0.0970, 0.7244,  ..., 0.5480, 0.2539, 0.4495],\n",
              "         ...,\n",
              "         [0.1115, 0.3022, 0.5784,  ..., 0.9431, 0.4218, 0.6788],\n",
              "         [0.8342, 0.8123, 0.4954,  ..., 0.6405, 0.5141, 0.3961],\n",
              "         [0.1208, 0.6380, 0.2786,  ..., 0.8611, 0.6495, 0.6255]],\n",
              "\n",
              "        [[0.9887, 0.5908, 0.1867,  ..., 0.9086, 0.5007, 0.4066],\n",
              "         [0.3771, 0.7559, 0.6953,  ..., 0.4066, 0.4951, 0.5465],\n",
              "         [0.2648, 0.4964, 0.0087,  ..., 0.8708, 0.4148, 0.8720],\n",
              "         ...,\n",
              "         [0.8822, 0.1389, 0.3840,  ..., 0.4146, 0.9342, 0.9505],\n",
              "         [0.5163, 0.3179, 0.3290,  ..., 0.0218, 0.1587, 0.5417],\n",
              "         [0.8352, 0.9931, 0.7746,  ..., 0.9035, 0.8780, 0.6536]]])"
            ]
          },
          "metadata": {},
          "execution_count": 60
        }
      ]
    },
    {
      "cell_type": "code",
      "source": [
        "random_tensor3.shape"
      ],
      "metadata": {
        "colab": {
          "base_uri": "https://localhost:8080/"
        },
        "id": "rJ8RuIHS1Hkm",
        "outputId": "3eb6883c-b790-400d-9f88-23d6eb46d6ea"
      },
      "execution_count": 61,
      "outputs": [
        {
          "output_type": "execute_result",
          "data": {
            "text/plain": [
              "torch.Size([200, 344, 100])"
            ]
          },
          "metadata": {},
          "execution_count": 61
        }
      ]
    },
    {
      "cell_type": "code",
      "source": [
        "random_tensor3.ndim"
      ],
      "metadata": {
        "colab": {
          "base_uri": "https://localhost:8080/"
        },
        "id": "0RguclY_1XDK",
        "outputId": "da5e5aab-0742-445d-bba5-f413d4ae6c29"
      },
      "execution_count": 62,
      "outputs": [
        {
          "output_type": "execute_result",
          "data": {
            "text/plain": [
              "3"
            ]
          },
          "metadata": {},
          "execution_count": 62
        }
      ]
    },
    {
      "cell_type": "code",
      "source": [
        "random_tensor4=torch.rand(3,2,5,5)"
      ],
      "metadata": {
        "id": "XQ02Aq4X1ee9"
      },
      "execution_count": 63,
      "outputs": []
    },
    {
      "cell_type": "code",
      "source": [
        "random_tensor4"
      ],
      "metadata": {
        "colab": {
          "base_uri": "https://localhost:8080/"
        },
        "id": "MXRnKllr1tbR",
        "outputId": "6efe2176-49dc-424d-a63d-74a045c069e4"
      },
      "execution_count": 64,
      "outputs": [
        {
          "output_type": "execute_result",
          "data": {
            "text/plain": [
              "tensor([[[[0.8105, 0.1696, 0.4396, 0.7134, 0.7199],\n",
              "          [0.7365, 0.2711, 0.7866, 0.9120, 0.5788],\n",
              "          [0.6004, 0.0851, 0.9694, 0.8684, 0.6853],\n",
              "          [0.6326, 0.5768, 0.7781, 0.4285, 0.4809],\n",
              "          [0.2187, 0.1240, 0.3582, 0.3492, 0.4657]],\n",
              "\n",
              "         [[0.1802, 0.8538, 0.6708, 0.7755, 0.5669],\n",
              "          [0.4642, 0.3862, 0.9898, 0.8113, 0.6089],\n",
              "          [0.3604, 0.4349, 0.8946, 0.1743, 0.0571],\n",
              "          [0.0418, 0.2414, 0.8715, 0.3149, 0.4794],\n",
              "          [0.2571, 0.4473, 0.5116, 0.2971, 0.2906]]],\n",
              "\n",
              "\n",
              "        [[[0.2208, 0.4677, 0.3863, 0.5406, 0.5644],\n",
              "          [0.5312, 0.0417, 0.9344, 0.1419, 0.3999],\n",
              "          [0.4224, 0.5810, 0.4463, 0.8160, 0.1581],\n",
              "          [0.6334, 0.6439, 0.7193, 0.8538, 0.4542],\n",
              "          [0.5454, 0.1149, 0.8001, 0.6553, 0.6790]],\n",
              "\n",
              "         [[0.0638, 0.9651, 0.5459, 0.0425, 0.0691],\n",
              "          [0.3706, 0.9886, 0.1226, 0.8645, 0.2201],\n",
              "          [0.9342, 0.2609, 0.0522, 0.9343, 0.8446],\n",
              "          [0.7232, 0.6476, 0.0777, 0.6192, 0.3985],\n",
              "          [0.9651, 0.9806, 0.2307, 0.6034, 0.9162]]],\n",
              "\n",
              "\n",
              "        [[[0.9778, 0.8129, 0.8675, 0.2676, 0.5290],\n",
              "          [0.4270, 0.8786, 0.3339, 0.9820, 0.4369],\n",
              "          [0.2758, 0.4033, 0.6848, 0.5795, 0.4070],\n",
              "          [0.7379, 0.5171, 0.1575, 0.8252, 0.8870],\n",
              "          [0.6901, 0.7890, 0.7841, 0.5141, 0.4502]],\n",
              "\n",
              "         [[0.9449, 0.5184, 0.5320, 0.7621, 0.0076],\n",
              "          [0.4554, 0.2211, 0.7157, 0.9417, 0.9337],\n",
              "          [0.2157, 0.4612, 0.3837, 0.2851, 0.9337],\n",
              "          [0.7678, 0.9239, 0.9286, 0.8970, 0.9956],\n",
              "          [0.7524, 0.9687, 0.3293, 0.5993, 0.3620]]]])"
            ]
          },
          "metadata": {},
          "execution_count": 64
        }
      ]
    },
    {
      "cell_type": "code",
      "source": [
        "random_tensor4.ndim"
      ],
      "metadata": {
        "colab": {
          "base_uri": "https://localhost:8080/"
        },
        "id": "b41m78FB1vhR",
        "outputId": "c9ebedd1-1479-4977-ddd0-61e644216d57"
      },
      "execution_count": 65,
      "outputs": [
        {
          "output_type": "execute_result",
          "data": {
            "text/plain": [
              "4"
            ]
          },
          "metadata": {},
          "execution_count": 65
        }
      ]
    },
    {
      "cell_type": "code",
      "source": [
        "# Create a random tensor with similar shape to an image tensor\n",
        "random_image_size_tensor=torch.rand(size=(3,224,224)) # colour channel, height, width"
      ],
      "metadata": {
        "id": "4bYCXj8a1-uj"
      },
      "execution_count": 68,
      "outputs": []
    },
    {
      "cell_type": "code",
      "source": [
        "random_image_size_tensor"
      ],
      "metadata": {
        "colab": {
          "base_uri": "https://localhost:8080/"
        },
        "id": "b4BVM8BL3k69",
        "outputId": "b822b0fd-9911-4b23-e4e8-cf577055c269"
      },
      "execution_count": 69,
      "outputs": [
        {
          "output_type": "execute_result",
          "data": {
            "text/plain": [
              "tensor([[[0.2292, 0.4739, 0.5221,  ..., 0.7601, 0.6934, 0.9427],\n",
              "         [0.1417, 0.1842, 0.4154,  ..., 0.6140, 0.5959, 0.9978],\n",
              "         [0.6442, 0.0191, 0.8151,  ..., 0.2604, 0.4768, 0.2896],\n",
              "         ...,\n",
              "         [0.1894, 0.4683, 0.3957,  ..., 0.4721, 0.2885, 0.4186],\n",
              "         [0.9078, 0.2755, 0.4197,  ..., 0.5812, 0.0643, 0.2363],\n",
              "         [0.7819, 0.3909, 0.2402,  ..., 0.3241, 0.2246, 0.4326]],\n",
              "\n",
              "        [[0.9764, 0.4064, 0.3349,  ..., 0.1565, 0.6356, 0.4457],\n",
              "         [0.9977, 0.8083, 0.8133,  ..., 0.5199, 0.9821, 0.0774],\n",
              "         [0.1756, 0.8394, 0.8904,  ..., 0.3457, 0.8507, 0.0347],\n",
              "         ...,\n",
              "         [0.6930, 0.9103, 0.4138,  ..., 0.2047, 0.1223, 0.2961],\n",
              "         [0.6925, 0.2776, 0.3100,  ..., 0.5552, 0.5215, 0.6500],\n",
              "         [0.8091, 0.0599, 0.6870,  ..., 0.2920, 0.9925, 0.3665]],\n",
              "\n",
              "        [[0.8608, 0.1821, 0.9473,  ..., 0.8234, 0.5772, 0.4541],\n",
              "         [0.2332, 0.9744, 0.5916,  ..., 0.0984, 0.8534, 0.3603],\n",
              "         [0.0917, 0.1364, 0.8104,  ..., 0.4415, 0.5448, 0.2446],\n",
              "         ...,\n",
              "         [0.0810, 0.6057, 0.8974,  ..., 0.3704, 0.5205, 0.9713],\n",
              "         [0.3898, 0.1495, 0.3938,  ..., 0.0544, 0.9586, 0.8448],\n",
              "         [0.8702, 0.1996, 0.6823,  ..., 0.2383, 0.0872, 0.2528]]])"
            ]
          },
          "metadata": {},
          "execution_count": 69
        }
      ]
    },
    {
      "cell_type": "markdown",
      "source": [
        "### Zeroes and ones"
      ],
      "metadata": {
        "id": "KlZxdRKW3m03"
      }
    },
    {
      "cell_type": "code",
      "source": [
        "#Create a tensor of all zeros\n",
        "zeros=torch.zeros(size=(3,224,224))\n",
        "ones=torch.ones(size=(3,224,224))"
      ],
      "metadata": {
        "id": "hXSosj0r4OEW"
      },
      "execution_count": 93,
      "outputs": []
    },
    {
      "cell_type": "code",
      "source": [
        "zeros\n",
        "ones"
      ],
      "metadata": {
        "colab": {
          "base_uri": "https://localhost:8080/"
        },
        "id": "Dn1g2F4q4_nV",
        "outputId": "82ef435c-a72c-4fe8-ad2b-a95cf20c146a"
      },
      "execution_count": 94,
      "outputs": [
        {
          "output_type": "execute_result",
          "data": {
            "text/plain": [
              "tensor([[[1., 1., 1.,  ..., 1., 1., 1.],\n",
              "         [1., 1., 1.,  ..., 1., 1., 1.],\n",
              "         [1., 1., 1.,  ..., 1., 1., 1.],\n",
              "         ...,\n",
              "         [1., 1., 1.,  ..., 1., 1., 1.],\n",
              "         [1., 1., 1.,  ..., 1., 1., 1.],\n",
              "         [1., 1., 1.,  ..., 1., 1., 1.]],\n",
              "\n",
              "        [[1., 1., 1.,  ..., 1., 1., 1.],\n",
              "         [1., 1., 1.,  ..., 1., 1., 1.],\n",
              "         [1., 1., 1.,  ..., 1., 1., 1.],\n",
              "         ...,\n",
              "         [1., 1., 1.,  ..., 1., 1., 1.],\n",
              "         [1., 1., 1.,  ..., 1., 1., 1.],\n",
              "         [1., 1., 1.,  ..., 1., 1., 1.]],\n",
              "\n",
              "        [[1., 1., 1.,  ..., 1., 1., 1.],\n",
              "         [1., 1., 1.,  ..., 1., 1., 1.],\n",
              "         [1., 1., 1.,  ..., 1., 1., 1.],\n",
              "         ...,\n",
              "         [1., 1., 1.,  ..., 1., 1., 1.],\n",
              "         [1., 1., 1.,  ..., 1., 1., 1.],\n",
              "         [1., 1., 1.,  ..., 1., 1., 1.]]])"
            ]
          },
          "metadata": {},
          "execution_count": 94
        }
      ]
    },
    {
      "cell_type": "code",
      "source": [
        "zeros*random_image_size_tensor"
      ],
      "metadata": {
        "colab": {
          "base_uri": "https://localhost:8080/"
        },
        "id": "7Gn10GlQ5BrZ",
        "outputId": "ce13ff39-36a9-4196-a1a2-8f98164a2adf"
      },
      "execution_count": 95,
      "outputs": [
        {
          "output_type": "execute_result",
          "data": {
            "text/plain": [
              "tensor([[[0., 0., 0.,  ..., 0., 0., 0.],\n",
              "         [0., 0., 0.,  ..., 0., 0., 0.],\n",
              "         [0., 0., 0.,  ..., 0., 0., 0.],\n",
              "         ...,\n",
              "         [0., 0., 0.,  ..., 0., 0., 0.],\n",
              "         [0., 0., 0.,  ..., 0., 0., 0.],\n",
              "         [0., 0., 0.,  ..., 0., 0., 0.]],\n",
              "\n",
              "        [[0., 0., 0.,  ..., 0., 0., 0.],\n",
              "         [0., 0., 0.,  ..., 0., 0., 0.],\n",
              "         [0., 0., 0.,  ..., 0., 0., 0.],\n",
              "         ...,\n",
              "         [0., 0., 0.,  ..., 0., 0., 0.],\n",
              "         [0., 0., 0.,  ..., 0., 0., 0.],\n",
              "         [0., 0., 0.,  ..., 0., 0., 0.]],\n",
              "\n",
              "        [[0., 0., 0.,  ..., 0., 0., 0.],\n",
              "         [0., 0., 0.,  ..., 0., 0., 0.],\n",
              "         [0., 0., 0.,  ..., 0., 0., 0.],\n",
              "         ...,\n",
              "         [0., 0., 0.,  ..., 0., 0., 0.],\n",
              "         [0., 0., 0.,  ..., 0., 0., 0.],\n",
              "         [0., 0., 0.,  ..., 0., 0., 0.]]])"
            ]
          },
          "metadata": {},
          "execution_count": 95
        }
      ]
    },
    {
      "cell_type": "code",
      "source": [
        "ones*random_image_size_tensor"
      ],
      "metadata": {
        "colab": {
          "base_uri": "https://localhost:8080/"
        },
        "id": "uR_2LAZD5HuM",
        "outputId": "2276f8d7-e6d7-4b8a-931e-fd15da288d8b"
      },
      "execution_count": 96,
      "outputs": [
        {
          "output_type": "execute_result",
          "data": {
            "text/plain": [
              "tensor([[[0.2292, 0.4739, 0.5221,  ..., 0.7601, 0.6934, 0.9427],\n",
              "         [0.1417, 0.1842, 0.4154,  ..., 0.6140, 0.5959, 0.9978],\n",
              "         [0.6442, 0.0191, 0.8151,  ..., 0.2604, 0.4768, 0.2896],\n",
              "         ...,\n",
              "         [0.1894, 0.4683, 0.3957,  ..., 0.4721, 0.2885, 0.4186],\n",
              "         [0.9078, 0.2755, 0.4197,  ..., 0.5812, 0.0643, 0.2363],\n",
              "         [0.7819, 0.3909, 0.2402,  ..., 0.3241, 0.2246, 0.4326]],\n",
              "\n",
              "        [[0.9764, 0.4064, 0.3349,  ..., 0.1565, 0.6356, 0.4457],\n",
              "         [0.9977, 0.8083, 0.8133,  ..., 0.5199, 0.9821, 0.0774],\n",
              "         [0.1756, 0.8394, 0.8904,  ..., 0.3457, 0.8507, 0.0347],\n",
              "         ...,\n",
              "         [0.6930, 0.9103, 0.4138,  ..., 0.2047, 0.1223, 0.2961],\n",
              "         [0.6925, 0.2776, 0.3100,  ..., 0.5552, 0.5215, 0.6500],\n",
              "         [0.8091, 0.0599, 0.6870,  ..., 0.2920, 0.9925, 0.3665]],\n",
              "\n",
              "        [[0.8608, 0.1821, 0.9473,  ..., 0.8234, 0.5772, 0.4541],\n",
              "         [0.2332, 0.9744, 0.5916,  ..., 0.0984, 0.8534, 0.3603],\n",
              "         [0.0917, 0.1364, 0.8104,  ..., 0.4415, 0.5448, 0.2446],\n",
              "         ...,\n",
              "         [0.0810, 0.6057, 0.8974,  ..., 0.3704, 0.5205, 0.9713],\n",
              "         [0.3898, 0.1495, 0.3938,  ..., 0.0544, 0.9586, 0.8448],\n",
              "         [0.8702, 0.1996, 0.6823,  ..., 0.2383, 0.0872, 0.2528]]])"
            ]
          },
          "metadata": {},
          "execution_count": 96
        }
      ]
    },
    {
      "cell_type": "markdown",
      "source": [
        "### Creating a range of tensors and tensors-like"
      ],
      "metadata": {
        "id": "HhXfNDWe5Y3i"
      }
    },
    {
      "cell_type": "code",
      "source": [
        "#Use torch.arange()\n",
        "torch.arange(1,11)\n"
      ],
      "metadata": {
        "colab": {
          "base_uri": "https://localhost:8080/"
        },
        "id": "63GhvpyS5g0A",
        "outputId": "29121271-904f-42f1-d750-c430286145ee"
      },
      "execution_count": 97,
      "outputs": [
        {
          "output_type": "execute_result",
          "data": {
            "text/plain": [
              "tensor([ 1,  2,  3,  4,  5,  6,  7,  8,  9, 10])"
            ]
          },
          "metadata": {},
          "execution_count": 97
        }
      ]
    },
    {
      "cell_type": "code",
      "source": [
        "one_to_ten=torch.arange(start=1, end=10, step=2)\n",
        "one_to_ten"
      ],
      "metadata": {
        "colab": {
          "base_uri": "https://localhost:8080/"
        },
        "id": "lwFrHgvQ5pJk",
        "outputId": "eff4fa62-d682-48bd-8310-b4f69175a8d4"
      },
      "execution_count": 98,
      "outputs": [
        {
          "output_type": "execute_result",
          "data": {
            "text/plain": [
              "tensor([1, 3, 5, 7, 9])"
            ]
          },
          "metadata": {},
          "execution_count": 98
        }
      ]
    },
    {
      "cell_type": "code",
      "source": [
        "#Creating tensors like\n",
        "ten_zeros=torch.zeros_like(input=one_to_ten)"
      ],
      "metadata": {
        "id": "UI1OirSd6aJ6"
      },
      "execution_count": 99,
      "outputs": []
    },
    {
      "cell_type": "code",
      "source": [
        "ten_zeros"
      ],
      "metadata": {
        "colab": {
          "base_uri": "https://localhost:8080/"
        },
        "id": "P2NGyCyX6t_N",
        "outputId": "52fe3acf-844b-4458-8c5a-49875cf2eea6"
      },
      "execution_count": 100,
      "outputs": [
        {
          "output_type": "execute_result",
          "data": {
            "text/plain": [
              "tensor([0, 0, 0, 0, 0])"
            ]
          },
          "metadata": {},
          "execution_count": 100
        }
      ]
    },
    {
      "cell_type": "markdown",
      "source": [
        "### Tensor datatypes"
      ],
      "metadata": {
        "id": "YmuANE976yHb"
      }
    },
    {
      "cell_type": "code",
      "source": [
        "# Float 32 tensor\n",
        "float_32_tensor=torch.tensor([3.0,6.0,9.0], dtype=torch.float16 #what datatype is the tensor\n",
        "                             , device=None # Device tensor is on\n",
        "                             ,\n",
        "                             requires_grad=False # Whether to track gradient for the tensor\n",
        "                             )\n",
        "float_32_tensor"
      ],
      "metadata": {
        "colab": {
          "base_uri": "https://localhost:8080/"
        },
        "id": "XHJPPwZq7B7p",
        "outputId": "5021930f-f4cb-4279-aa62-f9170627d911"
      },
      "execution_count": 112,
      "outputs": [
        {
          "output_type": "execute_result",
          "data": {
            "text/plain": [
              "tensor([3., 6., 9.], dtype=torch.float16)"
            ]
          },
          "metadata": {},
          "execution_count": 112
        }
      ]
    },
    {
      "cell_type": "code",
      "source": [
        "new_int_tensor_train=torch.rand(3,4)"
      ],
      "metadata": {
        "id": "36SbTyKC7Iaq"
      },
      "execution_count": 128,
      "outputs": []
    },
    {
      "cell_type": "code",
      "source": [
        "new_int_tensor_train"
      ],
      "metadata": {
        "colab": {
          "base_uri": "https://localhost:8080/"
        },
        "id": "BVdaY5BsA_Cc",
        "outputId": "d9a0da9e-7fef-47f7-8054-031321109ba0"
      },
      "execution_count": 129,
      "outputs": [
        {
          "output_type": "execute_result",
          "data": {
            "text/plain": [
              "tensor([[0.7490, 0.6431, 0.3001, 0.8106],\n",
              "        [0.4842, 0.4442, 0.8922, 0.1358],\n",
              "        [0.3437, 0.5209, 0.4544, 0.4313]])"
            ]
          },
          "metadata": {},
          "execution_count": 129
        }
      ]
    },
    {
      "cell_type": "code",
      "source": [
        "# Find details of tensor\n",
        "\n",
        "print(f\"Datatype is: {new_int_tensor_train.dtype}\")\n",
        "print(f\"Shape is: {new_int_tensor_train.shape}\")\n",
        "print(f\"Device is: {new_int_tensor_train.device}\")"
      ],
      "metadata": {
        "colab": {
          "base_uri": "https://localhost:8080/"
        },
        "id": "0ONEZFYECx-a",
        "outputId": "f7fceba7-70eb-4e89-d84d-ca1e32005052"
      },
      "execution_count": 132,
      "outputs": [
        {
          "output_type": "stream",
          "name": "stdout",
          "text": [
            "Datatype is: torch.float32\n",
            "Shape is: torch.Size([3, 4])\n",
            "Device is: cpu\n"
          ]
        }
      ]
    },
    {
      "cell_type": "code",
      "source": [
        "# Change data type\n",
        "change_new_int_tensor_train=new_int_tensor_train.to(torch.float16)\n",
        "change_new_int_tensor_train"
      ],
      "metadata": {
        "colab": {
          "base_uri": "https://localhost:8080/"
        },
        "id": "nbuGUTf8FdzR",
        "outputId": "c8d47f47-6abc-4f26-b76c-b0cc51d235c0"
      },
      "execution_count": 135,
      "outputs": [
        {
          "output_type": "execute_result",
          "data": {
            "text/plain": [
              "tensor([[0.7490, 0.6431, 0.3000, 0.8105],\n",
              "        [0.4841, 0.4441, 0.8921, 0.1357],\n",
              "        [0.3438, 0.5210, 0.4543, 0.4312]], dtype=torch.float16)"
            ]
          },
          "metadata": {},
          "execution_count": 135
        }
      ]
    },
    {
      "cell_type": "markdown",
      "source": [
        "### Manipulating Tensors (tensor operations)\n",
        "\n",
        "Tensor operations:\n",
        "* Addition\n",
        "* Subtraction\n",
        "* Multiplication (element-wise)\n",
        "* Division\n",
        "* Matrix multiplication"
      ],
      "metadata": {
        "id": "rmqflSuPDnLp"
      }
    },
    {
      "cell_type": "markdown",
      "source": [
        "### Matrix multiplication\n",
        "\n",
        "Two ways:\n",
        "1. Element-wise multiplication\n",
        "2. Matrix Multiplication\n",
        "\n",
        "\n"
      ],
      "metadata": {
        "id": "UHpvTzh7D1co"
      }
    },
    {
      "cell_type": "code",
      "source": [
        "tensor1=torch.rand(3,6,5)\n",
        "tensor2=torch.rand(1,5,7)\n",
        "tensor1\n",
        "tensor2"
      ],
      "metadata": {
        "colab": {
          "base_uri": "https://localhost:8080/"
        },
        "id": "YUeUUR1gGScC",
        "outputId": "d7b76b91-9fb4-4ba1-d272-bfc29c8f1b73"
      },
      "execution_count": 159,
      "outputs": [
        {
          "output_type": "execute_result",
          "data": {
            "text/plain": [
              "tensor([[[0.6129, 0.9320, 0.0556, 0.8165, 0.9090, 0.2598, 0.9403],\n",
              "         [0.7089, 0.6851, 0.5877, 0.4151, 0.6725, 0.8502, 0.0209],\n",
              "         [0.4517, 0.4271, 0.1781, 0.4940, 0.0067, 0.1559, 0.0946],\n",
              "         [0.3610, 0.0513, 0.6804, 0.6896, 0.5020, 0.8321, 0.4057],\n",
              "         [0.4360, 0.1643, 0.3302, 0.9462, 0.9120, 0.1140, 0.5942]]])"
            ]
          },
          "metadata": {},
          "execution_count": 159
        }
      ]
    },
    {
      "cell_type": "code",
      "source": [
        "#Matrix multiplication\n",
        "product_ten=torch.matmul(tensor1, tensor2)\n",
        "product_ten"
      ],
      "metadata": {
        "colab": {
          "base_uri": "https://localhost:8080/"
        },
        "id": "TQPLhcmxHobb",
        "outputId": "c2a709c0-d5c0-4d7c-b31a-c3a5581d504a"
      },
      "execution_count": 160,
      "outputs": [
        {
          "output_type": "execute_result",
          "data": {
            "text/plain": [
              "tensor([[[0.9449, 0.6327, 0.7965, 1.4753, 1.2052, 0.8054, 0.8491],\n",
              "         [1.3661, 1.1769, 0.8811, 1.7882, 1.4016, 0.9623, 0.9676],\n",
              "         [1.1146, 0.9943, 0.7545, 1.5192, 1.2678, 0.9007, 0.9625],\n",
              "         [1.3059, 0.9031, 1.2118, 1.7623, 1.6051, 1.3725, 0.9113],\n",
              "         [1.2054, 0.8812, 0.9482, 1.7982, 1.6285, 0.9780, 1.0720],\n",
              "         [1.1144, 0.9659, 0.7008, 1.5252, 1.0301, 0.7648, 0.8481]],\n",
              "\n",
              "        [[1.4432, 1.4896, 0.8184, 1.8835, 1.5796, 1.1111, 1.3469],\n",
              "         [1.7124, 1.5051, 1.3394, 2.0884, 1.6681, 1.7311, 1.1683],\n",
              "         [1.0305, 0.9571, 0.8144, 1.1743, 1.2946, 1.1087, 0.7434],\n",
              "         [0.9995, 0.9516, 0.6911, 0.9997, 1.0205, 0.9091, 0.4760],\n",
              "         [1.6216, 1.6872, 0.9093, 1.7341, 1.6803, 1.2336, 1.0233],\n",
              "         [1.3283, 1.1308, 0.8697, 1.7093, 1.3404, 0.9440, 0.8849]],\n",
              "\n",
              "        [[1.2261, 1.3764, 0.6976, 1.1041, 1.2730, 1.0802, 0.6683],\n",
              "         [1.0916, 0.7733, 0.8653, 1.5889, 1.3921, 0.8687, 0.8690],\n",
              "         [1.9192, 1.6723, 1.3942, 2.4551, 2.1236, 1.6901, 1.4314],\n",
              "         [2.0151, 1.8035, 1.4210, 2.7114, 2.3979, 1.7468, 1.7576],\n",
              "         [0.6842, 0.6105, 0.5459, 1.0087, 0.7872, 0.7272, 0.7331],\n",
              "         [1.2864, 1.1367, 1.0440, 1.6433, 1.3450, 1.3850, 1.0209]]])"
            ]
          },
          "metadata": {},
          "execution_count": 160
        }
      ]
    },
    {
      "cell_type": "code",
      "source": [
        "changed_to_int32=product_ten.to(torch.int32)\n",
        "changed_to_int32"
      ],
      "metadata": {
        "colab": {
          "base_uri": "https://localhost:8080/"
        },
        "id": "7THJlrYRLcRN",
        "outputId": "ad90d4d8-3232-4cc7-dc0c-60c87d557158"
      },
      "execution_count": 162,
      "outputs": [
        {
          "output_type": "execute_result",
          "data": {
            "text/plain": [
              "tensor([[[0, 0, 0, 1, 1, 0, 0],\n",
              "         [1, 1, 0, 1, 1, 0, 0],\n",
              "         [1, 0, 0, 1, 1, 0, 0],\n",
              "         [1, 0, 1, 1, 1, 1, 0],\n",
              "         [1, 0, 0, 1, 1, 0, 1],\n",
              "         [1, 0, 0, 1, 1, 0, 0]],\n",
              "\n",
              "        [[1, 1, 0, 1, 1, 1, 1],\n",
              "         [1, 1, 1, 2, 1, 1, 1],\n",
              "         [1, 0, 0, 1, 1, 1, 0],\n",
              "         [0, 0, 0, 0, 1, 0, 0],\n",
              "         [1, 1, 0, 1, 1, 1, 1],\n",
              "         [1, 1, 0, 1, 1, 0, 0]],\n",
              "\n",
              "        [[1, 1, 0, 1, 1, 1, 0],\n",
              "         [1, 0, 0, 1, 1, 0, 0],\n",
              "         [1, 1, 1, 2, 2, 1, 1],\n",
              "         [2, 1, 1, 2, 2, 1, 1],\n",
              "         [0, 0, 0, 1, 0, 0, 0],\n",
              "         [1, 1, 1, 1, 1, 1, 1]]], dtype=torch.int32)"
            ]
          },
          "metadata": {},
          "execution_count": 162
        }
      ]
    },
    {
      "cell_type": "markdown",
      "source": [
        "### Most common error in Deep Learning: Shape error\n",
        "\n",
        "1. The inner dimension must match\n",
        "2. The resulting matrix would be the outer dimension\n",
        "3. In case, the tensors violate rules 1 and 2, tensor manipulation i.e. transpose can be used. It works by switching axes."
      ],
      "metadata": {
        "id": "3gIQ4UWvHzsH"
      }
    },
    {
      "cell_type": "code",
      "source": [],
      "metadata": {
        "id": "zN_Jq8CmLKd1"
      },
      "execution_count": null,
      "outputs": []
    }
  ]
}