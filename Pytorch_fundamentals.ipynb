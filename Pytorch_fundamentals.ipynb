{
  "nbformat": 4,
  "nbformat_minor": 0,
  "metadata": {
    "colab": {
      "provenance": [],
      "authorship_tag": "ABX9TyP+a875F1ssB/bjeBkUOl7g",
      "include_colab_link": true
    },
    "kernelspec": {
      "name": "python3",
      "display_name": "Python 3"
    },
    "language_info": {
      "name": "python"
    }
  },
  "cells": [
    {
      "cell_type": "markdown",
      "metadata": {
        "id": "view-in-github",
        "colab_type": "text"
      },
      "source": [
        "<a href=\"https://colab.research.google.com/github/shahrukhalam1011-unisa/Pytorch_learning_free_code_camp/blob/main/Pytorch_fundamentals.ipynb\" target=\"_parent\"><img src=\"https://colab.research.google.com/assets/colab-badge.svg\" alt=\"Open In Colab\"/></a>"
      ]
    },
    {
      "cell_type": "code",
      "execution_count": 188,
      "metadata": {
        "colab": {
          "base_uri": "https://localhost:8080/"
        },
        "id": "FCS6foKOw0hI",
        "outputId": "49a68038-da88-45ee-988b-1f840b880df6"
      },
      "outputs": [
        {
          "output_type": "stream",
          "name": "stdout",
          "text": [
            "2.6.0+cu124\n"
          ]
        }
      ],
      "source": [
        "import torch\n",
        "import pandas as pd\n",
        "import numpy as np\n",
        "import matplotlib.pyplot as plt\n",
        "print(torch.__version__)"
      ]
    },
    {
      "cell_type": "markdown",
      "source": [
        "# Introduction to Tensors\n",
        "\n",
        "## Creating tensors\n",
        "\n",
        "Pytorch tensors are created using torch.Tensor() = https://docs.pytorch.org/docs/stable/tensors.html"
      ],
      "metadata": {
        "id": "HwRY7OGk1arK"
      }
    },
    {
      "cell_type": "code",
      "source": [
        "# scalar\n",
        "scalar=torch.tensor(7)\n",
        "scalar"
      ],
      "metadata": {
        "colab": {
          "base_uri": "https://localhost:8080/"
        },
        "id": "eIpJYZvW1TYM",
        "outputId": "1a6657c0-b818-4c56-a259-ebc1377ebaea"
      },
      "execution_count": 189,
      "outputs": [
        {
          "output_type": "execute_result",
          "data": {
            "text/plain": [
              "tensor(7)"
            ]
          },
          "metadata": {},
          "execution_count": 189
        }
      ]
    },
    {
      "cell_type": "code",
      "source": [
        "scalar.ndim"
      ],
      "metadata": {
        "colab": {
          "base_uri": "https://localhost:8080/"
        },
        "id": "xh5dsWRH1qYa",
        "outputId": "a76b2d68-27f8-45d8-a80b-246fd7818e93"
      },
      "execution_count": 190,
      "outputs": [
        {
          "output_type": "execute_result",
          "data": {
            "text/plain": [
              "0"
            ]
          },
          "metadata": {},
          "execution_count": 190
        }
      ]
    },
    {
      "cell_type": "code",
      "source": [
        "# Get tensor back as Python int\n",
        "scalar.item()"
      ],
      "metadata": {
        "colab": {
          "base_uri": "https://localhost:8080/"
        },
        "id": "1xsTmEX_2dSN",
        "outputId": "81c02920-3f9f-4dff-f754-e61257a3e07f"
      },
      "execution_count": 191,
      "outputs": [
        {
          "output_type": "execute_result",
          "data": {
            "text/plain": [
              "7"
            ]
          },
          "metadata": {},
          "execution_count": 191
        }
      ]
    },
    {
      "cell_type": "code",
      "source": [
        "#Vector\n",
        "vector=torch.tensor([7,7])\n",
        "vector"
      ],
      "metadata": {
        "colab": {
          "base_uri": "https://localhost:8080/"
        },
        "id": "zl78cUJn3Onk",
        "outputId": "84e90ed8-c5ab-4e2b-c249-1a5cb94511b6"
      },
      "execution_count": 192,
      "outputs": [
        {
          "output_type": "execute_result",
          "data": {
            "text/plain": [
              "tensor([7, 7])"
            ]
          },
          "metadata": {},
          "execution_count": 192
        }
      ]
    },
    {
      "cell_type": "code",
      "source": [
        "vector.ndim"
      ],
      "metadata": {
        "colab": {
          "base_uri": "https://localhost:8080/"
        },
        "id": "z1AwJ05w3VVs",
        "outputId": "8e648f46-ceb1-4453-e0cb-0ce4abe5ba69"
      },
      "execution_count": 193,
      "outputs": [
        {
          "output_type": "execute_result",
          "data": {
            "text/plain": [
              "1"
            ]
          },
          "metadata": {},
          "execution_count": 193
        }
      ]
    },
    {
      "cell_type": "code",
      "source": [
        "vector.shape"
      ],
      "metadata": {
        "colab": {
          "base_uri": "https://localhost:8080/"
        },
        "id": "McwvRlgn3luD",
        "outputId": "e4d4cfb6-21c7-4745-d62d-fd3038d66490"
      },
      "execution_count": 194,
      "outputs": [
        {
          "output_type": "execute_result",
          "data": {
            "text/plain": [
              "torch.Size([2])"
            ]
          },
          "metadata": {},
          "execution_count": 194
        }
      ]
    },
    {
      "cell_type": "code",
      "source": [
        "#Matrix\n",
        "Matrix=torch.tensor([[7,8],[9,10]])\n",
        "Matrix"
      ],
      "metadata": {
        "colab": {
          "base_uri": "https://localhost:8080/"
        },
        "id": "pp2HDqnJ30Hv",
        "outputId": "039515e2-bba9-4b00-c930-02eb49f9876c"
      },
      "execution_count": 195,
      "outputs": [
        {
          "output_type": "execute_result",
          "data": {
            "text/plain": [
              "tensor([[ 7,  8],\n",
              "        [ 9, 10]])"
            ]
          },
          "metadata": {},
          "execution_count": 195
        }
      ]
    },
    {
      "cell_type": "code",
      "source": [
        "Matrix[1]"
      ],
      "metadata": {
        "colab": {
          "base_uri": "https://localhost:8080/"
        },
        "id": "pwhZKQgz4yl5",
        "outputId": "44f79a99-3820-48b1-b1ab-1391ab1b473f"
      },
      "execution_count": 196,
      "outputs": [
        {
          "output_type": "execute_result",
          "data": {
            "text/plain": [
              "tensor([ 9, 10])"
            ]
          },
          "metadata": {},
          "execution_count": 196
        }
      ]
    },
    {
      "cell_type": "code",
      "source": [
        "Matrix.ndim"
      ],
      "metadata": {
        "colab": {
          "base_uri": "https://localhost:8080/"
        },
        "id": "-qRW-oOb36F4",
        "outputId": "85207d61-18a7-4f90-d11a-391e32afa653"
      },
      "execution_count": 197,
      "outputs": [
        {
          "output_type": "execute_result",
          "data": {
            "text/plain": [
              "2"
            ]
          },
          "metadata": {},
          "execution_count": 197
        }
      ]
    },
    {
      "cell_type": "code",
      "source": [
        "Matrix.shape"
      ],
      "metadata": {
        "colab": {
          "base_uri": "https://localhost:8080/"
        },
        "id": "vFo0KH4V38Y2",
        "outputId": "6b3185d0-52a1-426d-9fe9-d1e4f62f900b"
      },
      "execution_count": 198,
      "outputs": [
        {
          "output_type": "execute_result",
          "data": {
            "text/plain": [
              "torch.Size([2, 2])"
            ]
          },
          "metadata": {},
          "execution_count": 198
        }
      ]
    },
    {
      "cell_type": "code",
      "source": [
        "# Tensor\n",
        "Tensor=torch.tensor([[[1,2,3],[3,6,9],[2,4,5]]])\n",
        "Tensor"
      ],
      "metadata": {
        "colab": {
          "base_uri": "https://localhost:8080/"
        },
        "id": "tJ8SI5lf397b",
        "outputId": "d38a1de9-aa0b-487d-f361-417feab25cf1"
      },
      "execution_count": 199,
      "outputs": [
        {
          "output_type": "execute_result",
          "data": {
            "text/plain": [
              "tensor([[[1, 2, 3],\n",
              "         [3, 6, 9],\n",
              "         [2, 4, 5]]])"
            ]
          },
          "metadata": {},
          "execution_count": 199
        }
      ]
    },
    {
      "cell_type": "code",
      "source": [
        "Tensor.ndim"
      ],
      "metadata": {
        "colab": {
          "base_uri": "https://localhost:8080/"
        },
        "id": "VsL29ecu4PZ6",
        "outputId": "0db47f03-5411-4ea6-d437-103635514bad"
      },
      "execution_count": 200,
      "outputs": [
        {
          "output_type": "execute_result",
          "data": {
            "text/plain": [
              "3"
            ]
          },
          "metadata": {},
          "execution_count": 200
        }
      ]
    },
    {
      "cell_type": "code",
      "source": [
        "Tensor.shape"
      ],
      "metadata": {
        "id": "r5J3JR964TCC",
        "colab": {
          "base_uri": "https://localhost:8080/"
        },
        "outputId": "923ef304-95a3-4104-dd54-77abcc6b2289"
      },
      "execution_count": 201,
      "outputs": [
        {
          "output_type": "execute_result",
          "data": {
            "text/plain": [
              "torch.Size([1, 3, 3])"
            ]
          },
          "metadata": {},
          "execution_count": 201
        }
      ]
    },
    {
      "cell_type": "code",
      "source": [
        "Tensor2=torch.tensor([[[1,2,3,3,3],[2,3,5,3,4],[1,2,1,2,5],[2,3,5,6,1]]])"
      ],
      "metadata": {
        "id": "MXQQmw05xoq4"
      },
      "execution_count": 202,
      "outputs": []
    },
    {
      "cell_type": "code",
      "source": [
        "Tensor2"
      ],
      "metadata": {
        "colab": {
          "base_uri": "https://localhost:8080/"
        },
        "id": "M3oe3L0_yC_X",
        "outputId": "f623ad7e-2aaa-478e-efb4-d51e61c416b7"
      },
      "execution_count": 203,
      "outputs": [
        {
          "output_type": "execute_result",
          "data": {
            "text/plain": [
              "tensor([[[1, 2, 3, 3, 3],\n",
              "         [2, 3, 5, 3, 4],\n",
              "         [1, 2, 1, 2, 5],\n",
              "         [2, 3, 5, 6, 1]]])"
            ]
          },
          "metadata": {},
          "execution_count": 203
        }
      ]
    },
    {
      "cell_type": "code",
      "source": [
        "Tensor2.shape"
      ],
      "metadata": {
        "colab": {
          "base_uri": "https://localhost:8080/"
        },
        "id": "EP_XfJDkyI3F",
        "outputId": "7fc22674-5ee5-472b-d7cc-6b2604535cf0"
      },
      "execution_count": 204,
      "outputs": [
        {
          "output_type": "execute_result",
          "data": {
            "text/plain": [
              "torch.Size([1, 4, 5])"
            ]
          },
          "metadata": {},
          "execution_count": 204
        }
      ]
    },
    {
      "cell_type": "markdown",
      "source": [
        "### Random tensors\n",
        "\n",
        "Required since to start with random numbers and update to better represent the data"
      ],
      "metadata": {
        "id": "T5NZJ0pFzyxE"
      }
    },
    {
      "cell_type": "code",
      "source": [
        "## Create a random tensor of size (3,4)\n",
        "random_tensor=torch.rand(3,4)\n",
        "random_tensor"
      ],
      "metadata": {
        "colab": {
          "base_uri": "https://localhost:8080/"
        },
        "id": "ON7LDKZS0P41",
        "outputId": "e9b008b5-21f9-4de5-c629-e9b944c39a34"
      },
      "execution_count": 205,
      "outputs": [
        {
          "output_type": "execute_result",
          "data": {
            "text/plain": [
              "tensor([[0.5171, 0.6231, 0.2108, 0.2031],\n",
              "        [0.2332, 0.9049, 0.3465, 0.7164],\n",
              "        [0.7801, 0.9004, 0.9806, 0.9059]])"
            ]
          },
          "metadata": {},
          "execution_count": 205
        }
      ]
    },
    {
      "cell_type": "code",
      "source": [
        "random_tensor2=torch.rand(2,3,10)"
      ],
      "metadata": {
        "id": "ZUrF2cKw0ZsH"
      },
      "execution_count": 206,
      "outputs": []
    },
    {
      "cell_type": "code",
      "source": [
        "random_tensor2"
      ],
      "metadata": {
        "colab": {
          "base_uri": "https://localhost:8080/"
        },
        "id": "vHxTbKNr1AMz",
        "outputId": "94fc2b16-7e40-48ff-9589-1cf3c2dfc3f6"
      },
      "execution_count": 207,
      "outputs": [
        {
          "output_type": "execute_result",
          "data": {
            "text/plain": [
              "tensor([[[0.0756, 0.6516, 0.8026, 0.7824, 0.0442, 0.8219, 0.0204, 0.4351,\n",
              "          0.1014, 0.4232],\n",
              "         [0.0093, 0.0584, 0.1769, 0.6879, 0.5258, 0.5293, 0.0814, 0.2703,\n",
              "          0.2632, 0.2379],\n",
              "         [0.4933, 0.1916, 0.8382, 0.7242, 0.5128, 0.8765, 0.8252, 0.4306,\n",
              "          0.7766, 0.3150]],\n",
              "\n",
              "        [[0.6762, 0.7396, 0.8207, 0.4263, 0.4606, 0.6741, 0.8358, 0.2121,\n",
              "          0.0322, 0.2415],\n",
              "         [0.1684, 0.4019, 0.0866, 0.2767, 0.7944, 0.9776, 0.6815, 0.4272,\n",
              "          0.7575, 0.6149],\n",
              "         [0.2285, 0.3682, 0.0388, 0.7422, 0.6135, 0.9870, 0.1590, 0.1305,\n",
              "          0.4798, 0.0945]]])"
            ]
          },
          "metadata": {},
          "execution_count": 207
        }
      ]
    },
    {
      "cell_type": "code",
      "source": [
        "random_tensor2.shape"
      ],
      "metadata": {
        "colab": {
          "base_uri": "https://localhost:8080/"
        },
        "id": "dZeIHRSv1PDP",
        "outputId": "38c426bc-6cdf-4d40-e522-d0edf27f0e90"
      },
      "execution_count": 208,
      "outputs": [
        {
          "output_type": "execute_result",
          "data": {
            "text/plain": [
              "torch.Size([2, 3, 10])"
            ]
          },
          "metadata": {},
          "execution_count": 208
        }
      ]
    },
    {
      "cell_type": "code",
      "source": [
        "random_tensor2.ndim"
      ],
      "metadata": {
        "colab": {
          "base_uri": "https://localhost:8080/"
        },
        "id": "t9wy29F01SPe",
        "outputId": "c98fa1cd-c4e8-423e-d2aa-d9f48217d6f1"
      },
      "execution_count": 209,
      "outputs": [
        {
          "output_type": "execute_result",
          "data": {
            "text/plain": [
              "3"
            ]
          },
          "metadata": {},
          "execution_count": 209
        }
      ]
    },
    {
      "cell_type": "code",
      "source": [
        "random_tensor3=torch.rand(200,344,100)"
      ],
      "metadata": {
        "id": "HgchZ3_b1BYj"
      },
      "execution_count": 210,
      "outputs": []
    },
    {
      "cell_type": "code",
      "source": [
        "random_tensor3"
      ],
      "metadata": {
        "colab": {
          "base_uri": "https://localhost:8080/"
        },
        "id": "p5mQ6ScH1GjX",
        "outputId": "79a7ced9-a75c-45a0-a816-e19be8c038f5"
      },
      "execution_count": 211,
      "outputs": [
        {
          "output_type": "execute_result",
          "data": {
            "text/plain": [
              "tensor([[[0.6163, 0.9879, 0.1173,  ..., 0.0544, 0.2719, 0.8553],\n",
              "         [0.0547, 0.8251, 0.2828,  ..., 0.8234, 0.7579, 0.0852],\n",
              "         [0.8564, 0.7718, 0.9200,  ..., 0.0975, 0.3436, 0.3587],\n",
              "         ...,\n",
              "         [0.5062, 0.4041, 0.3717,  ..., 0.2892, 0.2677, 0.2943],\n",
              "         [0.0828, 0.6850, 0.4448,  ..., 0.9602, 0.2674, 0.8092],\n",
              "         [0.4836, 0.3652, 0.8966,  ..., 0.6052, 0.3965, 0.5757]],\n",
              "\n",
              "        [[0.6866, 0.6815, 0.9323,  ..., 0.3053, 0.4039, 0.6462],\n",
              "         [0.7640, 0.2789, 0.5277,  ..., 0.8802, 0.3009, 0.0475],\n",
              "         [0.7904, 0.6641, 0.8584,  ..., 0.9435, 0.6155, 0.8084],\n",
              "         ...,\n",
              "         [0.9466, 0.6548, 0.0867,  ..., 0.9963, 0.8036, 0.8703],\n",
              "         [0.5236, 0.1560, 0.4145,  ..., 0.7689, 0.5338, 0.1827],\n",
              "         [0.7222, 0.7793, 0.3498,  ..., 0.9752, 0.5436, 0.1609]],\n",
              "\n",
              "        [[0.6033, 0.9406, 0.4601,  ..., 0.5191, 0.3270, 0.7501],\n",
              "         [0.1927, 0.9064, 0.2667,  ..., 0.3163, 0.3693, 0.1451],\n",
              "         [0.7159, 0.0054, 0.9473,  ..., 0.0947, 0.8806, 0.2875],\n",
              "         ...,\n",
              "         [0.1718, 0.3065, 0.1806,  ..., 0.3541, 0.7435, 0.9422],\n",
              "         [0.2157, 0.0430, 0.8499,  ..., 0.0266, 0.0633, 0.2335],\n",
              "         [0.7623, 0.6938, 0.8102,  ..., 0.1957, 0.0723, 0.9949]],\n",
              "\n",
              "        ...,\n",
              "\n",
              "        [[0.0985, 0.9614, 0.1091,  ..., 0.7243, 0.4194, 0.6802],\n",
              "         [0.0676, 0.9069, 0.5336,  ..., 0.4069, 0.6687, 0.6737],\n",
              "         [0.8660, 0.8713, 0.0141,  ..., 0.4760, 0.5586, 0.6037],\n",
              "         ...,\n",
              "         [0.5382, 0.5898, 0.8168,  ..., 0.4985, 0.7057, 0.7541],\n",
              "         [0.0873, 0.1520, 0.0761,  ..., 0.2579, 0.3725, 0.8289],\n",
              "         [0.3635, 0.2713, 0.6887,  ..., 0.0406, 0.0762, 0.6197]],\n",
              "\n",
              "        [[0.1527, 0.1642, 0.9314,  ..., 0.0708, 0.3853, 0.7674],\n",
              "         [0.8257, 0.3977, 0.6031,  ..., 0.3847, 0.7055, 0.5930],\n",
              "         [0.0539, 0.4145, 0.5150,  ..., 0.0327, 0.5416, 0.9793],\n",
              "         ...,\n",
              "         [0.4532, 0.5551, 0.2202,  ..., 0.0206, 0.3836, 0.1308],\n",
              "         [0.8318, 0.9947, 0.6147,  ..., 0.0566, 0.8593, 0.8854],\n",
              "         [0.8779, 0.6954, 0.0828,  ..., 0.8837, 0.1116, 0.7486]],\n",
              "\n",
              "        [[0.1987, 0.5026, 0.7008,  ..., 0.5269, 0.5165, 0.2334],\n",
              "         [0.4556, 0.6806, 0.6142,  ..., 0.2490, 0.6035, 0.4845],\n",
              "         [0.4553, 0.7972, 0.1277,  ..., 0.5568, 0.7253, 0.2514],\n",
              "         ...,\n",
              "         [0.0347, 0.4714, 0.9080,  ..., 0.0540, 0.4246, 0.3050],\n",
              "         [0.0429, 0.6298, 0.5563,  ..., 0.5275, 0.2299, 0.5658],\n",
              "         [0.5410, 0.8082, 0.0716,  ..., 0.7439, 0.0397, 0.4926]]])"
            ]
          },
          "metadata": {},
          "execution_count": 211
        }
      ]
    },
    {
      "cell_type": "code",
      "source": [
        "random_tensor3.shape"
      ],
      "metadata": {
        "colab": {
          "base_uri": "https://localhost:8080/"
        },
        "id": "rJ8RuIHS1Hkm",
        "outputId": "77d3cf09-adef-4b46-de20-a319cfdd94da"
      },
      "execution_count": 212,
      "outputs": [
        {
          "output_type": "execute_result",
          "data": {
            "text/plain": [
              "torch.Size([200, 344, 100])"
            ]
          },
          "metadata": {},
          "execution_count": 212
        }
      ]
    },
    {
      "cell_type": "code",
      "source": [
        "random_tensor3.ndim"
      ],
      "metadata": {
        "colab": {
          "base_uri": "https://localhost:8080/"
        },
        "id": "0RguclY_1XDK",
        "outputId": "fed18680-3ecc-4299-a1fc-86d0438e51c4"
      },
      "execution_count": 213,
      "outputs": [
        {
          "output_type": "execute_result",
          "data": {
            "text/plain": [
              "3"
            ]
          },
          "metadata": {},
          "execution_count": 213
        }
      ]
    },
    {
      "cell_type": "code",
      "source": [
        "random_tensor4=torch.rand(3,2,5,5)"
      ],
      "metadata": {
        "id": "XQ02Aq4X1ee9"
      },
      "execution_count": 214,
      "outputs": []
    },
    {
      "cell_type": "code",
      "source": [
        "random_tensor4"
      ],
      "metadata": {
        "colab": {
          "base_uri": "https://localhost:8080/"
        },
        "id": "MXRnKllr1tbR",
        "outputId": "7be97ef4-20c5-4099-82db-b3238d43e5c1"
      },
      "execution_count": 215,
      "outputs": [
        {
          "output_type": "execute_result",
          "data": {
            "text/plain": [
              "tensor([[[[0.6929, 0.5328, 0.3939, 0.8238, 0.6151],\n",
              "          [0.2563, 0.1753, 0.0665, 0.1514, 0.1087],\n",
              "          [0.5058, 0.8085, 0.9790, 0.8817, 0.1890],\n",
              "          [0.9150, 0.6080, 0.5719, 0.8843, 0.9519],\n",
              "          [0.4485, 0.3353, 0.5134, 0.8633, 0.7027]],\n",
              "\n",
              "         [[0.7873, 0.9176, 0.7584, 0.9102, 0.5876],\n",
              "          [0.4208, 0.5751, 0.4112, 0.3617, 0.1590],\n",
              "          [0.8186, 0.7522, 0.0043, 0.3347, 0.5934],\n",
              "          [0.3688, 0.1030, 0.4225, 0.3013, 0.2990],\n",
              "          [0.4487, 0.3209, 0.8387, 0.7823, 0.4556]]],\n",
              "\n",
              "\n",
              "        [[[0.3930, 0.7958, 0.3698, 0.6981, 0.6665],\n",
              "          [0.2301, 0.7221, 0.9352, 0.7793, 0.7164],\n",
              "          [0.9353, 0.3549, 0.1619, 0.8171, 0.5415],\n",
              "          [0.8869, 0.1359, 0.8052, 0.8200, 0.8935],\n",
              "          [0.7719, 0.4749, 0.4311, 0.2047, 0.1801]],\n",
              "\n",
              "         [[0.5095, 0.8913, 0.9620, 0.9810, 0.0482],\n",
              "          [0.0341, 0.4078, 0.2172, 0.4742, 0.6281],\n",
              "          [0.8429, 0.0871, 0.7349, 0.6162, 0.4063],\n",
              "          [0.3771, 0.7054, 0.6235, 0.0752, 0.2213],\n",
              "          [0.6050, 0.0773, 0.5401, 0.9614, 0.0618]]],\n",
              "\n",
              "\n",
              "        [[[0.8636, 0.7651, 0.7323, 0.6267, 0.0454],\n",
              "          [0.1539, 0.8947, 0.5321, 0.8715, 0.0557],\n",
              "          [0.3995, 0.0192, 0.5828, 0.7704, 0.7820],\n",
              "          [0.6779, 0.1704, 0.6657, 0.3790, 0.1794],\n",
              "          [0.1004, 0.7076, 0.0647, 0.7467, 0.7377]],\n",
              "\n",
              "         [[0.4009, 0.3316, 0.8840, 0.6796, 0.7377],\n",
              "          [0.0278, 0.4427, 0.8790, 0.8062, 0.5509],\n",
              "          [0.1005, 0.5552, 0.4303, 0.0601, 0.6999],\n",
              "          [0.1012, 0.7816, 0.5362, 0.5536, 0.5453],\n",
              "          [0.5744, 0.6449, 0.3303, 0.8182, 0.3785]]]])"
            ]
          },
          "metadata": {},
          "execution_count": 215
        }
      ]
    },
    {
      "cell_type": "code",
      "source": [
        "random_tensor4.ndim"
      ],
      "metadata": {
        "colab": {
          "base_uri": "https://localhost:8080/"
        },
        "id": "b41m78FB1vhR",
        "outputId": "a1e42931-8f61-4987-e6a3-28f6c6302180"
      },
      "execution_count": 216,
      "outputs": [
        {
          "output_type": "execute_result",
          "data": {
            "text/plain": [
              "4"
            ]
          },
          "metadata": {},
          "execution_count": 216
        }
      ]
    },
    {
      "cell_type": "code",
      "source": [
        "# Create a random tensor with similar shape to an image tensor\n",
        "random_image_size_tensor=torch.rand(size=(3,224,224)) # colour channel, height, width"
      ],
      "metadata": {
        "id": "4bYCXj8a1-uj"
      },
      "execution_count": 217,
      "outputs": []
    },
    {
      "cell_type": "code",
      "source": [
        "random_image_size_tensor"
      ],
      "metadata": {
        "colab": {
          "base_uri": "https://localhost:8080/"
        },
        "id": "b4BVM8BL3k69",
        "outputId": "de5e81d5-b37a-431f-eeec-f90329b16c40"
      },
      "execution_count": 218,
      "outputs": [
        {
          "output_type": "execute_result",
          "data": {
            "text/plain": [
              "tensor([[[6.7231e-01, 3.3584e-01, 8.9346e-01,  ..., 9.7069e-01,\n",
              "          6.1053e-01, 1.7418e-01],\n",
              "         [8.5834e-01, 4.8034e-01, 3.3559e-01,  ..., 2.6116e-02,\n",
              "          8.6313e-01, 5.2738e-01],\n",
              "         [9.2035e-01, 8.5595e-01, 4.9174e-01,  ..., 9.7863e-03,\n",
              "          6.0980e-01, 2.0310e-01],\n",
              "         ...,\n",
              "         [7.3422e-01, 8.2593e-01, 8.0287e-01,  ..., 6.9743e-01,\n",
              "          4.4221e-01, 5.5844e-01],\n",
              "         [3.6876e-01, 2.8604e-01, 2.0489e-01,  ..., 5.4430e-01,\n",
              "          1.9217e-01, 7.1993e-01],\n",
              "         [8.2178e-02, 4.6372e-01, 2.4916e-01,  ..., 4.0226e-01,\n",
              "          5.5841e-01, 5.3683e-01]],\n",
              "\n",
              "        [[7.1354e-01, 9.4780e-01, 8.5947e-02,  ..., 6.0146e-01,\n",
              "          8.7530e-01, 5.7043e-01],\n",
              "         [5.1295e-01, 8.4972e-01, 8.7186e-01,  ..., 4.8246e-01,\n",
              "          1.8798e-01, 4.6842e-01],\n",
              "         [5.9705e-01, 3.7840e-01, 9.0804e-01,  ..., 6.3056e-04,\n",
              "          2.1874e-01, 4.3852e-02],\n",
              "         ...,\n",
              "         [4.0990e-01, 4.2090e-01, 5.8550e-01,  ..., 6.9677e-01,\n",
              "          4.1118e-01, 8.1847e-02],\n",
              "         [9.1183e-01, 1.7397e-02, 5.8258e-01,  ..., 8.1140e-01,\n",
              "          3.4110e-01, 3.4890e-01],\n",
              "         [9.8838e-02, 9.5358e-01, 2.2930e-01,  ..., 6.8613e-01,\n",
              "          6.2642e-01, 9.8505e-01]],\n",
              "\n",
              "        [[3.9468e-01, 9.3449e-02, 9.6035e-01,  ..., 5.4733e-01,\n",
              "          7.3184e-01, 9.5144e-01],\n",
              "         [3.6258e-01, 7.7806e-01, 8.2566e-01,  ..., 1.1786e-01,\n",
              "          6.8339e-01, 5.2192e-01],\n",
              "         [2.4005e-01, 3.7124e-01, 7.0604e-01,  ..., 6.8430e-01,\n",
              "          6.9551e-01, 5.4876e-01],\n",
              "         ...,\n",
              "         [1.3656e-01, 8.5264e-01, 3.9458e-01,  ..., 8.6777e-01,\n",
              "          2.2928e-01, 3.8693e-01],\n",
              "         [4.1249e-01, 3.9221e-03, 8.2941e-01,  ..., 6.9015e-01,\n",
              "          4.6491e-01, 1.3076e-01],\n",
              "         [2.1752e-01, 2.0983e-01, 6.1132e-01,  ..., 9.2777e-01,\n",
              "          9.7282e-01, 7.4772e-01]]])"
            ]
          },
          "metadata": {},
          "execution_count": 218
        }
      ]
    },
    {
      "cell_type": "markdown",
      "source": [
        "### Zeroes and ones"
      ],
      "metadata": {
        "id": "KlZxdRKW3m03"
      }
    },
    {
      "cell_type": "code",
      "source": [
        "#Create a tensor of all zeros\n",
        "zeros=torch.zeros(size=(3,224,224))\n",
        "ones=torch.ones(size=(3,224,224))"
      ],
      "metadata": {
        "id": "hXSosj0r4OEW"
      },
      "execution_count": 219,
      "outputs": []
    },
    {
      "cell_type": "code",
      "source": [
        "zeros\n",
        "ones"
      ],
      "metadata": {
        "colab": {
          "base_uri": "https://localhost:8080/"
        },
        "id": "Dn1g2F4q4_nV",
        "outputId": "b2ce74ee-436f-4a53-d8c1-711875fb3d21"
      },
      "execution_count": 220,
      "outputs": [
        {
          "output_type": "execute_result",
          "data": {
            "text/plain": [
              "tensor([[[1., 1., 1.,  ..., 1., 1., 1.],\n",
              "         [1., 1., 1.,  ..., 1., 1., 1.],\n",
              "         [1., 1., 1.,  ..., 1., 1., 1.],\n",
              "         ...,\n",
              "         [1., 1., 1.,  ..., 1., 1., 1.],\n",
              "         [1., 1., 1.,  ..., 1., 1., 1.],\n",
              "         [1., 1., 1.,  ..., 1., 1., 1.]],\n",
              "\n",
              "        [[1., 1., 1.,  ..., 1., 1., 1.],\n",
              "         [1., 1., 1.,  ..., 1., 1., 1.],\n",
              "         [1., 1., 1.,  ..., 1., 1., 1.],\n",
              "         ...,\n",
              "         [1., 1., 1.,  ..., 1., 1., 1.],\n",
              "         [1., 1., 1.,  ..., 1., 1., 1.],\n",
              "         [1., 1., 1.,  ..., 1., 1., 1.]],\n",
              "\n",
              "        [[1., 1., 1.,  ..., 1., 1., 1.],\n",
              "         [1., 1., 1.,  ..., 1., 1., 1.],\n",
              "         [1., 1., 1.,  ..., 1., 1., 1.],\n",
              "         ...,\n",
              "         [1., 1., 1.,  ..., 1., 1., 1.],\n",
              "         [1., 1., 1.,  ..., 1., 1., 1.],\n",
              "         [1., 1., 1.,  ..., 1., 1., 1.]]])"
            ]
          },
          "metadata": {},
          "execution_count": 220
        }
      ]
    },
    {
      "cell_type": "code",
      "source": [
        "zeros*random_image_size_tensor"
      ],
      "metadata": {
        "colab": {
          "base_uri": "https://localhost:8080/"
        },
        "id": "7Gn10GlQ5BrZ",
        "outputId": "647130ed-0e8b-4432-8e3a-043abcb11d7f"
      },
      "execution_count": 221,
      "outputs": [
        {
          "output_type": "execute_result",
          "data": {
            "text/plain": [
              "tensor([[[0., 0., 0.,  ..., 0., 0., 0.],\n",
              "         [0., 0., 0.,  ..., 0., 0., 0.],\n",
              "         [0., 0., 0.,  ..., 0., 0., 0.],\n",
              "         ...,\n",
              "         [0., 0., 0.,  ..., 0., 0., 0.],\n",
              "         [0., 0., 0.,  ..., 0., 0., 0.],\n",
              "         [0., 0., 0.,  ..., 0., 0., 0.]],\n",
              "\n",
              "        [[0., 0., 0.,  ..., 0., 0., 0.],\n",
              "         [0., 0., 0.,  ..., 0., 0., 0.],\n",
              "         [0., 0., 0.,  ..., 0., 0., 0.],\n",
              "         ...,\n",
              "         [0., 0., 0.,  ..., 0., 0., 0.],\n",
              "         [0., 0., 0.,  ..., 0., 0., 0.],\n",
              "         [0., 0., 0.,  ..., 0., 0., 0.]],\n",
              "\n",
              "        [[0., 0., 0.,  ..., 0., 0., 0.],\n",
              "         [0., 0., 0.,  ..., 0., 0., 0.],\n",
              "         [0., 0., 0.,  ..., 0., 0., 0.],\n",
              "         ...,\n",
              "         [0., 0., 0.,  ..., 0., 0., 0.],\n",
              "         [0., 0., 0.,  ..., 0., 0., 0.],\n",
              "         [0., 0., 0.,  ..., 0., 0., 0.]]])"
            ]
          },
          "metadata": {},
          "execution_count": 221
        }
      ]
    },
    {
      "cell_type": "code",
      "source": [
        "ones*random_image_size_tensor"
      ],
      "metadata": {
        "colab": {
          "base_uri": "https://localhost:8080/"
        },
        "id": "uR_2LAZD5HuM",
        "outputId": "f6f17883-fe8e-4720-bfc0-39ab4326d2f4"
      },
      "execution_count": 222,
      "outputs": [
        {
          "output_type": "execute_result",
          "data": {
            "text/plain": [
              "tensor([[[6.7231e-01, 3.3584e-01, 8.9346e-01,  ..., 9.7069e-01,\n",
              "          6.1053e-01, 1.7418e-01],\n",
              "         [8.5834e-01, 4.8034e-01, 3.3559e-01,  ..., 2.6116e-02,\n",
              "          8.6313e-01, 5.2738e-01],\n",
              "         [9.2035e-01, 8.5595e-01, 4.9174e-01,  ..., 9.7863e-03,\n",
              "          6.0980e-01, 2.0310e-01],\n",
              "         ...,\n",
              "         [7.3422e-01, 8.2593e-01, 8.0287e-01,  ..., 6.9743e-01,\n",
              "          4.4221e-01, 5.5844e-01],\n",
              "         [3.6876e-01, 2.8604e-01, 2.0489e-01,  ..., 5.4430e-01,\n",
              "          1.9217e-01, 7.1993e-01],\n",
              "         [8.2178e-02, 4.6372e-01, 2.4916e-01,  ..., 4.0226e-01,\n",
              "          5.5841e-01, 5.3683e-01]],\n",
              "\n",
              "        [[7.1354e-01, 9.4780e-01, 8.5947e-02,  ..., 6.0146e-01,\n",
              "          8.7530e-01, 5.7043e-01],\n",
              "         [5.1295e-01, 8.4972e-01, 8.7186e-01,  ..., 4.8246e-01,\n",
              "          1.8798e-01, 4.6842e-01],\n",
              "         [5.9705e-01, 3.7840e-01, 9.0804e-01,  ..., 6.3056e-04,\n",
              "          2.1874e-01, 4.3852e-02],\n",
              "         ...,\n",
              "         [4.0990e-01, 4.2090e-01, 5.8550e-01,  ..., 6.9677e-01,\n",
              "          4.1118e-01, 8.1847e-02],\n",
              "         [9.1183e-01, 1.7397e-02, 5.8258e-01,  ..., 8.1140e-01,\n",
              "          3.4110e-01, 3.4890e-01],\n",
              "         [9.8838e-02, 9.5358e-01, 2.2930e-01,  ..., 6.8613e-01,\n",
              "          6.2642e-01, 9.8505e-01]],\n",
              "\n",
              "        [[3.9468e-01, 9.3449e-02, 9.6035e-01,  ..., 5.4733e-01,\n",
              "          7.3184e-01, 9.5144e-01],\n",
              "         [3.6258e-01, 7.7806e-01, 8.2566e-01,  ..., 1.1786e-01,\n",
              "          6.8339e-01, 5.2192e-01],\n",
              "         [2.4005e-01, 3.7124e-01, 7.0604e-01,  ..., 6.8430e-01,\n",
              "          6.9551e-01, 5.4876e-01],\n",
              "         ...,\n",
              "         [1.3656e-01, 8.5264e-01, 3.9458e-01,  ..., 8.6777e-01,\n",
              "          2.2928e-01, 3.8693e-01],\n",
              "         [4.1249e-01, 3.9221e-03, 8.2941e-01,  ..., 6.9015e-01,\n",
              "          4.6491e-01, 1.3076e-01],\n",
              "         [2.1752e-01, 2.0983e-01, 6.1132e-01,  ..., 9.2777e-01,\n",
              "          9.7282e-01, 7.4772e-01]]])"
            ]
          },
          "metadata": {},
          "execution_count": 222
        }
      ]
    },
    {
      "cell_type": "markdown",
      "source": [
        "### Creating a range of tensors and tensors-like"
      ],
      "metadata": {
        "id": "HhXfNDWe5Y3i"
      }
    },
    {
      "cell_type": "code",
      "source": [
        "#Use torch.arange()\n",
        "torch.arange(1,11)\n"
      ],
      "metadata": {
        "colab": {
          "base_uri": "https://localhost:8080/"
        },
        "id": "63GhvpyS5g0A",
        "outputId": "220d46c9-eac5-4cb1-9080-9275f1c073f4"
      },
      "execution_count": 223,
      "outputs": [
        {
          "output_type": "execute_result",
          "data": {
            "text/plain": [
              "tensor([ 1,  2,  3,  4,  5,  6,  7,  8,  9, 10])"
            ]
          },
          "metadata": {},
          "execution_count": 223
        }
      ]
    },
    {
      "cell_type": "code",
      "source": [
        "one_to_ten=torch.arange(start=1, end=10, step=2)\n",
        "one_to_ten"
      ],
      "metadata": {
        "colab": {
          "base_uri": "https://localhost:8080/"
        },
        "id": "lwFrHgvQ5pJk",
        "outputId": "257783cc-f302-4570-9519-948db2a53035"
      },
      "execution_count": 224,
      "outputs": [
        {
          "output_type": "execute_result",
          "data": {
            "text/plain": [
              "tensor([1, 3, 5, 7, 9])"
            ]
          },
          "metadata": {},
          "execution_count": 224
        }
      ]
    },
    {
      "cell_type": "code",
      "source": [
        "#Creating tensors like\n",
        "ten_zeros=torch.zeros_like(input=one_to_ten)"
      ],
      "metadata": {
        "id": "UI1OirSd6aJ6"
      },
      "execution_count": 225,
      "outputs": []
    },
    {
      "cell_type": "code",
      "source": [
        "ten_zeros"
      ],
      "metadata": {
        "colab": {
          "base_uri": "https://localhost:8080/"
        },
        "id": "P2NGyCyX6t_N",
        "outputId": "57619adc-1009-43f6-cc32-97c52564b837"
      },
      "execution_count": 226,
      "outputs": [
        {
          "output_type": "execute_result",
          "data": {
            "text/plain": [
              "tensor([0, 0, 0, 0, 0])"
            ]
          },
          "metadata": {},
          "execution_count": 226
        }
      ]
    },
    {
      "cell_type": "markdown",
      "source": [
        "### Tensor datatypes"
      ],
      "metadata": {
        "id": "YmuANE976yHb"
      }
    },
    {
      "cell_type": "code",
      "source": [
        "# Float 32 tensor\n",
        "float_32_tensor=torch.tensor([3.0,6.0,9.0], dtype=torch.float16 #what datatype is the tensor\n",
        "                             , device=None # Device tensor is on\n",
        "                             ,\n",
        "                             requires_grad=False # Whether to track gradient for the tensor\n",
        "                             )\n",
        "float_32_tensor"
      ],
      "metadata": {
        "colab": {
          "base_uri": "https://localhost:8080/"
        },
        "id": "XHJPPwZq7B7p",
        "outputId": "a38a6e68-e7b7-4409-a84a-3fb5f0c3bc6e"
      },
      "execution_count": 227,
      "outputs": [
        {
          "output_type": "execute_result",
          "data": {
            "text/plain": [
              "tensor([3., 6., 9.], dtype=torch.float16)"
            ]
          },
          "metadata": {},
          "execution_count": 227
        }
      ]
    },
    {
      "cell_type": "code",
      "source": [
        "new_int_tensor_train=torch.rand(3,4)"
      ],
      "metadata": {
        "id": "36SbTyKC7Iaq"
      },
      "execution_count": 228,
      "outputs": []
    },
    {
      "cell_type": "code",
      "source": [
        "new_int_tensor_train"
      ],
      "metadata": {
        "colab": {
          "base_uri": "https://localhost:8080/"
        },
        "id": "BVdaY5BsA_Cc",
        "outputId": "5651b6f5-cc71-4154-f7c4-1458b360defb"
      },
      "execution_count": 229,
      "outputs": [
        {
          "output_type": "execute_result",
          "data": {
            "text/plain": [
              "tensor([[0.7723, 0.7515, 0.6477, 0.8117],\n",
              "        [0.7533, 0.0176, 0.6170, 0.9605],\n",
              "        [0.8636, 0.1910, 0.7271, 0.9177]])"
            ]
          },
          "metadata": {},
          "execution_count": 229
        }
      ]
    },
    {
      "cell_type": "code",
      "source": [
        "# Find details of tensor\n",
        "\n",
        "print(f\"Datatype is: {new_int_tensor_train.dtype}\")\n",
        "print(f\"Shape is: {new_int_tensor_train.shape}\")\n",
        "print(f\"Device is: {new_int_tensor_train.device}\")"
      ],
      "metadata": {
        "colab": {
          "base_uri": "https://localhost:8080/"
        },
        "id": "0ONEZFYECx-a",
        "outputId": "9e29138a-e222-47f0-96ea-e88937317531"
      },
      "execution_count": 230,
      "outputs": [
        {
          "output_type": "stream",
          "name": "stdout",
          "text": [
            "Datatype is: torch.float32\n",
            "Shape is: torch.Size([3, 4])\n",
            "Device is: cpu\n"
          ]
        }
      ]
    },
    {
      "cell_type": "code",
      "source": [
        "# Change data type\n",
        "change_new_int_tensor_train=new_int_tensor_train.to(torch.float16)\n",
        "change_new_int_tensor_train"
      ],
      "metadata": {
        "colab": {
          "base_uri": "https://localhost:8080/"
        },
        "id": "nbuGUTf8FdzR",
        "outputId": "8f3a95fd-8160-414e-f086-dfe3c4fb4fda"
      },
      "execution_count": 231,
      "outputs": [
        {
          "output_type": "execute_result",
          "data": {
            "text/plain": [
              "tensor([[0.7725, 0.7515, 0.6475, 0.8115],\n",
              "        [0.7534, 0.0176, 0.6172, 0.9604],\n",
              "        [0.8638, 0.1910, 0.7271, 0.9175]], dtype=torch.float16)"
            ]
          },
          "metadata": {},
          "execution_count": 231
        }
      ]
    },
    {
      "cell_type": "markdown",
      "source": [
        "### Manipulating Tensors (tensor operations)\n",
        "\n",
        "Tensor operations:\n",
        "* Addition\n",
        "* Subtraction\n",
        "* Multiplication (element-wise)\n",
        "* Division\n",
        "* Matrix multiplication"
      ],
      "metadata": {
        "id": "rmqflSuPDnLp"
      }
    },
    {
      "cell_type": "markdown",
      "source": [
        "### Matrix multiplication\n",
        "\n",
        "Two ways:\n",
        "1. Element-wise multiplication\n",
        "2. Matrix Multiplication\n",
        "\n",
        "\n"
      ],
      "metadata": {
        "id": "UHpvTzh7D1co"
      }
    },
    {
      "cell_type": "code",
      "source": [
        "tensor1=torch.rand(3,6,5)\n",
        "tensor2=torch.rand(1,5,7)\n",
        "tensor1\n",
        "tensor2"
      ],
      "metadata": {
        "colab": {
          "base_uri": "https://localhost:8080/"
        },
        "id": "YUeUUR1gGScC",
        "outputId": "ff40d63e-29c7-4bc9-b814-df643093f693"
      },
      "execution_count": 232,
      "outputs": [
        {
          "output_type": "execute_result",
          "data": {
            "text/plain": [
              "tensor([[[0.5911, 0.5377, 0.4924, 0.9721, 0.9265, 0.7610, 0.7758],\n",
              "         [0.7245, 0.0019, 0.8647, 0.2973, 0.8680, 0.5597, 0.0253],\n",
              "         [0.3748, 0.6516, 0.2832, 0.5431, 0.1539, 0.0505, 0.4156],\n",
              "         [0.0284, 0.6535, 0.5802, 0.3887, 0.0419, 0.8700, 0.1058],\n",
              "         [0.2308, 0.5740, 0.1671, 0.2685, 0.4550, 0.9625, 0.0056]]])"
            ]
          },
          "metadata": {},
          "execution_count": 232
        }
      ]
    },
    {
      "cell_type": "code",
      "source": [
        "#Matrix multiplication\n",
        "product_ten=torch.matmul(tensor1, tensor2)\n",
        "product_ten"
      ],
      "metadata": {
        "colab": {
          "base_uri": "https://localhost:8080/"
        },
        "id": "TQPLhcmxHobb",
        "outputId": "2b35dcc0-cc28-4c9f-d5fa-11b411c5c87c"
      },
      "execution_count": 233,
      "outputs": [
        {
          "output_type": "execute_result",
          "data": {
            "text/plain": [
              "tensor([[[1.0859, 1.2648, 1.0809, 1.3074, 1.2447, 1.3462, 0.7819],\n",
              "         [1.3589, 1.6060, 1.6119, 1.5847, 1.6218, 2.0555, 0.8138],\n",
              "         [1.3756, 1.3635, 1.9404, 1.6710, 1.8995, 2.4344, 0.8483],\n",
              "         [1.1909, 1.0923, 1.3939, 1.1587, 1.5256, 1.8077, 0.5017],\n",
              "         [0.8945, 1.4636, 1.1548, 1.3182, 1.3077, 2.1246, 0.6535],\n",
              "         [0.4021, 0.6550, 0.5928, 0.5509, 0.5838, 1.0285, 0.2214]],\n",
              "\n",
              "        [[0.5552, 0.9869, 0.8734, 0.7967, 0.8602, 1.6276, 0.2924],\n",
              "         [1.0460, 1.8469, 1.3749, 1.5610, 1.2093, 2.0318, 0.8257],\n",
              "         [1.0689, 1.1446, 1.3165, 1.0441, 1.1520, 1.4393, 0.4406],\n",
              "         [0.6850, 0.7275, 0.6189, 1.0534, 1.0640, 1.0747, 0.7552],\n",
              "         [1.0532, 1.0879, 1.3568, 1.0477, 1.3660, 1.8392, 0.3909],\n",
              "         [1.2034, 1.6180, 1.6490, 1.7646, 1.4245, 1.8918, 1.0651]],\n",
              "\n",
              "        [[1.2055, 1.0583, 1.3019, 1.0759, 1.3581, 1.4214, 0.4814],\n",
              "         [0.8953, 0.9835, 1.0718, 1.1656, 1.2287, 1.4846, 0.6737],\n",
              "         [1.1281, 1.1677, 1.5426, 1.2387, 1.3830, 1.7904, 0.5689],\n",
              "         [0.9161, 1.2479, 1.1211, 1.4055, 1.2715, 1.6719, 0.8692],\n",
              "         [1.0487, 1.2623, 1.1364, 1.3228, 1.5168, 1.9636, 0.7035],\n",
              "         [0.5374, 0.8966, 1.0632, 0.7614, 0.6861, 1.3892, 0.2742]]])"
            ]
          },
          "metadata": {},
          "execution_count": 233
        }
      ]
    },
    {
      "cell_type": "code",
      "source": [
        "changed_to_int32=product_ten.to(torch.int32)\n",
        "changed_to_int32"
      ],
      "metadata": {
        "colab": {
          "base_uri": "https://localhost:8080/"
        },
        "id": "7THJlrYRLcRN",
        "outputId": "03460b66-4936-41b5-bc89-5fefc8a61294"
      },
      "execution_count": 234,
      "outputs": [
        {
          "output_type": "execute_result",
          "data": {
            "text/plain": [
              "tensor([[[1, 1, 1, 1, 1, 1, 0],\n",
              "         [1, 1, 1, 1, 1, 2, 0],\n",
              "         [1, 1, 1, 1, 1, 2, 0],\n",
              "         [1, 1, 1, 1, 1, 1, 0],\n",
              "         [0, 1, 1, 1, 1, 2, 0],\n",
              "         [0, 0, 0, 0, 0, 1, 0]],\n",
              "\n",
              "        [[0, 0, 0, 0, 0, 1, 0],\n",
              "         [1, 1, 1, 1, 1, 2, 0],\n",
              "         [1, 1, 1, 1, 1, 1, 0],\n",
              "         [0, 0, 0, 1, 1, 1, 0],\n",
              "         [1, 1, 1, 1, 1, 1, 0],\n",
              "         [1, 1, 1, 1, 1, 1, 1]],\n",
              "\n",
              "        [[1, 1, 1, 1, 1, 1, 0],\n",
              "         [0, 0, 1, 1, 1, 1, 0],\n",
              "         [1, 1, 1, 1, 1, 1, 0],\n",
              "         [0, 1, 1, 1, 1, 1, 0],\n",
              "         [1, 1, 1, 1, 1, 1, 0],\n",
              "         [0, 0, 1, 0, 0, 1, 0]]], dtype=torch.int32)"
            ]
          },
          "metadata": {},
          "execution_count": 234
        }
      ]
    },
    {
      "cell_type": "markdown",
      "source": [
        "### Most common error in Deep Learning: Shape error\n",
        "\n",
        "1. The inner dimension must match\n",
        "2. The resulting matrix would be the outer dimension\n",
        "3. In case, the tensors violate rules 1 and 2, tensor manipulation i.e. transpose can be used. It works by switching axes."
      ],
      "metadata": {
        "id": "3gIQ4UWvHzsH"
      }
    },
    {
      "cell_type": "code",
      "source": [
        "Tensor_A=torch.tensor([[1,2],[3,4],[5,6]])\n",
        "Tensor_B=torch.tensor([[5,3],[2,6],[1,8]])\n",
        "Tensor_A\n",
        "Tensor_B\n",
        "Tensor_A.shape\n",
        "Tensor_B.shape\n",
        "Tensor_C=torch.matmul(Tensor_A,Tensor_B)\n",
        "Tensor_C"
      ],
      "metadata": {
        "colab": {
          "base_uri": "https://localhost:8080/",
          "height": 201
        },
        "id": "zN_Jq8CmLKd1",
        "outputId": "326751c1-3807-4619-9c0b-a5fb60c295c5"
      },
      "execution_count": 235,
      "outputs": [
        {
          "output_type": "error",
          "ename": "RuntimeError",
          "evalue": "mat1 and mat2 shapes cannot be multiplied (3x2 and 3x2)",
          "traceback": [
            "\u001b[0;31m---------------------------------------------------------------------------\u001b[0m",
            "\u001b[0;31mRuntimeError\u001b[0m                              Traceback (most recent call last)",
            "\u001b[0;32m<ipython-input-235-2d9b57599748>\u001b[0m in \u001b[0;36m<cell line: 0>\u001b[0;34m()\u001b[0m\n\u001b[1;32m      5\u001b[0m \u001b[0mTensor_A\u001b[0m\u001b[0;34m.\u001b[0m\u001b[0mshape\u001b[0m\u001b[0;34m\u001b[0m\u001b[0;34m\u001b[0m\u001b[0m\n\u001b[1;32m      6\u001b[0m \u001b[0mTensor_B\u001b[0m\u001b[0;34m.\u001b[0m\u001b[0mshape\u001b[0m\u001b[0;34m\u001b[0m\u001b[0;34m\u001b[0m\u001b[0m\n\u001b[0;32m----> 7\u001b[0;31m \u001b[0mTensor_C\u001b[0m\u001b[0;34m=\u001b[0m\u001b[0mtorch\u001b[0m\u001b[0;34m.\u001b[0m\u001b[0mmatmul\u001b[0m\u001b[0;34m(\u001b[0m\u001b[0mTensor_A\u001b[0m\u001b[0;34m,\u001b[0m\u001b[0mTensor_B\u001b[0m\u001b[0;34m)\u001b[0m\u001b[0;34m\u001b[0m\u001b[0;34m\u001b[0m\u001b[0m\n\u001b[0m\u001b[1;32m      8\u001b[0m \u001b[0mTensor_C\u001b[0m\u001b[0;34m\u001b[0m\u001b[0;34m\u001b[0m\u001b[0m\n",
            "\u001b[0;31mRuntimeError\u001b[0m: mat1 and mat2 shapes cannot be multiplied (3x2 and 3x2)"
          ]
        }
      ]
    },
    {
      "cell_type": "code",
      "source": [
        "# To resolve the above use transpose\n",
        "Trans_Tensor_B=Tensor_B.T\n",
        "Trans_Tensor_B"
      ],
      "metadata": {
        "colab": {
          "base_uri": "https://localhost:8080/"
        },
        "id": "zQxDt5iAN_DK",
        "outputId": "8c11c384-5867-46f1-8443-dbcbf807b8eb"
      },
      "execution_count": 236,
      "outputs": [
        {
          "output_type": "execute_result",
          "data": {
            "text/plain": [
              "tensor([[5, 2, 1],\n",
              "        [3, 6, 8]])"
            ]
          },
          "metadata": {},
          "execution_count": 236
        }
      ]
    },
    {
      "cell_type": "code",
      "source": [
        "Tensor_C=torch.matmul(Tensor_A,Trans_Tensor_B)\n",
        "Tensor_C"
      ],
      "metadata": {
        "colab": {
          "base_uri": "https://localhost:8080/"
        },
        "id": "PWELNOMgPiKr",
        "outputId": "b37b20d5-b11d-42df-8541-743f61aa250d"
      },
      "execution_count": 237,
      "outputs": [
        {
          "output_type": "execute_result",
          "data": {
            "text/plain": [
              "tensor([[11, 14, 17],\n",
              "        [27, 30, 35],\n",
              "        [43, 46, 53]])"
            ]
          },
          "metadata": {},
          "execution_count": 237
        }
      ]
    },
    {
      "cell_type": "code",
      "source": [
        "Tensor_A.shape\n",
        "Trans_Tensor_B.shape"
      ],
      "metadata": {
        "colab": {
          "base_uri": "https://localhost:8080/"
        },
        "id": "lg6-1Nw8PnPX",
        "outputId": "03d4fa42-341a-4855-8a92-5df8f1d9b678"
      },
      "execution_count": 238,
      "outputs": [
        {
          "output_type": "execute_result",
          "data": {
            "text/plain": [
              "torch.Size([2, 3])"
            ]
          },
          "metadata": {},
          "execution_count": 238
        }
      ]
    },
    {
      "cell_type": "markdown",
      "source": [
        "### Position of Tensor elements (pixels, data etc)"
      ],
      "metadata": {
        "id": "mhZAPQzycSfq"
      }
    },
    {
      "cell_type": "code",
      "source": [
        "tensor_4D=torch.rand(3,6,2,1)\n",
        "tensor_4D"
      ],
      "metadata": {
        "colab": {
          "base_uri": "https://localhost:8080/"
        },
        "id": "fosEdv--Pr21",
        "outputId": "e8417acc-83a6-4435-d4be-0f9da79637ca"
      },
      "execution_count": 239,
      "outputs": [
        {
          "output_type": "execute_result",
          "data": {
            "text/plain": [
              "tensor([[[[0.2216],\n",
              "          [0.3153]],\n",
              "\n",
              "         [[0.6466],\n",
              "          [0.9978]],\n",
              "\n",
              "         [[0.0865],\n",
              "          [0.4641]],\n",
              "\n",
              "         [[0.3623],\n",
              "          [0.8710]],\n",
              "\n",
              "         [[0.4526],\n",
              "          [0.4830]],\n",
              "\n",
              "         [[0.0354],\n",
              "          [0.4828]]],\n",
              "\n",
              "\n",
              "        [[[0.2480],\n",
              "          [0.7569]],\n",
              "\n",
              "         [[0.7820],\n",
              "          [0.9949]],\n",
              "\n",
              "         [[0.0045],\n",
              "          [0.6014]],\n",
              "\n",
              "         [[0.5795],\n",
              "          [0.9924]],\n",
              "\n",
              "         [[0.1128],\n",
              "          [0.7135]],\n",
              "\n",
              "         [[0.6700],\n",
              "          [0.6137]]],\n",
              "\n",
              "\n",
              "        [[[0.1604],\n",
              "          [0.9513]],\n",
              "\n",
              "         [[0.9152],\n",
              "          [0.5119]],\n",
              "\n",
              "         [[0.1887],\n",
              "          [0.7121]],\n",
              "\n",
              "         [[0.0911],\n",
              "          [0.0075]],\n",
              "\n",
              "         [[0.4027],\n",
              "          [0.7819]],\n",
              "\n",
              "         [[0.4399],\n",
              "          [0.4332]]]])"
            ]
          },
          "metadata": {},
          "execution_count": 239
        }
      ]
    },
    {
      "cell_type": "code",
      "source": [
        "position_min=tensor_4D.argmin()"
      ],
      "metadata": {
        "id": "hHIIwAFSXezl"
      },
      "execution_count": 240,
      "outputs": []
    },
    {
      "cell_type": "code",
      "source": [
        "position_min"
      ],
      "metadata": {
        "colab": {
          "base_uri": "https://localhost:8080/"
        },
        "id": "iUtAhWzaXi_W",
        "outputId": "fc87b4ba-6c38-483f-d7d6-f394dd72b555"
      },
      "execution_count": 241,
      "outputs": [
        {
          "output_type": "execute_result",
          "data": {
            "text/plain": [
              "tensor(16)"
            ]
          },
          "metadata": {},
          "execution_count": 241
        }
      ]
    },
    {
      "cell_type": "code",
      "source": [
        "position_max=tensor_4D.argmax()\n",
        "position_max"
      ],
      "metadata": {
        "colab": {
          "base_uri": "https://localhost:8080/"
        },
        "id": "af5HM1uoXpcj",
        "outputId": "cd796aea-06a9-4925-bcd4-f5b00f98f70b"
      },
      "execution_count": 242,
      "outputs": [
        {
          "output_type": "execute_result",
          "data": {
            "text/plain": [
              "tensor(3)"
            ]
          },
          "metadata": {},
          "execution_count": 242
        }
      ]
    },
    {
      "cell_type": "markdown",
      "source": [
        "### Reshaping, stacking, squeezing and unsqueezing tensors\n",
        "\n",
        "* Reshaping - reshapes an input tensor to a defined shape\n",
        "* View - Return a view of an input tensor of certain shape but keep the same memory as the original tensor\n",
        "* Stacking - combine multiple tensors on top of each other (vstack) or side by side (hstack)\n",
        "* Squeeze - removes all 1 dimensions from a tensor\n",
        "* Unsqueeze - add a 1 dimension to a target tensor\n",
        "*Permute - Return a view of the input with dimensions permuted (swapped) in a certain way"
      ],
      "metadata": {
        "id": "iyc7YaZcYHaZ"
      }
    },
    {
      "cell_type": "code",
      "source": [
        "x=torch.arange(2., 10.)\n",
        "x, x.shape"
      ],
      "metadata": {
        "colab": {
          "base_uri": "https://localhost:8080/"
        },
        "id": "ju3Nd7vNrX63",
        "outputId": "ceb44d4a-02f8-40f3-a71c-a034ad2a41cc"
      },
      "execution_count": 263,
      "outputs": [
        {
          "output_type": "execute_result",
          "data": {
            "text/plain": [
              "(tensor([2., 3., 4., 5., 6., 7., 8., 9.]), torch.Size([8]))"
            ]
          },
          "metadata": {},
          "execution_count": 263
        }
      ]
    },
    {
      "cell_type": "code",
      "source": [
        "# Add an extra dimension (note that the size must match i.e. 4*2 or 2*4 = 8)\n",
        "x_reshaped=x.reshape(4,2)\n",
        "print(x_reshaped, x_reshaped.shape)\n",
        "x_reshaped2=x.reshape(2,4)\n",
        "print(x_reshaped2, x_reshaped.shape)"
      ],
      "metadata": {
        "colab": {
          "base_uri": "https://localhost:8080/"
        },
        "id": "g_7idsiDuV4_",
        "outputId": "dd4d2c08-41e0-4ce1-9636-45c328a166c4"
      },
      "execution_count": 264,
      "outputs": [
        {
          "output_type": "stream",
          "name": "stdout",
          "text": [
            "tensor([[2., 3.],\n",
            "        [4., 5.],\n",
            "        [6., 7.],\n",
            "        [8., 9.]]) torch.Size([4, 2])\n",
            "tensor([[2., 3., 4., 5.],\n",
            "        [6., 7., 8., 9.]]) torch.Size([4, 2])\n"
          ]
        }
      ]
    },
    {
      "cell_type": "code",
      "source": [
        "# Change the view\n",
        "z=x.view(1,8)\n",
        "z, z.shape"
      ],
      "metadata": {
        "colab": {
          "base_uri": "https://localhost:8080/"
        },
        "id": "R1g0Pa79usni",
        "outputId": "26827d7b-d223-461a-9517-4be37fd2ae73"
      },
      "execution_count": 267,
      "outputs": [
        {
          "output_type": "execute_result",
          "data": {
            "text/plain": [
              "(tensor([[2., 3., 4., 5., 6., 7., 8., 9.]]), torch.Size([1, 8]))"
            ]
          },
          "metadata": {},
          "execution_count": 267
        }
      ]
    },
    {
      "cell_type": "code",
      "source": [
        "# Changing z changes x (due to view of a tensor sharing same memory)\n",
        "z[:,0] = 5\n",
        "z, x"
      ],
      "metadata": {
        "colab": {
          "base_uri": "https://localhost:8080/"
        },
        "id": "yb1pWjkSwDvS",
        "outputId": "47e87a73-4f69-4244-c9b9-92bcb1e2b514"
      },
      "execution_count": 268,
      "outputs": [
        {
          "output_type": "execute_result",
          "data": {
            "text/plain": [
              "(tensor([[5., 3., 4., 5., 6., 7., 8., 9.]]),\n",
              " tensor([5., 3., 4., 5., 6., 7., 8., 9.]))"
            ]
          },
          "metadata": {},
          "execution_count": 268
        }
      ]
    },
    {
      "cell_type": "code",
      "source": [],
      "metadata": {
        "id": "EDI62bN7wev1"
      },
      "execution_count": null,
      "outputs": []
    }
  ]
}